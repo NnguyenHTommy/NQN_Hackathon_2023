{
 "cells": [
  {
   "cell_type": "code",
   "execution_count": 1,
   "id": "66e93327",
   "metadata": {
    "ExecuteTime": {
     "end_time": "2023-01-22T06:55:49.492005Z",
     "start_time": "2023-01-22T06:55:48.373129Z"
    }
   },
   "outputs": [],
   "source": [
    "from qiskit_ionq import IonQProvider, GPIGate, GPI2Gate\n",
    "from qiskit.providers.jobstatus import JobStatus\n",
    "\n",
    "\n",
    "import numpy as np\n",
    "import matplotlib.pyplot as plt"
   ]
  },
  {
   "cell_type": "code",
   "execution_count": 52,
   "id": "b8b9094e",
   "metadata": {
    "ExecuteTime": {
     "end_time": "2023-01-22T06:56:01.990844Z",
     "start_time": "2023-01-22T06:55:58.408338Z"
    }
   },
   "outputs": [],
   "source": [
    "from azure.quantum.qiskit import AzureQuantumProvider\n",
    "\n",
    "#paste your Resource id here\n",
    "resource_id = \"/subscriptions/3ebb6852-5bbd-4d66-a93f-55303a44271e/resourceGroups/AzureQuantum/providers/Microsoft.Quantum/Workspaces/PHYS576\"\n",
    "\n",
    "#Import your azure quantum provider resource_id\n",
    "provider = AzureQuantumProvider (\n",
    "    resource_id = resource_id,\n",
    "    location = \"westus\"\n",
    ")\n",
    "\n",
    "from qiskit.providers.aer import QasmSimulator\n",
    "qasm_backend = QasmSimulator()\n",
    "\n",
    "sim_backend_qis = provider.get_backend('ionq.simulator', gateset='qis')\n",
    "sim_backend_nat = provider.get_backend('ionq.simulator', gateset='native')\n",
    "\n",
    "qpu_backend_qis = provider.get_backend('ionq.qpu', gateset='qis')\n",
    "qpu_backend_nat = provider.get_backend('ionq.qpu', gateset='native')"
   ]
  },
  {
   "cell_type": "code",
   "execution_count": 11,
   "id": "2af5f3f3",
   "metadata": {},
   "outputs": [],
   "source": [
    "from qiskit.providers.aer import QasmSimulator\n",
    "qasm_backend = QasmSimulator()"
   ]
  },
  {
   "cell_type": "code",
   "execution_count": 2,
   "id": "ef2914f1",
   "metadata": {
    "ExecuteTime": {
     "end_time": "2023-01-22T06:56:04.801743Z",
     "start_time": "2023-01-22T06:56:04.755949Z"
    }
   },
   "outputs": [],
   "source": [
    "from qiskit import QuantumCircuit\n",
    "from qiskit.visualization import plot_histogram, plot_state_city, plot_bloch_multivector\n",
    "from qiskit.quantum_info import Statevector, DensityMatrix, state_fidelity"
   ]
  },
  {
   "cell_type": "markdown",
   "id": "8be4a520",
   "metadata": {},
   "source": []
  },
  {
   "cell_type": "markdown",
   "id": "052ebd13",
   "metadata": {
    "ExecuteTime": {
     "end_time": "2023-01-22T06:39:50.910370Z",
     "start_time": "2023-01-22T06:39:50.905976Z"
    }
   },
   "source": [
    "# NarrowBand(NB) composite pulse sequence\n",
    "In the quantum signal processing's (QSP) point of view, composite pulses (CP) is a flexible tool to compensate systematic errors(i.g. the imperfection of the pulse length, pulse area or frequency offset). More generally, CP can shape the excitation profile in any way possible. In this section, the goal is to realize a narrowband composite pulses using IonQ's native gate sets. \n",
    "\n",
    "From the QSP the propagator $U$ can be represent as a *signal* rotation operator $W$ and a *signal processing* rotation $e^{i \\phi_k Z}$:\n",
    "\\begin{equation}\n",
    "    U = e^{i\\phi_0 Z} \\prod_{k=1}^{d} W(a) e^{i \\phi_k Z} =R_z(\\phi_0) U_{\\phi_1}U_{\\phi_2}U_{\\phi_3} ...U_{\\phi_N} =  R_z(\\phi_0)\\cdot R_x(\\theta)R_z(\\phi_1)\\cdot R_x(\\theta)R_z(\\phi_2)... R_x(\\theta)R_z(\\phi_N), \\tag{*}\n",
    "\\end{equation}\n",
    "Where each $U_{\\phi_N}$ can be consider as a $R_x(\\theta)$ rotation followed by a $R_z$ rotations by a vector of angles $\\phi$  . The Narrowband pulse sequence is using the result that is published [here](https://journals.aps.org/pra/abstract/10.1103/PhysRevA.84.065404)[1]. We use the result that is derived by Kyoseva et al[1] to reconstruct the NB pulse sequence.\n"
   ]
  },
  {
   "cell_type": "markdown",
   "id": "8ddb351c",
   "metadata": {},
   "source": [
    "The notation that is used in [1] are as the following\n",
    "\\begin{equation}\n",
    "U^{(N)} =U_{\\phi_N} U_{\\phi_{N-1}} .. U_{\\phi_2}U_{\\phi_1} \n",
    "\\end{equation}\n",
    "note that the order in [1] is in reverse order as the $(*)$ equation. Anyhow, the constructed NB composite pulse $\\phi$ angles can be written as\n",
    "\n",
    "\\begin{align}\n",
    "(\\phi_1 , \\phi_2 ... ,\\phi_N) = & (0 ,\\frac{2}{3}\\pi, -\\frac{2}{3}\\pi ) &\\text{ for } N=3 \\\\\n",
    "&(0 ,\\frac{2}{5}\\pi, -\\frac{2}{5}\\pi, \\frac{4}{5}\\pi, -\\frac{4}{5}\\pi ) &\\text{ for } N=5 \\\\\n",
    "&(0 ,\\frac{2}{7}\\pi, -\\frac{2}{7}\\pi, \\frac{4}{7}\\pi, -\\frac{4}{7}\\pi, \\frac{6}{7}\\pi, -\\frac{6}{7}\\pi ) &\\text{ for } N=7\n",
    "\\end{align}\n",
    "\n",
    "With different order of shaping the excitation profile. We choose to demonstrate N=5 of NB in this section."
   ]
  },
  {
   "cell_type": "markdown",
   "id": "2a6821e0",
   "metadata": {},
   "source": [
    "## Narrowband(NB) pulse sequence reconstructions using QIS gate set\n",
    "First we try to reconstruct the NB pulse sequence using QIS gate sets ( i.e. $R_x(\\theta)$ and $R_z(\\phi)$ ). \n",
    "\n",
    "### QASM simulation\n",
    "An important note: the QSP description uses a series of $Z$ operator exponentials.\n",
    "This corresponds to a $Z$ rotation, however the precise angle of the rotation is not $\\phi$ but actually $-2\\phi$ due to the definition of the rotation operators. This change is important in following code."
   ]
  },
  {
   "cell_type": "code",
   "execution_count": 37,
   "id": "7a1b5652",
   "metadata": {},
   "outputs": [],
   "source": [
    "def qsp_NB2(theta):\n",
    "    \n",
    "    circ = QuantumCircuit(1)\n",
    "    \n",
    "    #eta = np.arccos(-1/4) / 2\n",
    "    phi = [0, np.pi*2/5, -np.pi*2/5, np.pi*4/5, -np.pi*4/5]\n",
    "\n",
    "    # 5\n",
    "    circ.rz(phi=-2*phi[0], qubit=0)\n",
    "    circ.rx(theta=theta, qubit=0)\n",
    "    circ.barrier()\n",
    "    \n",
    "    # 4\n",
    "    circ.rz(phi=-2*phi[1], qubit=0)\n",
    "    circ.rx(theta=theta, qubit=0)\n",
    "    circ.barrier()\n",
    "    \n",
    "    # 3\n",
    "    circ.rz(phi=-2*phi[2], qubit=0)\n",
    "    circ.rx(theta=theta, qubit=0)\n",
    "    circ.barrier()\n",
    "    \n",
    "    # 2\n",
    "    circ.rz(phi=-2*phi[3], qubit=0)\n",
    "    circ.rx(theta=theta, qubit=0)\n",
    "    circ.barrier()\n",
    "    \n",
    "    # 1\n",
    "    circ.rz(phi=-2*phi[4], qubit=0)\n",
    "    circ.rx(theta=theta, qubit=0)\n",
    "    circ.barrier()\n",
    "    \n",
    "    # 0\n",
    "    circ.rz(phi=-2*phi[0], qubit=0)\n",
    "    \n",
    "    circ.measure_all()\n",
    "\n",
    "    return circ\n",
    "\n",
    "def Rx_circ(theta):\n",
    "    circ = QuantumCircuit(1)\n",
    "\n",
    "    # R_x(theta)\n",
    "    circ.rx(theta, qubit=0)\n",
    "    \n",
    "    # Measure the qubit\n",
    "    circ.measure_all()\n",
    "    \n",
    "    return circ"
   ]
  },
  {
   "cell_type": "code",
   "execution_count": 38,
   "id": "70041d44",
   "metadata": {},
   "outputs": [
    {
     "data": {
      "image/png": "[encoded data removed]",
      "text/plain": [
       "<Figure size 1200.48x144.48 with 1 Axes>"
      ]
     },
     "execution_count": 38,
     "metadata": {},
     "output_type": "execute_result"
    }
   ],
   "source": [
    "qsp_NB2(0).draw('mpl')"
   ]
  },
  {
   "cell_type": "code",
   "execution_count": 39,
   "id": "de7b64c0",
   "metadata": {
    "ExecuteTime": {
     "end_time": "2023-01-22T07:27:46.154713Z",
     "start_time": "2023-01-22T07:27:46.151911Z"
    }
   },
   "outputs": [],
   "source": [
    "thetas = np.linspace(-np.pi, np.pi, 21)"
   ]
  },
  {
   "cell_type": "code",
   "execution_count": 40,
   "id": "77397b4b",
   "metadata": {
    "ExecuteTime": {
     "end_time": "2023-01-22T07:27:46.370216Z",
     "start_time": "2023-01-22T07:27:46.357083Z"
    }
   },
   "outputs": [],
   "source": [
    "qsp_circuits = []\n",
    "rx_circuits = []\n",
    "\n",
    "for theta in thetas:\n",
    "    qsp_circuits.append( qsp_NB2(theta) )\n",
    "    rx_circuits.append( Rx_circ(theta) )"
   ]
  },
  {
   "cell_type": "code",
   "execution_count": 41,
   "id": "2f31d0b3",
   "metadata": {
    "ExecuteTime": {
     "end_time": "2023-01-22T07:27:46.561176Z",
     "start_time": "2023-01-22T07:27:46.557342Z"
    }
   },
   "outputs": [],
   "source": [
    "def calc_p0(counts):\n",
    "    \n",
    "    try:\n",
    "        counts['1']\n",
    "    except:\n",
    "        counts['1'] = 0\n",
    "        \n",
    "    try:\n",
    "        counts['0']\n",
    "    except:\n",
    "        counts['0'] = 0\n",
    "    \n",
    "    total = counts['0'] + counts['1']\n",
    "    return counts['0'] / total"
   ]
  },
  {
   "cell_type": "code",
   "execution_count": 42,
   "id": "a509bb3a",
   "metadata": {
    "ExecuteTime": {
     "end_time": "2023-01-22T07:27:46.965300Z",
     "start_time": "2023-01-22T07:27:46.742568Z"
    }
   },
   "outputs": [],
   "source": [
    "qsp_p0s = []\n",
    "for circuit in qsp_circuits:\n",
    "    job = qasm_backend.run(circuit, shots=10000)\n",
    "    qsp_p0s.append( calc_p0(job.result().get_counts()) )"
   ]
  },
  {
   "cell_type": "code",
   "execution_count": 43,
   "id": "d0e3f33c",
   "metadata": {
    "ExecuteTime": {
     "end_time": "2023-01-22T07:27:47.182690Z",
     "start_time": "2023-01-22T07:27:46.967345Z"
    }
   },
   "outputs": [],
   "source": [
    "rx_p0s = []\n",
    "for circuit in rx_circuits:\n",
    "    job = qasm_backend.run(circuit, shots=10000)\n",
    "    rx_p0s.append( calc_p0(job.result().get_counts()) )"
   ]
  },
  {
   "cell_type": "code",
   "execution_count": 46,
   "id": "b56797b1",
   "metadata": {
    "ExecuteTime": {
     "end_time": "2023-01-22T07:27:47.629808Z",
     "start_time": "2023-01-22T07:27:47.425695Z"
    }
   },
   "outputs": [
    {
     "data": {
      "image/png": "[encoded data removed]",
      "text/plain": [
       "<Figure size 432x288 with 1 Axes>"
      ]
     },
     "metadata": {
      "needs_background": "light"
     },
     "output_type": "display_data"
    }
   ],
   "source": [
    "theta = np.linspace(-np.pi, np.pi, 100)\n",
    "theory1 = np.cos(theta/2) ** 2 \n",
    "plt.plot(theta, theory1, 'k--', label=r'$\\cos^2(\\theta/2)$')\n",
    "\n",
    "plt.plot(thetas, qsp_p0s, 'o--', label=r'NB1$_\\theta$')\n",
    "plt.plot(thetas, rx_p0s, 'o', label=r'$R_x(\\theta)$')\n",
    "\n",
    "plt.ylabel(r'Transition probability')\n",
    "plt.xlabel(r'Rotation angle $\\theta$ (rad)')\n",
    "\n",
    "plt.legend()\n",
    "\n",
    "plt.show()"
   ]
  },
  {
   "cell_type": "markdown",
   "id": "ec88936b",
   "metadata": {},
   "source": [
    "Here we see that indeed around $\\theta$ at around 0, the composite pulses shapes the transition probability to a narrow band comparing to a $\\sin^2(\\theta)$ profile of a pure $R_x$ gate.\n",
    "\n",
    "## IonQ native gate set on IonQ simulator.\n"
   ]
  },
  {
   "cell_type": "markdown",
   "id": "60573727",
   "metadata": {},
   "source": [
    "We implement a general $R_x(\\theta)$ rotation in the native gateset by the unitary\n",
    "\n",
    "\\begin{equation}\n",
    "    R_x(\\theta) = GPI_2(\\phi=\\pi/2) GZ(\\theta) GPI_2^\\dagger(\\phi=\\pi/2) = GPI_2(\\phi=\\pi/2) GZ(\\theta) GPI_2(\\phi=-\\pi/2)\n",
    "\\end{equation}\n",
    "\n",
    "Unfortunately, IonQ does not allow for direct usage of the $GZ(\\theta) = R_z(\\theta)$ gate in the circuit compilation and so we have to manually append the phase offset to all future gates, i.e.\n",
    "\n",
    "\n",
    "\\begin{equation}\n",
    "    R_x(\\theta) \\equiv GPI_2(\\phi=\\pi/2 + \\theta) GPI_2(\\phi=-\\pi/2).\n",
    "\\end{equation}\n",
    "\n",
    "Note that this requires that **all** subsequent gates are phase shifted by $\\theta$."
   ]
  },
  {
   "cell_type": "code",
   "execution_count": 47,
   "id": "1f9b74be",
   "metadata": {},
   "outputs": [],
   "source": [
    "from qiskit_ionq import IonQProvider, GPIGate, GPI2Gate\n",
    "from qiskit.providers.jobstatus import JobStatus\n",
    "\n",
    "\n",
    "import numpy as np\n",
    "import matplotlib.pyplot as plt"
   ]
  },
  {
   "cell_type": "code",
   "execution_count": 48,
   "id": "0a3af6d7",
   "metadata": {},
   "outputs": [],
   "source": [
    "def qsp_NB_native(theta):\n",
    "    \n",
    "    circ = QuantumCircuit(1)\n",
    "    \n",
    "    phi = [0, np.pi*2/5, -np.pi*2/5, np.pi*4/5, -np.pi*4/5]\n",
    "\n",
    "    # 5\n",
    "    delay = -2*phi[0]/(2*np.pi)\n",
    "    # R_x(theta)\n",
    "    # The RZ phase shift is incorporated by the delay term\n",
    "    circ.append(GPI2Gate(-0.25 + delay),[0]) \n",
    "    circ.append(GPI2Gate(0.25 + theta + delay),[0]) \n",
    "    \n",
    "    circ.barrier()\n",
    "    \n",
    "    # 4\n",
    "    # The new delay increases by the new phi and theta from previous gates\n",
    "    delay += -2*phi[1]/(2*np.pi) + theta\n",
    "    # R_x(theta)\n",
    "    circ.append(GPI2Gate(-0.25 + delay),[0]) \n",
    "    circ.append(GPI2Gate(0.25 + theta + delay),[0]) \n",
    "    \n",
    "    circ.barrier()\n",
    "    \n",
    "    # 3\n",
    "    delay += -2*phi[2]/(2*np.pi) + theta\n",
    "    # R_x(theta)\n",
    "    circ.append(GPI2Gate(-0.25 + delay),[0]) \n",
    "    circ.append(GPI2Gate(0.25 + theta + delay),[0]) \n",
    "    \n",
    "    circ.barrier()\n",
    "    \n",
    "    # 2\n",
    "    delay += -2*phi[3]/(2*np.pi) + theta\n",
    "    # R_x(theta)\n",
    "    circ.append(GPI2Gate(-0.25 + delay),[0]) \n",
    "    circ.append(GPI2Gate(0.25 + theta + delay),[0]) \n",
    "    \n",
    "    circ.barrier()\n",
    "    \n",
    "    # 1\n",
    "    delay += -2*phi[4]/(2*np.pi) + theta\n",
    "    # R_x(theta)\n",
    "    circ.append(GPI2Gate(-0.25 + delay),[0]) \n",
    "    circ.append(GPI2Gate(0.25 + theta + delay),[0]) \n",
    "    \n",
    "    # 0\n",
    "    # circ.rz(phi=-2*phi[0], qubit=0)\n",
    "    # We're supposed to have an Rz here but since it does not affect\n",
    "    # the probabilities we just ignore it since we cannot implement it\n",
    "    # using the IonQ system's current toolset.\n",
    "    \n",
    "    circ.measure_all()\n",
    "\n",
    "    return circ\n",
    "\n",
    "def Rx_circ_native(theta):\n",
    "    circ = QuantumCircuit(1)\n",
    "\n",
    "    # R_x(theta)\n",
    "    circ.append(GPI2Gate(-0.25),[0]) \n",
    "    circ.append(GPI2Gate(0.25 + theta),[0]) \n",
    "    \n",
    "    # Measure the qubit\n",
    "    circ.measure_all()\n",
    "    \n",
    "    return circ"
   ]
  },
  {
   "cell_type": "code",
   "execution_count": 49,
   "id": "f5a8622b",
   "metadata": {},
   "outputs": [
    {
     "data": {
      "image/png": "[encoded data removed]",
      "text/plain": [
       "<Figure size 1080.08x144.48 with 1 Axes>"
      ]
     },
     "execution_count": 49,
     "metadata": {},
     "output_type": "execute_result"
    }
   ],
   "source": [
    "qsp_NB_native(0).draw('mpl')"
   ]
  },
  {
   "cell_type": "code",
   "execution_count": 50,
   "id": "0b063307",
   "metadata": {},
   "outputs": [],
   "source": [
    "# Need to modify to fractional rotations from radians for the native set\n",
    "thetas = np.linspace(-0.5, 0.5, 11)\n",
    "\n",
    "qsp_circuits = []\n",
    "rx_circuits = []\n",
    "\n",
    "for theta in thetas:\n",
    "    qsp_circuits.append( qsp_NB_native(theta) )\n",
    "    rx_circuits.append( Rx_circ_native(theta) )"
   ]
  },
  {
   "cell_type": "code",
   "execution_count": 53,
   "id": "a2c316dd",
   "metadata": {},
   "outputs": [
    {
     "name": "stdout",
     "output_type": "stream",
     "text": [
      "............................................................................."
     ]
    }
   ],
   "source": [
    "qsp_p0s = []\n",
    "for circuit in qsp_circuits:\n",
    "    job = sim_backend_nat.run(circuit, shots=10000)\n",
    "    qsp_p0s.append( calc_p0(job.result().get_counts()) )"
   ]
  },
  {
   "cell_type": "code",
   "execution_count": 54,
   "id": "2de72c17",
   "metadata": {},
   "outputs": [
    {
     "name": "stdout",
     "output_type": "stream",
     "text": [
      "................................................................................."
     ]
    }
   ],
   "source": [
    "rx_p0s = []\n",
    "for circuit in rx_circuits:\n",
    "    job = sim_backend_nat.run(circuit, shots=10000)\n",
    "    rx_p0s.append( calc_p0(job.result().get_counts()) )"
   ]
  },
  {
   "cell_type": "code",
   "execution_count": 57,
   "id": "38e9c79f",
   "metadata": {},
   "outputs": [
    {
     "data": {
      "image/png": "[encoded data removed]",
      "text/plain": [
       "<Figure size 432x288 with 1 Axes>"
      ]
     },
     "metadata": {
      "needs_background": "light"
     },
     "output_type": "display_data"
    }
   ],
   "source": [
    "theta = np.linspace(-np.pi, np.pi, 100)\n",
    "theory1 = np.cos(theta/2) ** 2 \n",
    "plt.plot(theta, theory1, 'k--', label=r'$\\cos^2(\\theta/2)$')\n",
    "\n",
    "plt.plot(2*np.pi*thetas, qsp_p0s, 'o--', label=r'NB$_\\theta$')\n",
    "plt.plot(2*np.pi*thetas, rx_p0s, 'o', label=r'$R_x(\\theta)$')\n",
    "\n",
    "plt.ylabel(r'Transition probability')\n",
    "plt.xlabel(r'Rotation angle $\\theta$ (rad)')\n",
    "\n",
    "plt.legend()\n",
    "\n",
    "plt.show()"
   ]
  },
  {
   "cell_type": "markdown",
   "id": "d5e0bfb1",
   "metadata": {},
   "source": [
    "The result fits our expectation on `ionq.simulator`. "
   ]
  },
  {
   "cell_type": "markdown",
   "id": "015aabfd",
   "metadata": {},
   "source": [
    "## IonQ QPU\n",
    "Now we try to run the circuit on real qpu. `Aria-1` seems to have a smaller queue time.\n",
    "\n",
    "The jobs were submitted on Sunday Jan 22, 2023.  "
   ]
  },
  {
   "cell_type": "code",
   "execution_count": 59,
   "id": "71a4052c",
   "metadata": {},
   "outputs": [],
   "source": [
    "qpu_aria1_nat = provider.get_backend('ionq.qpu.aria-1', gateset='native')"
   ]
  },
  {
   "cell_type": "code",
   "execution_count": 60,
   "id": "517bcb87",
   "metadata": {},
   "outputs": [
    {
     "name": "stdout",
     "output_type": "stream",
     "text": [
      "Running jobs for the QSP circuits...\n",
      "Job ID: 3905086e-9a80-11ed-9175-2a2779b1dac2\n",
      "Job ID: 3a1526d0-9a80-11ed-9175-2a2779b1dac2\n",
      "Job ID: 3ac352c8-9a80-11ed-9175-2a2779b1dac2\n",
      "Job ID: 3b734264-9a80-11ed-9175-2a2779b1dac2\n",
      "Job ID: 3c25b3f4-9a80-11ed-9175-2a2779b1dac2\n",
      "Job ID: 3cd731a6-9a80-11ed-9175-2a2779b1dac2\n",
      "Job ID: 3d84f62e-9a80-11ed-9175-2a2779b1dac2\n",
      "Job ID: 3e397338-9a80-11ed-9175-2a2779b1dac2\n",
      "Job ID: 3ee70bba-9a80-11ed-9175-2a2779b1dac2\n",
      "Job ID: 3f9e33a8-9a80-11ed-9175-2a2779b1dac2\n",
      "Job ID: 406ad5d4-9a80-11ed-9175-2a2779b1dac2\n"
     ]
    }
   ],
   "source": [
    "'''qsp_jobs = []\n",
    "print('Running jobs for the QSP circuits...')\n",
    "for circuit in qsp_circuits:\n",
    "    job = qpu_aria1_nat.run(circuit, shots=1000)\n",
    "    print('Job ID:', job.job_id())'''"
   ]
  },
  {
   "cell_type": "markdown",
   "id": "d0909d37",
   "metadata": {},
   "source": [
    "Rerun the circuits on Aria-1\n",
    "\n",
    "    Job ID: 3905086e-9a80-11ed-9175-2a2779b1dac2\n",
    "    Job ID: 3a1526d0-9a80-11ed-9175-2a2779b1dac2\n",
    "    Job ID: 3ac352c8-9a80-11ed-9175-2a2779b1dac2\n",
    "    Job ID: 3b734264-9a80-11ed-9175-2a2779b1dac2\n",
    "    Job ID: 3c25b3f4-9a80-11ed-9175-2a2779b1dac2\n",
    "    Job ID: 3cd731a6-9a80-11ed-9175-2a2779b1dac2\n",
    "    Job ID: 3d84f62e-9a80-11ed-9175-2a2779b1dac2\n",
    "    Job ID: 3e397338-9a80-11ed-9175-2a2779b1dac2\n",
    "    Job ID: 3ee70bba-9a80-11ed-9175-2a2779b1dac2\n",
    "    Job ID: 3f9e33a8-9a80-11ed-9175-2a2779b1dac2\n",
    "    Job ID: 406ad5d4-9a80-11ed-9175-2a2779b1dac2"
   ]
  },
  {
   "cell_type": "code",
   "execution_count": 75,
   "id": "4588d577",
   "metadata": {},
   "outputs": [
    {
     "name": "stdout",
     "output_type": "stream",
     "text": [
      "QSP Jobs are done?\n",
      "True\n",
      "True\n",
      "True\n",
      "True\n",
      "True\n",
      "True\n",
      "True\n",
      "True\n",
      "True\n",
      "True\n",
      "True\n"
     ]
    }
   ],
   "source": [
    "qsp_jobs_retrieved = [qpu_aria1_nat.retrieve_job('3905086e-9a80-11ed-9175-2a2779b1dac2'),\n",
    "                      qpu_aria1_nat.retrieve_job('3a1526d0-9a80-11ed-9175-2a2779b1dac2'),\n",
    "                      qpu_aria1_nat.retrieve_job('3ac352c8-9a80-11ed-9175-2a2779b1dac2'),\n",
    "                      qpu_aria1_nat.retrieve_job('3b734264-9a80-11ed-9175-2a2779b1dac2'),\n",
    "                      qpu_aria1_nat.retrieve_job('3c25b3f4-9a80-11ed-9175-2a2779b1dac2'),\n",
    "                      qpu_aria1_nat.retrieve_job('3cd731a6-9a80-11ed-9175-2a2779b1dac2'),\n",
    "                      qpu_aria1_nat.retrieve_job('3d84f62e-9a80-11ed-9175-2a2779b1dac2'),\n",
    "                      qpu_aria1_nat.retrieve_job('3e397338-9a80-11ed-9175-2a2779b1dac2'),\n",
    "                      qpu_aria1_nat.retrieve_job('3ee70bba-9a80-11ed-9175-2a2779b1dac2'),\n",
    "                      qpu_aria1_nat.retrieve_job('3f9e33a8-9a80-11ed-9175-2a2779b1dac2'),\n",
    "                      qpu_aria1_nat.retrieve_job('406ad5d4-9a80-11ed-9175-2a2779b1dac2')\n",
    "                     ] \n",
    "\n",
    "print('QSP Jobs are done?')\n",
    "for job in qsp_jobs_retrieved:\n",
    "    print(job.done())"
   ]
  },
  {
   "cell_type": "code",
   "execution_count": 61,
   "id": "6b6515e0",
   "metadata": {},
   "outputs": [
    {
     "name": "stdout",
     "output_type": "stream",
     "text": [
      "Running jobs for the Rx circuits...\n",
      "Job ID: 2513ba34-9a81-11ed-9175-2a2779b1dac2\n",
      "Job ID: 26687afa-9a81-11ed-9175-2a2779b1dac2\n",
      "Job ID: 2713fbbe-9a81-11ed-9175-2a2779b1dac2\n",
      "Job ID: 27c69828-9a81-11ed-9175-2a2779b1dac2\n",
      "Job ID: 287cc9cc-9a81-11ed-9175-2a2779b1dac2\n",
      "Job ID: 292f939a-9a81-11ed-9175-2a2779b1dac2\n",
      "Job ID: 29df9a2e-9a81-11ed-9175-2a2779b1dac2\n",
      "Job ID: 2a8fcfd4-9a81-11ed-9175-2a2779b1dac2\n",
      "Job ID: 2b423732-9a81-11ed-9175-2a2779b1dac2\n",
      "Job ID: 2bfa5c72-9a81-11ed-9175-2a2779b1dac2\n",
      "Job ID: 2cc64d28-9a81-11ed-9175-2a2779b1dac2\n"
     ]
    }
   ],
   "source": [
    "rx_jobs = []\n",
    "print('Running jobs for the Rx circuits...')\n",
    "for circuit in rx_circuits:\n",
    "    job = qpu_aria1_nat.run(circuit, shots=1000)\n",
    "    print('Job ID:', job.job_id())"
   ]
  },
  {
   "cell_type": "markdown",
   "id": "7432c32e",
   "metadata": {},
   "source": [
    "$R_x$ jobs' ID\n",
    "\n",
    "    Job ID: 2513ba34-9a81-11ed-9175-2a2779b1dac2\n",
    "    Job ID: 26687afa-9a81-11ed-9175-2a2779b1dac2\n",
    "    Job ID: 2713fbbe-9a81-11ed-9175-2a2779b1dac2\n",
    "    Job ID: 27c69828-9a81-11ed-9175-2a2779b1dac2\n",
    "    Job ID: 287cc9cc-9a81-11ed-9175-2a2779b1dac2\n",
    "    Job ID: 292f939a-9a81-11ed-9175-2a2779b1dac2\n",
    "    Job ID: 29df9a2e-9a81-11ed-9175-2a2779b1dac2\n",
    "    Job ID: 2a8fcfd4-9a81-11ed-9175-2a2779b1dac2\n",
    "    Job ID: 2b423732-9a81-11ed-9175-2a2779b1dac2\n",
    "    Job ID: 2bfa5c72-9a81-11ed-9175-2a2779b1dac2\n",
    "    Job ID: 2cc64d28-9a81-11ed-9175-2a2779b1dac2"
   ]
  },
  {
   "cell_type": "code",
   "execution_count": 81,
   "id": "52a8d75c",
   "metadata": {},
   "outputs": [
    {
     "name": "stdout",
     "output_type": "stream",
     "text": [
      "Rx Jobs are done?\n",
      "True\n",
      "True\n",
      "True\n",
      "True\n",
      "True\n",
      "True\n",
      "True\n",
      "True\n",
      "True\n",
      "True\n",
      "True\n"
     ]
    }
   ],
   "source": [
    "rx_jobs_retrieved = [qpu_aria1_nat.retrieve_job('2513ba34-9a81-11ed-9175-2a2779b1dac2'),\n",
    "                     qpu_aria1_nat.retrieve_job('26687afa-9a81-11ed-9175-2a2779b1dac2'),\n",
    "                     qpu_aria1_nat.retrieve_job('2713fbbe-9a81-11ed-9175-2a2779b1dac2'),\n",
    "                     qpu_aria1_nat.retrieve_job('27c69828-9a81-11ed-9175-2a2779b1dac2'),\n",
    "                     qpu_aria1_nat.retrieve_job('287cc9cc-9a81-11ed-9175-2a2779b1dac2'),\n",
    "                     qpu_aria1_nat.retrieve_job('292f939a-9a81-11ed-9175-2a2779b1dac2'),\n",
    "                     qpu_aria1_nat.retrieve_job('29df9a2e-9a81-11ed-9175-2a2779b1dac2'),\n",
    "                     qpu_aria1_nat.retrieve_job('2a8fcfd4-9a81-11ed-9175-2a2779b1dac2'),\n",
    "                     qpu_aria1_nat.retrieve_job('2b423732-9a81-11ed-9175-2a2779b1dac2'),\n",
    "                     qpu_aria1_nat.retrieve_job('2bfa5c72-9a81-11ed-9175-2a2779b1dac2'),\n",
    "                     qpu_aria1_nat.retrieve_job('2cc64d28-9a81-11ed-9175-2a2779b1dac2')\n",
    "                    ] \n",
    "\n",
    "print('Rx Jobs are done?')\n",
    "for job in rx_jobs_retrieved:\n",
    "    print(job.done())"
   ]
  },
  {
   "cell_type": "code",
   "execution_count": 77,
   "id": "f28ff2de",
   "metadata": {},
   "outputs": [
    {
     "name": "stdout",
     "output_type": "stream",
     "text": [
      "{'1': 997.0, '0': 3.0}\n",
      "{'0': 122.0, '1': 878.0}\n",
      "{'0': 183.0, '1': 817.0}\n",
      "{'0': 103.0, '1': 897.0}\n",
      "{'0': 520.0, '1': 480.0}\n",
      "{'0': 1000.0}\n",
      "{'0': 536.0, '1': 464.0}\n",
      "{'0': 80.0, '1': 920.0}\n",
      "{'0': 184.0, '1': 816.0}\n",
      "{'0': 104.0, '1': 896.0}\n",
      "{'0': 10.0, '1': 990.0}\n"
     ]
    }
   ],
   "source": [
    "qsp_p0s = []\n",
    "for job in qsp_jobs_retrieved:\n",
    "    print(job.result().get_counts())\n",
    "    qsp_p0s.append( calc_p0(job.result().get_counts()) )"
   ]
  },
  {
   "cell_type": "code",
   "execution_count": 82,
   "id": "d4280734",
   "metadata": {},
   "outputs": [
    {
     "name": "stdout",
     "output_type": "stream",
     "text": [
      "{'1': 992.0, '0': 8.0}\n",
      "{'0': 110.0, '1': 890.0}\n",
      "{'0': 366.0, '1': 634.0}\n",
      "{'0': 643.0, '1': 357.0}\n",
      "{'0': 910.0, '1': 90.0}\n",
      "{'0': 1000.0}\n",
      "{'0': 911.0, '1': 89.0}\n",
      "{'0': 666.0, '1': 334.0}\n",
      "{'0': 363.0, '1': 637.0}\n",
      "{'0': 106.0, '1': 894.0}\n",
      "{'1': 995.0, '0': 5.0}\n"
     ]
    }
   ],
   "source": [
    "rx_p0s = []\n",
    "for job in rx_jobs_retrieved:\n",
    "    print(job.result().get_counts())\n",
    "    rx_p0s.append( calc_p0(job.result().get_counts()) )"
   ]
  },
  {
   "cell_type": "code",
   "execution_count": 83,
   "id": "be942373",
   "metadata": {},
   "outputs": [
    {
     "data": {
      "image/png": "[encoded data removed]",
      "text/plain": [
       "<Figure size 432x288 with 1 Axes>"
      ]
     },
     "metadata": {
      "needs_background": "light"
     },
     "output_type": "display_data"
    }
   ],
   "source": [
    "theta = np.linspace(-np.pi, np.pi, 100)\n",
    "theory1 = np.cos(theta/2) ** 2 \n",
    "plt.plot(theta, theory1, 'k--', label=r'$\\cos^2(\\theta/2)$')\n",
    "\n",
    "\n",
    "plt.plot(2*np.pi*thetas, qsp_p0s, 'o--', label=r'BB1$_\\theta$')\n",
    "plt.plot(2*np.pi*thetas, rx_p0s, 'o', label=r'$R_x(\\theta)$')\n",
    "\n",
    "plt.ylabel(r'Transition probability')\n",
    "plt.xlabel(r'Rotation angle $\\theta$ (rad)')\n",
    "\n",
    "plt.legend()\n",
    "\n",
    "plt.show()"
   ]
  },
  {
   "cell_type": "markdown",
   "id": "b6ed1562",
   "metadata": {},
   "source": [
    "As shown above, the NB pulse sequence can shape the transition probability so that it only peaks at $\\theta=0$, in contrast to the BB pulse sequence. And since this is only $N=5$ of the NB pulse sequence, we can see there are ripples at the edge of the NB transition probability. If we choose a higer order of the NB sequence, the ripple effect could be reduced."
   ]
  },
  {
   "cell_type": "code",
   "execution_count": null,
   "id": "e895ce54",
   "metadata": {},
   "outputs": [],
   "source": []
  },
  {
   "cell_type": "code",
   "execution_count": null,
   "id": "aff22cbd",
   "metadata": {},
   "outputs": [],
   "source": []
  },
  {
   "cell_type": "markdown",
   "id": "82f0a026",
   "metadata": {},
   "source": []
  }
 ],
 "metadata": {
  "kernelspec": {
   "display_name": "Python 3 (ipykernel)",
   "language": "python",
   "name": "python3"
  },
  "language_info": {
   "codemirror_mode": {
    "name": "ipython",
    "version": 3
   },
   "file_extension": ".py",
   "mimetype": "text/x-python",
   "name": "python",
   "nbconvert_exporter": "python",
   "pygments_lexer": "ipython3",
   "version": "3.9.12"
  }
 },
 "nbformat": 4,
 "nbformat_minor": 5
}
