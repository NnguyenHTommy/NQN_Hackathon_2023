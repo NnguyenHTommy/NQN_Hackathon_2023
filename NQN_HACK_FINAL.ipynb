{
 "cells": [
  {
   "cell_type": "markdown",
   "id": "02de7ce8",
   "metadata": {
    "ExecuteTime": {
     "end_time": "2023-01-22T18:41:35.069748Z",
     "start_time": "2023-01-22T18:41:35.013324Z"
    }
   },
   "source": [
    "# Composite Pulses with IonQ to Correct for Errors and using Composite Pulses for Quantum Signal Processing\n",
    "\n",
    "I-Tung Chen and Tommy Nguyen\n",
    "\n",
    "### References\n",
    "[1] https://arxiv.org/pdf/quant-ph/0404064.pdf\n",
    "\n",
    "[2] https://arxiv.org/abs/2105.02859\n",
    "\n",
    "## Introduction \n",
    "The IonQ trapped-ion quantum computer is among the few noisy intermediate-scale quantum (NISQ) computers available via cloud services to the general public.\n",
    "The ability to test algorithms on NISQ devices is an important tool for the advancement of quantum information science.\n",
    "Beyond the target application space, there is also much opportunity for the study of inherent noise of NISQ devices which serves as a basic plaform for the development of algorithmic-level approaches towards improving the robustness of quantum information devices overall. Not only this, but in our own research labs, we use RF pulses to intialize our states via spin echo or optically detected magnetic resonance (ODMR) experiments with NV centers and quantum dots, so undergoing this research study at this hackathon is a cool way to try and see what the future of our research might hold in terms of actual quantum hardware.\n",
    "\n",
    "Our goal for this hackathon is an experimental research study on composite pulses to:\n",
    "1. Look at the noise from IonQ's native gates and see if they can be corrected for with a BB1 Composite Pulse Sequence \n",
    "2. Implement and test different composite pulse sequences (BB and NB and maybe PB) for applications in quantum signal processing (QSP) and see what advantages they might have\n",
    "\n",
    "These goals will be looked at and compared between a cloud based simulator, IonQ's simulators and IonQ's QPU on actual quantum hardware!\n",
    "\n",
    "## Background: Composite Pulses\n",
    "The usefulness of a composite pulse - a sequence of pulses - is that it can correct for systematic errors than just using a single pulse due to strategic cancellation. If you've heard of a spin echo experiment in quantum optics, the idea is essentially the same, thereofore, this technique works very well for RF inhomogenieties, frequency offsets, and imperfect pulse lengths.  \n",
    "\n",
    "## A directly implementable composite pulse: BB1$_\\pi$\n",
    "\n",
    "A pulse sequence that we can directly implement and easily check is the BB1$_\\pi$ pulse sequence given by [1]\n",
    "\n",
    "\\begin{equation}\n",
    "    BB1_{\\theta = \\pi} = R_\\phi(\\pi) R_{3\\phi} (2\\pi) R_{\\phi} (\\pi) R_x (\\theta = \\pi)\n",
    "\\end{equation}\n",
    "\n",
    "where $\\cos\\phi = - \\theta / 4 \\pi$, which is a composite pulse sequence that implements an arbitrary $R_x(\\theta = \\pi)$ with sixth-order supression of pulse-length errors.\n",
    "This is a good opportunity to verify the usefulness of composite pulses\n"
   ]
  },
  {
   "cell_type": "code",
   "execution_count": 2,
   "id": "cfaa9fd6",
   "metadata": {
    "ExecuteTime": {
     "end_time": "2023-01-22T21:12:44.510746Z",
     "start_time": "2023-01-22T21:12:42.239422Z"
    }
   },
   "outputs": [],
   "source": [
    "## Imports\n",
    "from qiskit_ionq import IonQProvider, GPIGate, GPI2Gate\n",
    "from qiskit.providers.jobstatus import JobStatus\n",
    "\n",
    "\n",
    "import numpy as np\n",
    "import matplotlib.pyplot as plt"
   ]
  },
  {
   "cell_type": "code",
   "execution_count": 3,
   "id": "b8b9094e",
   "metadata": {
    "ExecuteTime": {
     "end_time": "2023-01-22T21:12:51.191128Z",
     "start_time": "2023-01-22T21:12:44.515369Z"
    }
   },
   "outputs": [],
   "source": [
    "## Getting backends\n",
    "from azure.quantum.qiskit import AzureQuantumProvider\n",
    "\n",
    "#paste your Resource id here\n",
    "resource_id = \"\"\n",
    "\n",
    "#Import your azure quantum provider resource_id\n",
    "provider = AzureQuantumProvider (\n",
    "    resource_id = resource_id,\n",
    "    location = \"westus\"\n",
    ")\n",
    "\n",
    "from qiskit.providers.aer import QasmSimulator\n",
    "qasm_backend = QasmSimulator()\n",
    "\n",
    "sim_backend_qis = provider.get_backend('ionq.simulator', gateset='qis')\n",
    "sim_backend_nat = provider.get_backend('ionq.simulator', gateset='native')\n",
    "\n",
    "qpu_backend_qis = provider.get_backend('ionq.qpu.aria-1', gateset='qis')\n",
    "qpu_backend_nat = provider.get_backend('ionq.qpu.aria-1', gateset='native')"
   ]
  },
  {
   "cell_type": "code",
   "execution_count": 4,
   "id": "fce91e69",
   "metadata": {
    "ExecuteTime": {
     "end_time": "2023-01-22T21:12:56.463021Z",
     "start_time": "2023-01-22T21:12:56.457724Z"
    }
   },
   "outputs": [],
   "source": [
    "from qiskit.providers.aer import QasmSimulator\n",
    "qasm_backend = QasmSimulator()"
   ]
  },
  {
   "cell_type": "code",
   "execution_count": 5,
   "id": "ef2914f1",
   "metadata": {
    "ExecuteTime": {
     "end_time": "2023-01-22T21:12:56.709545Z",
     "start_time": "2023-01-22T21:12:56.648933Z"
    }
   },
   "outputs": [],
   "source": [
    "from qiskit import QuantumCircuit\n",
    "from qiskit.visualization import plot_histogram, plot_state_city, plot_bloch_multivector\n",
    "from qiskit.quantum_info import Statevector, DensityMatrix, state_fidelity"
   ]
  },
  {
   "cell_type": "markdown",
   "id": "9133638d",
   "metadata": {
    "ExecuteTime": {
     "end_time": "2023-01-22T19:04:45.560970Z",
     "start_time": "2023-01-22T19:04:45.550648Z"
    }
   },
   "source": [
    "Let us first consider an implementation using an ideal machine via the QASM simultator and simulating the error directly.\n",
    "\n",
    "Suppose we have a pulse-length error that takes $R_x(\\theta) \\to R_x(\\theta(1+\\epsilon))$.\n",
    "As a result the $R_x(\\pi)$ will over rotate an arbitrary input; some amount of the resulting output will thus measure as 0 rather than 1 as expected:"
   ]
  },
  {
   "cell_type": "code",
   "execution_count": 61,
   "id": "ae1f0cc8",
   "metadata": {
    "ExecuteTime": {
     "end_time": "2023-01-22T19:04:59.331082Z",
     "start_time": "2023-01-22T19:04:59.313498Z"
    }
   },
   "outputs": [],
   "source": [
    "# Define the angles\n",
    "theta = np.pi\n",
    "phi = np.arccos(- theta / (4 * np.pi))\n",
    "\n",
    "# Define the error\n",
    "epsilon = 0.1\n",
    "ttheta = np.pi * (1 + epsilon)"
   ]
  },
  {
   "cell_type": "code",
   "execution_count": 62,
   "id": "37f21119",
   "metadata": {
    "ExecuteTime": {
     "end_time": "2023-01-22T19:05:08.363015Z",
     "start_time": "2023-01-22T19:05:08.081538Z"
    }
   },
   "outputs": [
    {
     "data": {
      "image/png": "[encoded data removed]",
      "text/plain": [
       "<Figure size 413.165x200.667 with 1 Axes>"
      ]
     },
     "execution_count": 62,
     "metadata": {},
     "output_type": "execute_result"
    }
   ],
   "source": [
    "circ_rx = QuantumCircuit(1)\n",
    "\n",
    "# Using a circuit with a pulse-length error\n",
    "circ_rx.rx(theta=ttheta, qubit=0)\n",
    "\n",
    "circ_rx.measure_all()\n",
    "\n",
    "circ_rx.draw('mpl')"
   ]
  },
  {
   "cell_type": "markdown",
   "id": "9b60c239",
   "metadata": {},
   "source": [
    "Now running the job on the QASM simulator backend we see that there is some number of measurements of 0 which is incorrect from our epsilon error, despite the desired implementation being a $\\pi$ pulse which should take |0> -> |1>."
   ]
  },
  {
   "cell_type": "code",
   "execution_count": 63,
   "id": "b3467e34",
   "metadata": {
    "ExecuteTime": {
     "end_time": "2023-01-22T19:05:23.758788Z",
     "start_time": "2023-01-22T19:05:23.636363Z"
    }
   },
   "outputs": [],
   "source": [
    "job = qasm_backend.run(circ_rx, shots=10000) "
   ]
  },
  {
   "cell_type": "code",
   "execution_count": 64,
   "id": "fdc985a8",
   "metadata": {
    "ExecuteTime": {
     "end_time": "2023-01-22T19:05:25.655042Z",
     "start_time": "2023-01-22T19:05:25.492782Z"
    }
   },
   "outputs": [
    {
     "data": {
      "image/png": "[encoded data removed]",
      "text/plain": [
       "<Figure size 700x500 with 1 Axes>"
      ]
     },
     "execution_count": 64,
     "metadata": {},
     "output_type": "execute_result"
    }
   ],
   "source": [
    "plot_histogram(job.result().get_counts())"
   ]
  },
  {
   "cell_type": "markdown",
   "id": "13bf938a",
   "metadata": {},
   "source": [
    "Now let's do this with the BB1 pulse sequence and see if the composite pulse sequence can account for the error"
   ]
  },
  {
   "cell_type": "code",
   "execution_count": 65,
   "id": "b5343255",
   "metadata": {
    "ExecuteTime": {
     "end_time": "2023-01-22T19:08:23.924267Z",
     "start_time": "2023-01-22T19:08:22.888867Z"
    }
   },
   "outputs": [
    {
     "data": {
      "image/png": "[encoded data removed]",
      "text/plain": [
       "<Figure size 1165.66x200.667 with 1 Axes>"
      ]
     },
     "execution_count": 65,
     "metadata": {},
     "output_type": "execute_result"
    }
   ],
   "source": [
    "circ_BB1 = QuantumCircuit(1)\n",
    "\n",
    "# Note that the error occurs in all parts of the pulse\n",
    "circ_BB1.r(theta=ttheta, phi=0, qubit=0)\n",
    "circ_BB1.barrier()\n",
    "circ_BB1.r(theta=np.pi * (1 + epsilon), phi=phi, qubit=0)\n",
    "circ_BB1.barrier()\n",
    "circ_BB1.r(theta=2*np.pi * (1 + epsilon), phi=3 * phi, qubit=0)\n",
    "circ_BB1.barrier()\n",
    "circ_BB1.r(theta=np.pi * (1 + epsilon), phi=phi, qubit=0)\n",
    "circ_BB1.measure_all()\n",
    "\n",
    "circ_BB1.draw('mpl')"
   ]
  },
  {
   "cell_type": "markdown",
   "id": "04f444bc",
   "metadata": {},
   "source": [
    "Running the job for the BB1 pulse sequence, we see that the errors are significantly surpressed and accounted for!"
   ]
  },
  {
   "cell_type": "code",
   "execution_count": 66,
   "id": "477b85f7",
   "metadata": {
    "ExecuteTime": {
     "end_time": "2023-01-22T19:08:52.116440Z",
     "start_time": "2023-01-22T19:08:52.098902Z"
    }
   },
   "outputs": [],
   "source": [
    "job = qasm_backend.run(circ_BB1, shots=10000) "
   ]
  },
  {
   "cell_type": "code",
   "execution_count": 67,
   "id": "63c5a55d",
   "metadata": {
    "ExecuteTime": {
     "end_time": "2023-01-22T19:08:57.082616Z",
     "start_time": "2023-01-22T19:08:56.976757Z"
    }
   },
   "outputs": [
    {
     "data": {
      "image/png": "[encoded data removed]",
      "text/plain": [
       "<Figure size 700x500 with 1 Axes>"
      ]
     },
     "execution_count": 67,
     "metadata": {},
     "output_type": "execute_result"
    }
   ],
   "source": [
    "plot_histogram(job.result().get_counts())"
   ]
  },
  {
   "cell_type": "markdown",
   "id": "dead73e3",
   "metadata": {},
   "source": [
    "So the composite pulse sequence works!"
   ]
  },
  {
   "cell_type": "markdown",
   "id": "eea4794c",
   "metadata": {},
   "source": [
    "Now let's try to do the same thing but instead of introducing the error ourselves with $\\epsilon$. Let's do the simulation with IonQ's native gates and see if there are errors in IonQ's native gates, and if we can correct for them with our composite pulse sequence."
   ]
  },
  {
   "cell_type": "markdown",
   "id": "2e4cdb1a",
   "metadata": {},
   "source": [
    "## Background: Native gates for IonQ\n",
    "\n",
    "The IonQ system is equipped with two user-accessible native gates for single-qubit operations: the GPi and GPi2 gates.\n",
    "Both of these gates are physically implemented as $\\pi$ and $\\pi/2$ Rabi oscillations of individual qubits within the system.\n",
    "As such, these gates are prone to errors which arise from both amplitude and pulse length errors which result in over-/under-rotations of the qubit on the Bloch sphere.\n",
    "There is also the potential for phase errors but these are implemented internal to the control system and thus are expected to have a higher degree of fidelity than the physically implemented pulse-type errors so we can ignore them.\n",
    "Our goal for this section is to probe both the pulse and phase errors.\n",
    "\n",
    "A general rotation by angle $\\theta$ around axis given by $\\hat n$ is given by the matrix exponential\n",
    "\n",
    "\\begin{equation}\n",
    "    R_{\\hat n} (\\theta) = \\exp\\Bigg( - \\frac{i\\theta \\hat n \\cdot \\mathbf{\\sigma} }{2} \\Bigg)\n",
    "\\end{equation}\n",
    "\n",
    "which can also be expressed in the form\n",
    "\n",
    "\\begin{equation}\n",
    "    R_{\\hat n} (\\theta) = \\cos\\frac{\\theta}{2} I - i \\sin\\frac{\\theta}{2} (n_x X + n_y Y + n_z Z).\n",
    "\\end{equation}\n",
    "\n",
    "Restricting ourselves to rotations about axes in the $xy$-plane given by azimuthal angle $\\varphi$ then we can write the matrix form\n",
    "\n",
    "\\begin{equation}\n",
    "    R_{\\varphi} (\\theta) = \n",
    "    \\begin{bmatrix}\n",
    "        \\cos\\frac{\\theta}{2} & -i e^{-i\\varphi} \\sin\\frac{\\theta}{2} \\\\\n",
    "        -i e^{i\\varphi} \\sin\\frac{\\theta}{2} & \\cos\\frac{\\theta}{2}\n",
    "    \\end{bmatrix}.\n",
    "\\end{equation}\n",
    "\n",
    "From here we are able to explicitly relate the single-qubit native gates of the IonQ system to rotations on the Bloch sphere.\n",
    "\n",
    "The GPi gate is given by the matrix\n",
    "\n",
    "\\begin{equation}\n",
    "    GPI(\\phi) = \n",
    "    \\begin{bmatrix}\n",
    "        0 & e^{-i\\phi} \\\\ e^{i\\phi} & 0\n",
    "    \\end{bmatrix}\n",
    "\\end{equation}\n",
    "\n",
    "As the documentation (and name) suggests, the GPi gate implements a $\\pi$ rotation of the qubit about an arbitrary azimuthal axis.\n",
    "One observes that the rotation axis is indeed given by the azimuthal angle $\\phi$ but we do not include the effect of an overal global phase of $-i$ which would directly equate it to the $R_\\phi(\\pi)$ gate.\n",
    "Thus we make the equivalence\n",
    "\n",
    "\\begin{equation}\n",
    "    GPI(\\phi) = i R_\\phi(\\pi),\n",
    "\\end{equation}\n",
    "\n",
    "which establishes the first single-qubit native gate as a rotation.\n",
    "\n",
    "Similarly the GPi2 gate\n",
    "\n",
    "\\begin{equation}\n",
    "    GPI_2(\\phi) = \\frac{1}{\\sqrt{2}}\n",
    "    \\begin{bmatrix}\n",
    "        1 & -ie^{-i\\phi} \\\\ -ie^{i\\phi} & 1\n",
    "    \\end{bmatrix} \n",
    "\\end{equation}\n",
    "\n",
    "is straightforwardly seen to be a $\\pi/2$ rotation about the axis $\\phi$.\n",
    "We can similarly establish\n",
    "\n",
    "\\begin{equation}\n",
    "    GPI_2(\\phi) = R_\\phi(\\pi/2).\n",
    "\\end{equation}\n",
    "\n",
    "### To do general $R_x(\\theta) $ Rotations\n",
    "\n",
    "A general $R_x(\\theta)$ rotation in the native gateset by the unitary\n",
    "\n",
    "\\begin{equation}\n",
    "    R_x(\\theta) = GPI_2(\\phi=\\pi/2) GZ(\\theta) GPI_2^\\dagger(\\phi=\\pi/2) = GPI_2(\\phi=\\pi/2) GZ(\\theta) GPI_2(\\phi=-\\pi/2)\n",
    "\\end{equation}\n",
    "\n",
    "Unfortunately, IonQ does not allow for direct usage of the $GZ(\\theta) = R_z(\\theta)$ gate in the circuit compilation and so we have to manually append the phase offset to all future gates, i.e.\n",
    "\n",
    "\n",
    "\\begin{equation}\n",
    "    R_x(\\theta) \\equiv GPI_2(\\phi=\\pi/2 + \\theta) GPI_2(\\phi=-\\pi/2).\n",
    "\\end{equation}\n",
    "\n",
    "Note that this requires that **all** subsequent gates are phase shifted by $\\theta$. This will be handy later when we try to implement composite pulses for QSP purposes."
   ]
  },
  {
   "cell_type": "markdown",
   "id": "473cbb78",
   "metadata": {},
   "source": [
    "### Implementation with native gates on the IonQ system\n",
    "\n",
    "First the $R_x(\\pi)$ control experiment which is directly implemented by a GPi pulse:"
   ]
  },
  {
   "cell_type": "code",
   "execution_count": 8,
   "id": "f58bf6dd",
   "metadata": {
    "ExecuteTime": {
     "end_time": "2023-01-22T21:13:32.012018Z",
     "start_time": "2023-01-22T21:13:31.709126Z"
    }
   },
   "outputs": [
    {
     "data": {
      "image/png": "[encoded data removed]",
      "text/plain": [
       "<Figure size 413.165x200.667 with 1 Axes>"
      ]
     },
     "execution_count": 8,
     "metadata": {},
     "output_type": "execute_result"
    }
   ],
   "source": [
    "circ_rx = QuantumCircuit(1)\n",
    "\n",
    "# Implement the Rx(pi) via a single GPI with argument phi = 0\n",
    "circ_rx.append(GPIGate(0),[0]) \n",
    "circ_rx.measure_all()\n",
    "\n",
    "circ_rx.draw('mpl')"
   ]
  },
  {
   "cell_type": "code",
   "execution_count": 9,
   "id": "cdcae02b",
   "metadata": {
    "ExecuteTime": {
     "end_time": "2023-01-22T21:13:33.489267Z",
     "start_time": "2023-01-22T21:13:32.014464Z"
    }
   },
   "outputs": [],
   "source": [
    "job1 = sim_backend_nat.run(circ_rx, shots=1000)"
   ]
  },
  {
   "cell_type": "code",
   "execution_count": 10,
   "id": "ed8f3ed7",
   "metadata": {
    "ExecuteTime": {
     "end_time": "2023-01-22T21:13:44.549228Z",
     "start_time": "2023-01-22T21:13:33.565142Z"
    }
   },
   "outputs": [
    {
     "name": "stdout",
     "output_type": "stream",
     "text": [
      "........"
     ]
    },
    {
     "data": {
      "image/png": "[encoded data removed]",
      "text/plain": [
       "<Figure size 700x500 with 1 Axes>"
      ]
     },
     "execution_count": 10,
     "metadata": {},
     "output_type": "execute_result"
    }
   ],
   "source": [
    "# Direct Rx\n",
    "plot_histogram(job1.result().get_counts(), title = \"Rx\")"
   ]
  },
  {
   "cell_type": "markdown",
   "id": "80f0dca3",
   "metadata": {},
   "source": [
    "The BB1 pulse sequence can similarly be implemented using GPi pulses and choosing the argument $\\phi$ correctly:"
   ]
  },
  {
   "cell_type": "code",
   "execution_count": 11,
   "id": "9f362b46",
   "metadata": {
    "ExecuteTime": {
     "end_time": "2023-01-22T21:13:44.555087Z",
     "start_time": "2023-01-22T21:13:44.551913Z"
    }
   },
   "outputs": [],
   "source": [
    "# Define the angles\n",
    "theta = np.pi\n",
    "phi = np.arccos(- theta / (4 * np.pi))"
   ]
  },
  {
   "cell_type": "code",
   "execution_count": 12,
   "id": "576b6193",
   "metadata": {
    "ExecuteTime": {
     "end_time": "2023-01-22T21:13:44.697141Z",
     "start_time": "2023-01-22T21:13:44.556950Z"
    }
   },
   "outputs": [
    {
     "data": {
      "image/png": "[encoded data removed]",
      "text/plain": [
       "<Figure size 998.442x200.667 with 1 Axes>"
      ]
     },
     "execution_count": 12,
     "metadata": {},
     "output_type": "execute_result"
    }
   ],
   "source": [
    "circ_BB1 = QuantumCircuit(1)\n",
    "\n",
    "circ_BB1.append(GPIGate(0),[0]) \n",
    "circ_BB1.barrier()\n",
    "circ_BB1.append(GPIGate(phi),[0]) \n",
    "circ_BB1.barrier()\n",
    "\n",
    "# The 2*pi pulse around 3*phi is implemented via two GPi Gates\n",
    "circ_BB1.append(GPIGate(3 * phi),[0]) \n",
    "circ_BB1.append(GPIGate(3 * phi),[0]) \n",
    "circ_BB1.barrier()\n",
    "circ_BB1.append(GPIGate(phi),[0]) \n",
    "\n",
    "\n",
    "circ_BB1.measure_all()\n",
    "\n",
    "circ_BB1.draw('mpl')"
   ]
  },
  {
   "cell_type": "markdown",
   "id": "db9eb4c7",
   "metadata": {},
   "source": [
    "Running the jobs on the IonQ simulator backend using the native gateset:"
   ]
  },
  {
   "cell_type": "code",
   "execution_count": 13,
   "id": "50d9ed1a",
   "metadata": {
    "ExecuteTime": {
     "end_time": "2023-01-22T21:13:50.240973Z",
     "start_time": "2023-01-22T21:13:49.223110Z"
    }
   },
   "outputs": [],
   "source": [
    "job2 = sim_backend_nat.run(circ_BB1, shots=1000)"
   ]
  },
  {
   "cell_type": "code",
   "execution_count": 14,
   "id": "263cb75a",
   "metadata": {
    "ExecuteTime": {
     "end_time": "2023-01-22T21:14:01.894824Z",
     "start_time": "2023-01-22T21:13:50.244026Z"
    }
   },
   "outputs": [
    {
     "name": "stdout",
     "output_type": "stream",
     "text": [
      "........"
     ]
    },
    {
     "data": {
      "image/png": "[encoded data removed]",
      "text/plain": [
       "<Figure size 700x500 with 1 Axes>"
      ]
     },
     "execution_count": 14,
     "metadata": {},
     "output_type": "execute_result"
    }
   ],
   "source": [
    "# BB1 implementation\n",
    "plot_histogram(job2.result().get_counts())"
   ]
  },
  {
   "cell_type": "markdown",
   "id": "7d381cc0",
   "metadata": {},
   "source": [
    "This is odd, the simulator does not seem to include the noise one would expect that is inherent to the native IonQ GPI gates. \n",
    "We are not sure if this is because the simulator assumes better results than expected or if there is some other resason that leads to this."
   ]
  },
  {
   "cell_type": "markdown",
   "id": "942e428f",
   "metadata": {},
   "source": [
    "### Running on IonQ QPU"
   ]
  },
  {
   "cell_type": "code",
   "execution_count": 15,
   "id": "ad87ad18",
   "metadata": {
    "ExecuteTime": {
     "end_time": "2023-01-22T21:14:05.923728Z",
     "start_time": "2023-01-22T21:14:04.472846Z"
    }
   },
   "outputs": [],
   "source": [
    "job1 = qpu_backend_nat.run(circ_rx, shots=1000)\n",
    "job2 = qpu_backend_nat.run(circ_BB1, shots=1000)"
   ]
  },
  {
   "cell_type": "code",
   "execution_count": 16,
   "id": "1db5923e",
   "metadata": {
    "ExecuteTime": {
     "end_time": "2023-01-22T21:14:07.322356Z",
     "start_time": "2023-01-22T21:14:07.318914Z"
    }
   },
   "outputs": [
    {
     "name": "stdout",
     "output_type": "stream",
     "text": [
      "job1 (R_x) ID: b327918e-9a99-11ed-81ee-acde48001122\n",
      "job2 (BB1) ID: b397486c-9a99-11ed-81ee-acde48001122\n"
     ]
    }
   ],
   "source": [
    "print('job1 (R_x) ID:', job1.job_id())\n",
    "print('job2 (BB1) ID:', job2.job_id())"
   ]
  },
  {
   "cell_type": "code",
   "execution_count": 18,
   "id": "cbefa083",
   "metadata": {
    "ExecuteTime": {
     "end_time": "2023-01-22T21:15:35.198122Z",
     "start_time": "2023-01-22T21:15:34.585165Z"
    }
   },
   "outputs": [
    {
     "name": "stdout",
     "output_type": "stream",
     "text": [
      "RX ; ID: b327918e-9a99-11ed-81ee-acde48001122 is done? False\n",
      "BB1; ID: b397486c-9a99-11ed-81ee-acde48001122 is done? False\n"
     ]
    }
   ],
   "source": [
    "job1 = qpu_backend_nat.retrieve_job('b327918e-9a99-11ed-81ee-acde48001122')\n",
    "job2 = qpu_backend_nat.retrieve_job('b397486c-9a99-11ed-81ee-acde48001122')\n",
    "\n",
    "print('RX ; ID:', 'b327918e-9a99-11ed-81ee-acde48001122', 'is done?',job1.done())\n",
    "print('BB1; ID:', 'b397486c-9a99-11ed-81ee-acde48001122', 'is done?',job2.done())"
   ]
  },
  {
   "cell_type": "code",
   "execution_count": 5,
   "id": "653dd088",
   "metadata": {
    "scrolled": true
   },
   "outputs": [
    {
     "data": {
      "image/png": "[encoded data removed]",
      "text/plain": [
       "<Figure size 504x360 with 1 Axes>"
      ]
     },
     "execution_count": 5,
     "metadata": {},
     "output_type": "execute_result"
    }
   ],
   "source": [
    "# Direct Rx\n",
    "plot_histogram(job1.result().get_counts())"
   ]
  },
  {
   "cell_type": "code",
   "execution_count": 6,
   "id": "a7ca0fe4",
   "metadata": {},
   "outputs": [
    {
     "data": {
      "image/png": "[encoded data removed]",
      "text/plain": [
       "<Figure size 504x360 with 1 Axes>"
      ]
     },
     "execution_count": 6,
     "metadata": {},
     "output_type": "execute_result"
    }
   ],
   "source": [
    "# BB1 implementation\n",
    "plot_histogram(job2.result().get_counts())"
   ]
  },
  {
   "cell_type": "markdown",
   "id": "df9eeb24",
   "metadata": {},
   "source": [
    "Unfortunately, it seems as though the performance of the BB1 circuit is at best comparable to the direct implementation, if not slightly worse.\n",
    "This is perhaps not too surprising since the BB1 sequence is intended to correct for only the specific type of errors corresponding to _consistent_ pulse-length errors.\n",
    "If the errors here are a result of SPAM-type noise or other stochastic sources, then it is likely that these sources of noise are masking any corrections to small pulse length errors that BB1 achieves.\n",
    "Recall that even large errors of about 10% over-rotation in the QASM simulations produced noise to a similar degree (by measure of spurious 0 counts).\n",
    "It would be expected that the IonQ system has pulse-length errors that are at least smaller than this error rate, so the noise signal is expected to be quite small."
   ]
  },
  {
   "cell_type": "markdown",
   "id": "fcde7aee",
   "metadata": {},
   "source": [
    "## Composite Pulses in Quantum Signal Processing (QSP)\n",
    "\n",
    "Although BB1 may not serve as a means of counteracting error in the currently available NISQ systems, there is potential for composite pulses, such as BB1, to have significance in QSP, such as increasing the parameter sensitivity as discussed in [2]. \n",
    "Such modification of the transition probability bears some significance to generalizations of quantum algorithms. Let's look at this! \n",
    "\n",
    "\n",
    "### Theory\n",
    "Following the discussion in [2], the BB1 sequence (and indeed general QSP sequences) can be represented as a sequence of operations:\n",
    "\n",
    "\\begin{equation}\n",
    "    U = e^{i\\phi_0 Z} \\prod_{k=1}^{d} W(a) e^{i \\phi_k Z} =R_z(\\phi_0) U_{\\phi_1}U_{\\phi_2}U_{\\phi_3} ...U_{\\phi_N} =  R_z(\\phi_0)\\cdot R_x(\\theta)R_z(\\phi_1)\\cdot R_x(\\theta)R_z(\\phi_2)... R_x(\\theta)R_z(\\phi_N),\n",
    "\\end{equation}\n",
    "\n",
    "i.e. a series of interleaved $R_z$ rotations by a vector of angles $\\phi$ and a single operator $W(a)$.\n",
    "To not stray too far from what has already been discussed, we note that the rotation operator $W(a)$ is can be taken to be an $x$-rotation operator by angle $\\theta = -2\\cos^{-1}a$.\n",
    "In other words we can let $W(a) = R_x(-2\\cos^{-1}a)$ --- since we want to parameterize in terms of $\\theta$ anyway it is fine to ignore the $a$ variable for this work. \n",
    "\n",
    "### Implementing general BB1$_\\theta$ for QSP\n",
    "So in the above section, we did everything to implement a $R_X(\\theta = \\pi)$ pulse. Now let's do it for general $\\theta$ and compare it to $R_X(\\theta)$. As given by [2] , the set of phases $\\phi = (\\pi/2, -\\eta, 2\\eta, 0, -2\\eta, \\eta)$ with $\\eta = \\cos^{-1}(-1/4) / 2$ gives the BB1 sequence. Let's try it out and see what happens"
   ]
  },
  {
   "cell_type": "markdown",
   "id": "92d9fedd",
   "metadata": {},
   "source": [
    "### QASM simulation\n",
    "\n",
    "An important note: the QSP description uses a series of $Z$ operator exponentials.\n",
    "This corresponds to a $Z$ rotation, however the precise angle of the rotation is not $\\phi$ but actually $-2\\phi$ due to the definition of the rotation operators. This change is important in following code."
   ]
  },
  {
   "cell_type": "code",
   "execution_count": 23,
   "id": "4c7c625d",
   "metadata": {
    "ExecuteTime": {
     "end_time": "2023-01-22T21:41:18.584575Z",
     "start_time": "2023-01-22T21:41:18.579505Z"
    }
   },
   "outputs": [],
   "source": [
    "def qsp_bb1(theta):\n",
    "    \n",
    "    circ = QuantumCircuit(1)\n",
    "    \n",
    "    eta = np.arccos(-1/4) / 2\n",
    "    phi = [np.pi/2, -eta, 2*eta, 0, -2*eta, eta]\n",
    "\n",
    "    for i in range(0, 5):\n",
    "        circ.rz(phi=-2*phi[5-i], qubit=0)\n",
    "        circ.rx(theta=theta, qubit=0)\n",
    "        circ.barrier()\n",
    "\n",
    "    circ.rz(phi=-2*phi[0], qubit=0)\n",
    "    \n",
    "    circ.measure_all()\n",
    "\n",
    "    return circ\n",
    "\n",
    "def Rx_circ(theta):\n",
    "    circ = QuantumCircuit(1)\n",
    "\n",
    "    # R_x(theta)\n",
    "    circ.rx(theta, qubit=0)\n",
    "    \n",
    "    # Measure the qubit\n",
    "    circ.measure_all()\n",
    "    \n",
    "    return circ"
   ]
  },
  {
   "cell_type": "code",
   "execution_count": 24,
   "id": "94fe5e23",
   "metadata": {
    "ExecuteTime": {
     "end_time": "2023-01-22T21:41:19.324490Z",
     "start_time": "2023-01-22T21:41:19.138973Z"
    }
   },
   "outputs": [
    {
     "data": {
      "image/png": "[encoded data removed]",
      "text/plain": [
       "<Figure size 1667.33x200.667 with 1 Axes>"
      ]
     },
     "execution_count": 24,
     "metadata": {},
     "output_type": "execute_result"
    }
   ],
   "source": [
    "qsp_bb1(0).draw('mpl')"
   ]
  },
  {
   "cell_type": "code",
   "execution_count": 25,
   "id": "8915da66",
   "metadata": {
    "ExecuteTime": {
     "end_time": "2023-01-22T21:41:19.911471Z",
     "start_time": "2023-01-22T21:41:19.908717Z"
    }
   },
   "outputs": [],
   "source": [
    "thetas = np.linspace(-np.pi, np.pi, 21)"
   ]
  },
  {
   "cell_type": "code",
   "execution_count": 26,
   "id": "2e786b80",
   "metadata": {
    "ExecuteTime": {
     "end_time": "2023-01-22T21:41:20.633955Z",
     "start_time": "2023-01-22T21:41:20.619665Z"
    }
   },
   "outputs": [],
   "source": [
    "qsp_circuits = []\n",
    "rx_circuits = []\n",
    "\n",
    "for theta in thetas:\n",
    "    qsp_circuits.append( qsp_bb1(theta) )\n",
    "    rx_circuits.append( Rx_circ(theta) )"
   ]
  },
  {
   "cell_type": "code",
   "execution_count": 28,
   "id": "b50d6967",
   "metadata": {
    "ExecuteTime": {
     "end_time": "2023-01-22T21:41:56.679384Z",
     "start_time": "2023-01-22T21:41:56.675647Z"
    }
   },
   "outputs": [],
   "source": [
    "# to tally counts\n",
    "def calc_p0(counts):\n",
    "    \n",
    "    try:\n",
    "        counts['1']\n",
    "    except:\n",
    "        counts['1'] = 0\n",
    "        \n",
    "    try:\n",
    "        counts['0']\n",
    "    except:\n",
    "        counts['0'] = 0\n",
    "    \n",
    "    total = counts['0'] + counts['1']\n",
    "    return counts['0'] / total"
   ]
  },
  {
   "cell_type": "code",
   "execution_count": 29,
   "id": "6c9e778d",
   "metadata": {
    "ExecuteTime": {
     "end_time": "2023-01-22T21:41:58.008135Z",
     "start_time": "2023-01-22T21:41:57.783335Z"
    }
   },
   "outputs": [],
   "source": [
    "qsp_p0s = []\n",
    "for circuit in qsp_circuits:\n",
    "    job = qasm_backend.run(circuit, shots=10000)\n",
    "    qsp_p0s.append( calc_p0(job.result().get_counts()) )"
   ]
  },
  {
   "cell_type": "code",
   "execution_count": 30,
   "id": "abe17bc4",
   "metadata": {
    "ExecuteTime": {
     "end_time": "2023-01-22T21:41:59.073310Z",
     "start_time": "2023-01-22T21:41:58.847044Z"
    }
   },
   "outputs": [],
   "source": [
    "rx_p0s = []\n",
    "for circuit in rx_circuits:\n",
    "    job = qasm_backend.run(circuit, shots=10000)\n",
    "    rx_p0s.append( calc_p0(job.result().get_counts()) )"
   ]
  },
  {
   "cell_type": "code",
   "execution_count": 31,
   "id": "ce3178a7",
   "metadata": {
    "ExecuteTime": {
     "end_time": "2023-01-22T21:42:02.024430Z",
     "start_time": "2023-01-22T21:42:01.824204Z"
    }
   },
   "outputs": [
    {
     "data": {
      "image/png": "[encoded data removed]",
      "text/plain": [
       "<Figure size 640x480 with 1 Axes>"
      ]
     },
     "metadata": {},
     "output_type": "display_data"
    }
   ],
   "source": [
    "theta = np.linspace(-np.pi, np.pi, 100)\n",
    "theory1 = np.cos(theta/2) ** 2 \n",
    "plt.plot(theta, theory1, 'k--', label=r'$\\cos^2(\\theta/2)$')\n",
    "\n",
    "theory2 = (1/8) * np.cos(theta/2) ** 2 * (3 * np.cos(theta/2) ** 8 - 15 * np.cos(theta/2) ** 6 \n",
    "                                         + 35 * np.cos(theta/2) ** 4 - 45 * np.cos(theta/2) ** 2 + 30)\n",
    "plt.plot(theta, theory2, 'k-.', label=r'$f(\\theta)$')\n",
    "\n",
    "plt.plot(thetas, qsp_p0s, 'o', label=r'BB1$_\\theta$')\n",
    "plt.plot(thetas, rx_p0s, 'o', label=r'$R_x(\\theta)$')\n",
    "\n",
    "plt.ylabel(r'Transition probability')\n",
    "plt.xlabel(r'Rotation angle $\\theta$ (rad)')\n",
    "\n",
    "plt.legend()\n",
    "\n",
    "plt.show()"
   ]
  },
  {
   "cell_type": "markdown",
   "id": "57ccefdb",
   "metadata": {},
   "source": [
    "Data points are from the simulation while the curves are from the theoretical curves given in [2]. There are a lot of things we can get from this. First off, to understand this, the transition probability is the probability we stay in the |0> state, starting from the |0> state. So a $\\theta = 0$ means we don't do anything to the state at all and so we would expect to be in the |0> state 100% time as we see in the plots here. This makes sense when looking at the Rx curve as the probability drops to 0 when $\\theta = \\pi$ as that means we applied a $R_x(\\pi)$ pulse. \n",
    "\n",
    "We see that results agree with the figure from [2] and the theoretical curve given by\n",
    "\n",
    "\\begin{equation}\n",
    "    f(\\theta) = \\frac{1}{8} \\cos^2\\frac{\\theta}{2} ( 3 \\cos^8\\frac{\\theta}{2} - 15 \\cos^6\\frac{\\theta}{2} + 35 \\cos^4\\frac{\\theta}{2} - 45 \\cos^2\\frac{\\theta}{2} + 30)\n",
    "\\end{equation}\n",
    "\n",
    "which is also given in [2]. \n",
    "\n",
    "We also see that we have a broader band for the BB1 pulse sequence than the Rx single pulse. This means for the BB1 pulse sequence, there is a larger range of $\\theta$ for which the qubit will be unflipped. This is a good thing if we want to be insensitive to noise for certain angles. This is why the BB1 is called BB (broadband) in QSP.  Then at around $\\theta = 2 \\pi /3 $, there is a large drop in the transition probablity. Comparing the slopes after this angle between BB1 and the single $R_x$ pulse, the BB1 curve has a higher slope which means we will be more sensitive to $\\theta$ at certain angles! So the BB pulse has 2 advantages in the QSP scheme! "
   ]
  },
  {
   "cell_type": "markdown",
   "id": "50529b36",
   "metadata": {},
   "source": [
    "### IonQ simulator\n",
    "\n",
    "We now seek to implement the QSP BB1 sequence with the native gate set to see what happens if errors are introduced. We also want to see what would happen with quantum hardware. "
   ]
  },
  {
   "cell_type": "code",
   "execution_count": 32,
   "id": "d2ddc277",
   "metadata": {
    "ExecuteTime": {
     "end_time": "2023-01-22T21:42:12.581737Z",
     "start_time": "2023-01-22T21:42:12.571852Z"
    }
   },
   "outputs": [],
   "source": [
    "def qsp_bb1_native(theta):\n",
    "    \n",
    "    circ = QuantumCircuit(1)\n",
    "    \n",
    "    eta = np.arccos(-1/4) / 2\n",
    "    phi = [np.pi/2, -eta, 2*eta, 0, -2*eta, eta]\n",
    "\n",
    "    # 5\n",
    "    delay = -2*phi[5]/(2*np.pi)\n",
    "    # R_x(theta)\n",
    "    # The RZ phase shift is incorporated by the delay term\n",
    "    circ.append(GPI2Gate(-0.25 + delay),[0]) \n",
    "    circ.append(GPI2Gate(0.25 + theta + delay),[0]) \n",
    "    \n",
    "    circ.barrier()\n",
    "    \n",
    "    # 4\n",
    "    # The new delay increases by the new phi and theta from previous gates\n",
    "    delay += -2*phi[4]/(2*np.pi) + theta\n",
    "    # R_x(theta)\n",
    "    circ.append(GPI2Gate(-0.25 + delay),[0]) \n",
    "    circ.append(GPI2Gate(0.25 + theta + delay),[0]) \n",
    "    \n",
    "    circ.barrier()\n",
    "    \n",
    "    # 3\n",
    "    delay += -2*phi[3]/(2*np.pi) + theta\n",
    "    # R_x(theta)\n",
    "    circ.append(GPI2Gate(-0.25 + delay),[0]) \n",
    "    circ.append(GPI2Gate(0.25 + theta + delay),[0]) \n",
    "    \n",
    "    circ.barrier()\n",
    "    \n",
    "    # 2\n",
    "    delay += -2*phi[2]/(2*np.pi) + theta\n",
    "    # R_x(theta)\n",
    "    circ.append(GPI2Gate(-0.25 + delay),[0]) \n",
    "    circ.append(GPI2Gate(0.25 + theta + delay),[0]) \n",
    "    \n",
    "    circ.barrier()\n",
    "    \n",
    "    # 1\n",
    "    delay += -2*phi[1]/(2*np.pi) + theta\n",
    "    # R_x(theta)\n",
    "    circ.append(GPI2Gate(-0.25 + delay),[0]) \n",
    "    circ.append(GPI2Gate(0.25 + theta + delay),[0]) \n",
    "    \n",
    "    # 0\n",
    "    # circ.rz(phi=-2*phi[0], qubit=0)\n",
    "    # We're supposed to have an Rz here but since it does not affect\n",
    "    # the probabilities we just ignore it since we cannot implement it\n",
    "    # using the IonQ system's current toolset.\n",
    "    \n",
    "    circ.measure_all()\n",
    "\n",
    "    return circ\n",
    "\n",
    "def Rx_circ_native(theta):\n",
    "    circ = QuantumCircuit(1)\n",
    "\n",
    "    # R_x(theta)\n",
    "    circ.append(GPI2Gate(-0.25),[0]) \n",
    "    circ.append(GPI2Gate(0.25 + theta),[0]) \n",
    "    \n",
    "    # Measure the qubit\n",
    "    circ.measure_all()\n",
    "    \n",
    "    return circ\n"
   ]
  },
  {
   "cell_type": "code",
   "execution_count": 33,
   "id": "680f7158",
   "metadata": {
    "ExecuteTime": {
     "end_time": "2023-01-22T21:42:13.119087Z",
     "start_time": "2023-01-22T21:42:12.951769Z"
    }
   },
   "outputs": [
    {
     "data": {
      "image/png": "[encoded data removed]",
      "text/plain": [
       "<Figure size 1500.11x200.667 with 1 Axes>"
      ]
     },
     "execution_count": 33,
     "metadata": {},
     "output_type": "execute_result"
    }
   ],
   "source": [
    "qsp_bb1_native(0).draw('mpl')"
   ]
  },
  {
   "cell_type": "code",
   "execution_count": 34,
   "id": "f1e7af88",
   "metadata": {
    "ExecuteTime": {
     "end_time": "2023-01-22T21:42:33.987571Z",
     "start_time": "2023-01-22T21:42:33.977092Z"
    }
   },
   "outputs": [],
   "source": [
    "# Need to modify to fractional rotations from radians for the native set\n",
    "thetas = np.linspace(-0.5, 0.5, 11)\n",
    "\n",
    "qsp_circuits = []\n",
    "rx_circuits = []\n",
    "\n",
    "for theta in thetas:\n",
    "    qsp_circuits.append( qsp_bb1_native(theta) )\n",
    "    rx_circuits.append( Rx_circ_native(theta) )"
   ]
  },
  {
   "cell_type": "code",
   "execution_count": 35,
   "id": "e3a41bff",
   "metadata": {
    "ExecuteTime": {
     "end_time": "2023-01-22T21:44:29.403467Z",
     "start_time": "2023-01-22T21:42:34.347180Z"
    }
   },
   "outputs": [
    {
     "name": "stdout",
     "output_type": "stream",
     "text": [
      "..................................................................................."
     ]
    }
   ],
   "source": [
    "qsp_p0s = []\n",
    "for circuit in qsp_circuits:\n",
    "    job = sim_backend_nat.run(circuit, shots=1000)\n",
    "    qsp_p0s.append( calc_p0(job.result().get_counts()) )"
   ]
  },
  {
   "cell_type": "code",
   "execution_count": 36,
   "id": "15a8bc7e",
   "metadata": {
    "ExecuteTime": {
     "end_time": "2023-01-22T21:46:43.114656Z",
     "start_time": "2023-01-22T21:45:08.130101Z"
    }
   },
   "outputs": [
    {
     "name": "stdout",
     "output_type": "stream",
     "text": [
      ".............................................................................."
     ]
    }
   ],
   "source": [
    "rx_p0s = []\n",
    "for circuit in rx_circuits:\n",
    "    job = sim_backend_nat.run(circuit, shots=1000)\n",
    "    rx_p0s.append( calc_p0(job.result().get_counts()) )"
   ]
  },
  {
   "cell_type": "code",
   "execution_count": 37,
   "id": "02c9e9bd",
   "metadata": {
    "ExecuteTime": {
     "end_time": "2023-01-22T21:46:47.534879Z",
     "start_time": "2023-01-22T21:46:47.329579Z"
    }
   },
   "outputs": [
    {
     "data": {
      "image/png": "[encoded data removed]",
      "text/plain": [
       "<Figure size 640x480 with 1 Axes>"
      ]
     },
     "metadata": {},
     "output_type": "display_data"
    }
   ],
   "source": [
    "theta = np.linspace(-np.pi, np.pi, 100)\n",
    "theory1 = np.cos(theta/2) ** 2 \n",
    "plt.plot(theta, theory1, 'k--', label=r'$\\cos^2(\\theta/2)$')\n",
    "\n",
    "theory2 = (1/8) * np.cos(theta/2) ** 2 * (3 * np.cos(theta/2) ** 8 - 15 * np.cos(theta/2) ** 6 \n",
    "                                         + 35 * np.cos(theta/2) ** 4 - 45 * np.cos(theta/2) ** 2 + 30)\n",
    "plt.plot(theta, theory2, 'k-.', label=r'$f(\\theta)$')\n",
    "\n",
    "\n",
    "plt.plot(2*np.pi*thetas, qsp_p0s, 'o', label=r'BB1$_\\theta$')\n",
    "plt.plot(2*np.pi*thetas, rx_p0s, 'o', label=r'$R_x(\\theta)$')\n",
    "\n",
    "plt.ylabel(r'Transition probability')\n",
    "plt.xlabel(r'Rotation angle $\\theta$ (rad)')\n",
    "\n",
    "plt.legend()\n",
    "\n",
    "plt.show()"
   ]
  },
  {
   "cell_type": "markdown",
   "id": "f2e1d8af",
   "metadata": {},
   "source": [
    "Comparing the cloud simulator to the ionq simulator, we see that the data points align pretty similarly in both cases. They follow the theoretical curves which is expected. "
   ]
  },
  {
   "cell_type": "markdown",
   "id": "e859c023",
   "metadata": {},
   "source": [
    "### IonQ QPU\n",
    "\n",
    "Now we run the same code on the IonQ QPU."
   ]
  },
  {
   "cell_type": "code",
   "execution_count": 38,
   "id": "ded6262f",
   "metadata": {
    "ExecuteTime": {
     "end_time": "2023-01-22T21:52:57.717733Z",
     "start_time": "2023-01-22T21:52:49.341814Z"
    }
   },
   "outputs": [
    {
     "name": "stdout",
     "output_type": "stream",
     "text": [
      "Running jobs for the QSP circuits...\n",
      "Job ID: 1ce2855c-9a9f-11ed-81ee-acde48001122\n",
      "Job ID: 1de0ac72-9a9f-11ed-81ee-acde48001122\n",
      "Job ID: 1e44a524-9a9f-11ed-81ee-acde48001122\n",
      "Job ID: 1eb0bbd8-9a9f-11ed-81ee-acde48001122\n",
      "Job ID: 1f1fc5dc-9a9f-11ed-81ee-acde48001122\n",
      "Job ID: 1f84a010-9a9f-11ed-81ee-acde48001122\n",
      "Job ID: 1fe8928c-9a9f-11ed-81ee-acde48001122\n",
      "Job ID: 204cd972-9a9f-11ed-81ee-acde48001122\n",
      "Job ID: 20b1df02-9a9f-11ed-81ee-acde48001122\n",
      "Job ID: 21134daa-9a9f-11ed-81ee-acde48001122\n",
      "Job ID: 2174b266-9a9f-11ed-81ee-acde48001122\n"
     ]
    }
   ],
   "source": [
    "qsp_jobs = []\n",
    "print('Running jobs for the QSP circuits...')\n",
    "for circuit in qsp_circuits:\n",
    "    job = qpu_backend_nat.run(circuit, shots=1000)\n",
    "    print('Job ID:', job.job_id())\n"
   ]
  },
  {
   "cell_type": "markdown",
   "id": "bd54edd9",
   "metadata": {},
   "source": [
    "Copying the Job IDs below for reference cause it might take a while:\n",
    "    Job ID: 1ce2855c-9a9f-11ed-81ee-acde48001122\n",
    "    Job ID: 1de0ac72-9a9f-11ed-81ee-acde48001122\n",
    "    Job ID: 1e44a524-9a9f-11ed-81ee-acde48001122\n",
    "    Job ID: 1eb0bbd8-9a9f-11ed-81ee-acde48001122\n",
    "    Job ID: 1f1fc5dc-9a9f-11ed-81ee-acde48001122\n",
    "    Job ID: 1f84a010-9a9f-11ed-81ee-acde48001122\n",
    "    Job ID: 1fe8928c-9a9f-11ed-81ee-acde48001122\n",
    "    Job ID: 204cd972-9a9f-11ed-81ee-acde48001122\n",
    "    Job ID: 20b1df02-9a9f-11ed-81ee-acde48001122\n",
    "    Job ID: 21134daa-9a9f-11ed-81ee-acde48001122\n",
    "    Job ID: 2174b266-9a9f-11ed-81ee-acde48001122\n"
   ]
  },
  {
   "cell_type": "code",
   "execution_count": 40,
   "id": "74d2f650",
   "metadata": {
    "ExecuteTime": {
     "end_time": "2023-01-22T21:56:42.366827Z",
     "start_time": "2023-01-22T21:56:39.632630Z"
    }
   },
   "outputs": [
    {
     "name": "stdout",
     "output_type": "stream",
     "text": [
      "QSP Jobs are done?\n",
      "False\n",
      "False\n",
      "False\n",
      "False\n",
      "False\n",
      "False\n",
      "False\n",
      "False\n",
      "False\n",
      "False\n",
      "False\n"
     ]
    }
   ],
   "source": [
    "qsp_jobs_retrieved = [qpu_backend_nat.retrieve_job('1ce2855c-9a9f-11ed-81ee-acde48001122'),\n",
    "                      qpu_backend_nat.retrieve_job('1de0ac72-9a9f-11ed-81ee-acde48001122'),\n",
    "                      qpu_backend_nat.retrieve_job('1e44a524-9a9f-11ed-81ee-acde48001122'),\n",
    "                      qpu_backend_nat.retrieve_job('1eb0bbd8-9a9f-11ed-81ee-acde48001122'),\n",
    "                      qpu_backend_nat.retrieve_job('1f1fc5dc-9a9f-11ed-81ee-acde48001122'),\n",
    "                      qpu_backend_nat.retrieve_job('1f84a010-9a9f-11ed-81ee-acde48001122'),\n",
    "                      qpu_backend_nat.retrieve_job('1fe8928c-9a9f-11ed-81ee-acde48001122'),\n",
    "                      qpu_backend_nat.retrieve_job('204cd972-9a9f-11ed-81ee-acde48001122'),\n",
    "                      qpu_backend_nat.retrieve_job('20b1df02-9a9f-11ed-81ee-acde48001122'),\n",
    "                      qpu_backend_nat.retrieve_job('21134daa-9a9f-11ed-81ee-acde48001122'),\n",
    "                      qpu_backend_nat.retrieve_job('2174b266-9a9f-11ed-81ee-acde48001122')\n",
    "                     ] \n",
    "\n",
    "print('QSP Jobs are done?')\n",
    "for job in qsp_jobs_retrieved:\n",
    "    print(job.done())"
   ]
  },
  {
   "cell_type": "code",
   "execution_count": 41,
   "id": "fc1f3eca",
   "metadata": {
    "ExecuteTime": {
     "end_time": "2023-01-22T21:57:18.892001Z",
     "start_time": "2023-01-22T21:57:09.483909Z"
    }
   },
   "outputs": [
    {
     "name": "stdout",
     "output_type": "stream",
     "text": [
      "Running jobs for the Rx circuits...\n",
      "Job ID: b7f112a2-9a9f-11ed-81ee-acde48001122\n",
      "Job ID: b88c38ae-9a9f-11ed-81ee-acde48001122\n",
      "Job ID: b9097b66-9a9f-11ed-81ee-acde48001122\n",
      "Job ID: b97de122-9a9f-11ed-81ee-acde48001122\n",
      "Job ID: b9f1dd16-9a9f-11ed-81ee-acde48001122\n",
      "Job ID: ba53e718-9a9f-11ed-81ee-acde48001122\n",
      "Job ID: bab8e672-9a9f-11ed-81ee-acde48001122\n",
      "Job ID: bb2f45ba-9a9f-11ed-81ee-acde48001122\n",
      "Job ID: bb9a6b9c-9a9f-11ed-81ee-acde48001122\n",
      "Job ID: bbffb272-9a9f-11ed-81ee-acde48001122\n",
      "Job ID: bc6a28b4-9a9f-11ed-81ee-acde48001122\n"
     ]
    }
   ],
   "source": [
    "rx_jobs = []\n",
    "print('Running jobs for the Rx circuits...')\n",
    "for circuit in rx_circuits:\n",
    "    job = qpu_backend_nat.run(circuit, shots=1000)\n",
    "    print('Job ID:', job.job_id())"
   ]
  },
  {
   "cell_type": "markdown",
   "id": "f632325f",
   "metadata": {},
   "source": [
    "Rx Job IDs:\n",
    "Job ID: b7f112a2-9a9f-11ed-81ee-acde48001122\n",
    "Job ID: b88c38ae-9a9f-11ed-81ee-acde48001122\n",
    "Job ID: b9097b66-9a9f-11ed-81ee-acde48001122\n",
    "Job ID: b97de122-9a9f-11ed-81ee-acde48001122\n",
    "Job ID: b9f1dd16-9a9f-11ed-81ee-acde48001122\n",
    "Job ID: ba53e718-9a9f-11ed-81ee-acde48001122\n",
    "Job ID: bab8e672-9a9f-11ed-81ee-acde48001122\n",
    "Job ID: bb2f45ba-9a9f-11ed-81ee-acde48001122\n",
    "Job ID: bb9a6b9c-9a9f-11ed-81ee-acde48001122\n",
    "Job ID: bbffb272-9a9f-11ed-81ee-acde48001122\n",
    "Job ID: bc6a28b4-9a9f-11ed-81ee-acde48001122"
   ]
  },
  {
   "cell_type": "code",
   "execution_count": 42,
   "id": "6279051d",
   "metadata": {
    "ExecuteTime": {
     "end_time": "2023-01-22T21:59:09.140515Z",
     "start_time": "2023-01-22T21:59:05.000247Z"
    }
   },
   "outputs": [
    {
     "name": "stdout",
     "output_type": "stream",
     "text": [
      "Rx Jobs are done?\n",
      "False\n",
      "False\n",
      "False\n",
      "False\n",
      "False\n",
      "False\n",
      "False\n",
      "False\n",
      "False\n",
      "False\n",
      "False\n"
     ]
    }
   ],
   "source": [
    "rx_jobs_retrieved = [qpu_backend_nat.retrieve_job('b7f112a2-9a9f-11ed-81ee-acde48001122'),\n",
    "                     qpu_backend_nat.retrieve_job('b88c38ae-9a9f-11ed-81ee-acde48001122'),\n",
    "                     qpu_backend_nat.retrieve_job('b9097b66-9a9f-11ed-81ee-acde48001122'),\n",
    "                     qpu_backend_nat.retrieve_job('b97de122-9a9f-11ed-81ee-acde48001122'),\n",
    "                     qpu_backend_nat.retrieve_job('b9f1dd16-9a9f-11ed-81ee-acde48001122'),\n",
    "                     qpu_backend_nat.retrieve_job('ba53e718-9a9f-11ed-81ee-acde48001122'),\n",
    "                     qpu_backend_nat.retrieve_job('bab8e672-9a9f-11ed-81ee-acde48001122'),\n",
    "                     qpu_backend_nat.retrieve_job('bb2f45ba-9a9f-11ed-81ee-acde48001122'),\n",
    "                     qpu_backend_nat.retrieve_job('bb9a6b9c-9a9f-11ed-81ee-acde48001122'),\n",
    "                     qpu_backend_nat.retrieve_job('bbffb272-9a9f-11ed-81ee-acde48001122'),\n",
    "                     qpu_backend_nat.retrieve_job('bc6a28b4-9a9f-11ed-81ee-acde48001122')\n",
    "                    ] \n",
    "\n",
    "print('Rx Jobs are done?')\n",
    "for job in rx_jobs_retrieved:\n",
    "    print(job.done())"
   ]
  },
  {
   "cell_type": "code",
   "execution_count": 9,
   "id": "5859c02e",
   "metadata": {
    "scrolled": true
   },
   "outputs": [
    {
     "name": "stdout",
     "output_type": "stream",
     "text": [
      "{'0': 151, '1': 9849}\n",
      "{'0': 3034, '1': 6966}\n",
      "{'0': 7810, '1': 2190}\n",
      "{'0': 9691, '1': 309}\n",
      "{'0': 9971, '1': 29}\n",
      "{'0': 15988}\n",
      "{'0': 9929, '1': 71}\n",
      "{'0': 9216, '1': 784}\n",
      "{'0': 7018, '1': 2982}\n",
      "{'0': 2694, '1': 7306}\n",
      "{'0': 86, '1': 9914}\n"
     ]
    }
   ],
   "source": [
    "qsp_p0s = []\n",
    "for job in qsp_jobs_retrieved:\n",
    "    print(job.result().get_counts())\n",
    "    qsp_p0s.append( calc_p0(job.result().get_counts()) )"
   ]
  },
  {
   "cell_type": "code",
   "execution_count": 10,
   "id": "1d554abb",
   "metadata": {},
   "outputs": [
    {
     "name": "stdout",
     "output_type": "stream",
     "text": [
      "{'0': 46, '1': 9954}\n",
      "{'0': 976, '1': 9024}\n",
      "{'0': 3437, '1': 6563}\n",
      "{'0': 6506, '1': 3494}\n",
      "{'0': 8994, '1': 1006}\n",
      "{'0': 14992}\n",
      "{'0': 9076, '1': 924}\n",
      "{'0': 6656, '1': 3344}\n",
      "{'0': 3538, '1': 6462}\n",
      "{'0': 1075, '1': 8925}\n",
      "{'0': 50, '1': 9950}\n"
     ]
    }
   ],
   "source": [
    "rx_p0s = []\n",
    "for job in rx_jobs_retrieved:\n",
    "    print(job.result().get_counts())\n",
    "    rx_p0s.append( calc_p0(job.result().get_counts()) )"
   ]
  },
  {
   "cell_type": "code",
   "execution_count": 13,
   "id": "3f4472df",
   "metadata": {},
   "outputs": [
    {
     "data": {
      "image/png": "[encoded data removed]",
      "text/plain": [
       "<Figure size 432x288 with 1 Axes>"
      ]
     },
     "metadata": {
      "needs_background": "light"
     },
     "output_type": "display_data"
    }
   ],
   "source": [
    "theta = np.linspace(-np.pi, np.pi, 100)\n",
    "theory1 = np.cos(theta/2) ** 2 \n",
    "plt.plot(theta, theory1, 'k--', label=r'$\\cos^2(\\theta/2)$')\n",
    "\n",
    "theory2 = (1/8) * np.cos(theta/2) ** 2 * (3 * np.cos(theta/2) ** 8 - 15 * np.cos(theta/2) ** 6 \n",
    "                                         + 35 * np.cos(theta/2) ** 4 - 45 * np.cos(theta/2) ** 2 + 30)\n",
    "plt.plot(theta, theory2, 'k-.', label=r'$f(\\theta)$')\n",
    "\n",
    "\n",
    "plt.plot(2*np.pi*thetas, qsp_p0s, 'o', label=r'BB1$_\\theta$')\n",
    "plt.plot(2*np.pi*thetas, rx_p0s, 'o', label=r'$R_x(\\theta)$')\n",
    "\n",
    "plt.ylabel(r'Transition probability')\n",
    "plt.xlabel(r'Rotation angle $\\theta$ (rad)')\n",
    "\n",
    "plt.legend()\n",
    "\n",
    "plt.show()"
   ]
  },
  {
   "cell_type": "markdown",
   "id": "2031c822",
   "metadata": {},
   "source": [
    "Looking at the plots, we see that for the BB1 implementation, the data points are a bit off from the theoretical plot and from the simulations which means there is some error associated with native gates in the ionq computer hardware that isn't accounted for in the pulses. It will be interesting to see what is exactly causing this error but due to time constraints, we will put an end to this investigation for now."
   ]
  },
  {
   "cell_type": "code",
   "execution_count": null,
   "id": "95274412",
   "metadata": {},
   "outputs": [],
   "source": []
  },
  {
   "cell_type": "code",
   "execution_count": 1,
   "id": "66e93327",
   "metadata": {
    "ExecuteTime": {
     "end_time": "2023-01-22T06:55:49.492005Z",
     "start_time": "2023-01-22T06:55:48.373129Z"
    }
   },
   "outputs": [],
   "source": [
    "from qiskit_ionq import IonQProvider, GPIGate, GPI2Gate\n",
    "from qiskit.providers.jobstatus import JobStatus\n",
    "\n",
    "\n",
    "import numpy as np\n",
    "import matplotlib.pyplot as plt"
   ]
  },
  {
   "cell_type": "code",
   "execution_count": 52,
   "id": "1ce28f84",
   "metadata": {
    "ExecuteTime": {
     "end_time": "2023-01-22T06:56:01.990844Z",
     "start_time": "2023-01-22T06:55:58.408338Z"
    }
   },
   "outputs": [],
   "source": [
    "from azure.quantum.qiskit import AzureQuantumProvider\n",
    "\n",
    "#paste your Resource id here\n",
    "resource_id = \"\"\n",
    "\n",
    "#Import your azure quantum provider resource_id\n",
    "provider = AzureQuantumProvider (\n",
    "    resource_id = resource_id,\n",
    "    location = \"westus\"\n",
    ")\n",
    "\n",
    "from qiskit.providers.aer import QasmSimulator\n",
    "qasm_backend = QasmSimulator()\n",
    "\n",
    "sim_backend_qis = provider.get_backend('ionq.simulator', gateset='qis')\n",
    "sim_backend_nat = provider.get_backend('ionq.simulator', gateset='native')\n",
    "\n",
    "qpu_backend_qis = provider.get_backend('ionq.qpu', gateset='qis')\n",
    "qpu_backend_nat = provider.get_backend('ionq.qpu', gateset='native')"
   ]
  },
  {
   "cell_type": "code",
   "execution_count": 11,
   "id": "0837bea9",
   "metadata": {},
   "outputs": [],
   "source": [
    "from qiskit.providers.aer import QasmSimulator\n",
    "qasm_backend = QasmSimulator()"
   ]
  },
  {
   "cell_type": "code",
   "execution_count": 2,
   "id": "96a14950",
   "metadata": {
    "ExecuteTime": {
     "end_time": "2023-01-22T06:56:04.801743Z",
     "start_time": "2023-01-22T06:56:04.755949Z"
    }
   },
   "outputs": [],
   "source": [
    "from qiskit import QuantumCircuit\n",
    "from qiskit.visualization import plot_histogram, plot_state_city, plot_bloch_multivector\n",
    "from qiskit.quantum_info import Statevector, DensityMatrix, state_fidelity"
   ]
  },
  {
   "cell_type": "markdown",
   "id": "052ebd13",
   "metadata": {
    "ExecuteTime": {
     "end_time": "2023-01-22T06:39:50.910370Z",
     "start_time": "2023-01-22T06:39:50.905976Z"
    }
   },
   "source": [
    "# NarrowBand(NB) composite pulse sequence\n",
    "Contrary to the BB composite pulse, which provides a \"flat-top\" profile to mitigate over/under rotations, the aim of this section is to realize a narrowband (NB) composite pulse using IonQ's native gate sets. \n",
    "\n",
    "Let's remind ourself again that the propagator $U$ can be represent as a *signal* rotation operator $W$ and a *signal processing* rotation $e^{i \\phi_k Z}$:\n",
    "\\begin{equation}\n",
    "    U = e^{i\\phi_0 Z} \\prod_{k=1}^{d} W(a) e^{i \\phi_k Z} =R_z(\\phi_0) U_{\\phi_1}U_{\\phi_2}U_{\\phi_3} ...U_{\\phi_N} =  R_z(\\phi_0)\\cdot R_x(\\theta)R_z(\\phi_1)\\cdot R_x(\\theta)R_z(\\phi_2)... R_x(\\theta)R_z(\\phi_N), \\tag{*}\n",
    "\\end{equation}\n",
    "Where each $U_{\\phi_N}$ can be consider as a $R_x(\\theta)$ rotation followed by a $R_z$ rotations by a vector of angles $\\phi$. The Narrowband pulse sequence is using the result that is published [here](https://journals.aps.org/pra/abstract/10.1103/PhysRevA.84.065404)[3]. We use the result that is derived by Kyoseva et al[3] to reconstruct the NB pulse sequence.\n"
   ]
  },
  {
   "cell_type": "markdown",
   "id": "1a1f8433",
   "metadata": {},
   "source": [
    "The notation that is used in [3] are as the following\n",
    "\\begin{equation}\n",
    "U^{(N)} =U_{\\phi_N} U_{\\phi_{N-1}} .. U_{\\phi_2}U_{\\phi_1} \n",
    "\\end{equation}\n",
    "note that the order in [3] is in reverse order as the $(*)$ equation. Anyhow, the constructed NB composite pulse $\\phi$ angles can be written as\n",
    "\n",
    "\\begin{align}\n",
    "(\\phi_1 , \\phi_2 ... ,\\phi_N) = & (0 ,\\frac{2}{3}\\pi, -\\frac{2}{3}\\pi ) &\\text{ for } N=3 \\\\\n",
    "&(0 ,\\frac{2}{5}\\pi, -\\frac{2}{5}\\pi, \\frac{4}{5}\\pi, -\\frac{4}{5}\\pi ) &\\text{ for } N=5 \\\\\n",
    "&(0 ,\\frac{2}{7}\\pi, -\\frac{2}{7}\\pi, \\frac{4}{7}\\pi, -\\frac{4}{7}\\pi, \\frac{6}{7}\\pi, -\\frac{6}{7}\\pi ) &\\text{ for } N=7\n",
    "\\end{align}\n",
    "\n",
    "With different order of shaping the excitation profile. We choose to demonstrate N=5 of NB in this section."
   ]
  },
  {
   "cell_type": "markdown",
   "id": "ceec73cf",
   "metadata": {},
   "source": [
    "## Narrowband(NB) pulse sequence reconstructions using QIS gate set\n",
    "First we try to reconstruct the NB pulse sequence using QIS gate sets ( i.e. $R_x(\\theta)$ and $R_z(\\phi)$ ). \n",
    "\n",
    "### QASM simulation\n",
    "An important note: the QSP description uses a series of $Z$ operator exponentials.\n",
    "This corresponds to a $Z$ rotation, however the precise angle of the rotation is not $\\phi$ but actually $-2\\phi$ due to the definition of the rotation operators. This change is important in following code."
   ]
  },
  {
   "cell_type": "code",
   "execution_count": 37,
   "id": "722c5556",
   "metadata": {},
   "outputs": [],
   "source": [
    "def qsp_NB2(theta):\n",
    "    \n",
    "    circ = QuantumCircuit(1)\n",
    "    \n",
    "    #eta = np.arccos(-1/4) / 2\n",
    "    phi = [0, np.pi*2/5, -np.pi*2/5, np.pi*4/5, -np.pi*4/5]\n",
    "\n",
    "    # 5\n",
    "    circ.rz(phi=-2*phi[0], qubit=0)\n",
    "    circ.rx(theta=theta, qubit=0)\n",
    "    circ.barrier()\n",
    "    \n",
    "    # 4\n",
    "    circ.rz(phi=-2*phi[1], qubit=0)\n",
    "    circ.rx(theta=theta, qubit=0)\n",
    "    circ.barrier()\n",
    "    \n",
    "    # 3\n",
    "    circ.rz(phi=-2*phi[2], qubit=0)\n",
    "    circ.rx(theta=theta, qubit=0)\n",
    "    circ.barrier()\n",
    "    \n",
    "    # 2\n",
    "    circ.rz(phi=-2*phi[3], qubit=0)\n",
    "    circ.rx(theta=theta, qubit=0)\n",
    "    circ.barrier()\n",
    "    \n",
    "    # 1\n",
    "    circ.rz(phi=-2*phi[4], qubit=0)\n",
    "    circ.rx(theta=theta, qubit=0)\n",
    "    circ.barrier()\n",
    "    \n",
    "    # 0\n",
    "    circ.rz(phi=-2*phi[0], qubit=0)\n",
    "    \n",
    "    circ.measure_all()\n",
    "\n",
    "    return circ\n",
    "\n",
    "def Rx_circ(theta):\n",
    "    circ = QuantumCircuit(1)\n",
    "\n",
    "    # R_x(theta)\n",
    "    circ.rx(theta, qubit=0)\n",
    "    \n",
    "    # Measure the qubit\n",
    "    circ.measure_all()\n",
    "    \n",
    "    return circ"
   ]
  },
  {
   "cell_type": "code",
   "execution_count": 38,
   "id": "51d32998",
   "metadata": {},
   "outputs": [
    {
     "data": {
      "image/png": "[encoded data removed]",
      "text/plain": [
       "<Figure size 1200.48x144.48 with 1 Axes>"
      ]
     },
     "execution_count": 38,
     "metadata": {},
     "output_type": "execute_result"
    }
   ],
   "source": [
    "qsp_NB2(0).draw('mpl')"
   ]
  },
  {
   "cell_type": "code",
   "execution_count": 39,
   "id": "de7b64c0",
   "metadata": {
    "ExecuteTime": {
     "end_time": "2023-01-22T07:27:46.154713Z",
     "start_time": "2023-01-22T07:27:46.151911Z"
    }
   },
   "outputs": [],
   "source": [
    "thetas = np.linspace(-np.pi, np.pi, 21)"
   ]
  },
  {
   "cell_type": "code",
   "execution_count": 40,
   "id": "77397b4b",
   "metadata": {
    "ExecuteTime": {
     "end_time": "2023-01-22T07:27:46.370216Z",
     "start_time": "2023-01-22T07:27:46.357083Z"
    }
   },
   "outputs": [],
   "source": [
    "qsp_circuits = []\n",
    "rx_circuits = []\n",
    "\n",
    "for theta in thetas:\n",
    "    qsp_circuits.append( qsp_NB2(theta) )\n",
    "    rx_circuits.append( Rx_circ(theta) )"
   ]
  },
  {
   "cell_type": "code",
   "execution_count": 41,
   "id": "2f31d0b3",
   "metadata": {
    "ExecuteTime": {
     "end_time": "2023-01-22T07:27:46.561176Z",
     "start_time": "2023-01-22T07:27:46.557342Z"
    }
   },
   "outputs": [],
   "source": [
    "def calc_p0(counts):\n",
    "    \n",
    "    try:\n",
    "        counts['1']\n",
    "    except:\n",
    "        counts['1'] = 0\n",
    "        \n",
    "    try:\n",
    "        counts['0']\n",
    "    except:\n",
    "        counts['0'] = 0\n",
    "    \n",
    "    total = counts['0'] + counts['1']\n",
    "    return counts['0'] / total"
   ]
  },
  {
   "cell_type": "code",
   "execution_count": 42,
   "id": "a509bb3a",
   "metadata": {
    "ExecuteTime": {
     "end_time": "2023-01-22T07:27:46.965300Z",
     "start_time": "2023-01-22T07:27:46.742568Z"
    }
   },
   "outputs": [],
   "source": [
    "qsp_p0s = []\n",
    "for circuit in qsp_circuits:\n",
    "    job = qasm_backend.run(circuit, shots=10000)\n",
    "    qsp_p0s.append( calc_p0(job.result().get_counts()) )"
   ]
  },
  {
   "cell_type": "code",
   "execution_count": 43,
   "id": "d0e3f33c",
   "metadata": {
    "ExecuteTime": {
     "end_time": "2023-01-22T07:27:47.182690Z",
     "start_time": "2023-01-22T07:27:46.967345Z"
    }
   },
   "outputs": [],
   "source": [
    "rx_p0s = []\n",
    "for circuit in rx_circuits:\n",
    "    job = qasm_backend.run(circuit, shots=10000)\n",
    "    rx_p0s.append( calc_p0(job.result().get_counts()) )"
   ]
  },
  {
   "cell_type": "code",
   "execution_count": 46,
   "id": "b56797b1",
   "metadata": {
    "ExecuteTime": {
     "end_time": "2023-01-22T07:27:47.629808Z",
     "start_time": "2023-01-22T07:27:47.425695Z"
    }
   },
   "outputs": [
    {
     "data": {
      "image/png": "[encoded data removed]",
      "text/plain": [
       "<Figure size 432x288 with 1 Axes>"
      ]
     },
     "metadata": {
      "needs_background": "light"
     },
     "output_type": "display_data"
    }
   ],
   "source": [
    "theta = np.linspace(-np.pi, np.pi, 100)\n",
    "theory1 = np.cos(theta/2) ** 2 \n",
    "plt.plot(theta, theory1, 'k--', label=r'$\\cos^2(\\theta/2)$')\n",
    "\n",
    "plt.plot(thetas, qsp_p0s, 'o--', label=r'NB1$_\\theta$')\n",
    "plt.plot(thetas, rx_p0s, 'o', label=r'$R_x(\\theta)$')\n",
    "\n",
    "plt.ylabel(r'Transition probability')\n",
    "plt.xlabel(r'Rotation angle $\\theta$ (rad)')\n",
    "\n",
    "plt.legend()\n",
    "\n",
    "plt.show()"
   ]
  },
  {
   "cell_type": "markdown",
   "id": "c2f60d0d",
   "metadata": {},
   "source": [
    "Here we see that indeed around $\\theta$ at around 0, the composite pulses shapes the transition probability to a narrow band comparing to a $\\sin^2(\\theta)$ profile of a pure $R_x$ gate.\n",
    "\n",
    "## IonQ native gate set on IonQ simulator.\n"
   ]
  },
  {
   "cell_type": "markdown",
   "id": "bf059fd2",
   "metadata": {},
   "source": [
    "We implement a general $R_x(\\theta)$ rotation in the same fashion as in the BB section."
   ]
  },
  {
   "cell_type": "code",
   "execution_count": 47,
   "id": "55d7df25",
   "metadata": {},
   "outputs": [],
   "source": [
    "from qiskit_ionq import IonQProvider, GPIGate, GPI2Gate\n",
    "from qiskit.providers.jobstatus import JobStatus\n",
    "\n",
    "\n",
    "import numpy as np\n",
    "import matplotlib.pyplot as plt"
   ]
  },
  {
   "cell_type": "code",
   "execution_count": 48,
   "id": "1f4245ed",
   "metadata": {},
   "outputs": [],
   "source": [
    "def qsp_NB_native(theta):\n",
    "    \n",
    "    circ = QuantumCircuit(1)\n",
    "    \n",
    "    phi = [0, np.pi*2/5, -np.pi*2/5, np.pi*4/5, -np.pi*4/5]\n",
    "\n",
    "    # 5\n",
    "    delay = -2*phi[0]/(2*np.pi)\n",
    "    # R_x(theta)\n",
    "    # The RZ phase shift is incorporated by the delay term\n",
    "    circ.append(GPI2Gate(-0.25 + delay),[0]) \n",
    "    circ.append(GPI2Gate(0.25 + theta + delay),[0]) \n",
    "    \n",
    "    circ.barrier()\n",
    "    \n",
    "    # 4\n",
    "    # The new delay increases by the new phi and theta from previous gates\n",
    "    delay += -2*phi[1]/(2*np.pi) + theta\n",
    "    # R_x(theta)\n",
    "    circ.append(GPI2Gate(-0.25 + delay),[0]) \n",
    "    circ.append(GPI2Gate(0.25 + theta + delay),[0]) \n",
    "    \n",
    "    circ.barrier()\n",
    "    \n",
    "    # 3\n",
    "    delay += -2*phi[2]/(2*np.pi) + theta\n",
    "    # R_x(theta)\n",
    "    circ.append(GPI2Gate(-0.25 + delay),[0]) \n",
    "    circ.append(GPI2Gate(0.25 + theta + delay),[0]) \n",
    "    \n",
    "    circ.barrier()\n",
    "    \n",
    "    # 2\n",
    "    delay += -2*phi[3]/(2*np.pi) + theta\n",
    "    # R_x(theta)\n",
    "    circ.append(GPI2Gate(-0.25 + delay),[0]) \n",
    "    circ.append(GPI2Gate(0.25 + theta + delay),[0]) \n",
    "    \n",
    "    circ.barrier()\n",
    "    \n",
    "    # 1\n",
    "    delay += -2*phi[4]/(2*np.pi) + theta\n",
    "    # R_x(theta)\n",
    "    circ.append(GPI2Gate(-0.25 + delay),[0]) \n",
    "    circ.append(GPI2Gate(0.25 + theta + delay),[0]) \n",
    "    \n",
    "    # 0\n",
    "    # circ.rz(phi=-2*phi[0], qubit=0)\n",
    "    # We're supposed to have an Rz here but since it does not affect\n",
    "    # the probabilities we just ignore it since we cannot implement it\n",
    "    # using the IonQ system's current toolset.\n",
    "    \n",
    "    circ.measure_all()\n",
    "\n",
    "    return circ\n",
    "\n",
    "def Rx_circ_native(theta):\n",
    "    circ = QuantumCircuit(1)\n",
    "\n",
    "    # R_x(theta)\n",
    "    circ.append(GPI2Gate(-0.25),[0]) \n",
    "    circ.append(GPI2Gate(0.25 + theta),[0]) \n",
    "    \n",
    "    # Measure the qubit\n",
    "    circ.measure_all()\n",
    "    \n",
    "    return circ"
   ]
  },
  {
   "cell_type": "code",
   "execution_count": 49,
   "id": "df673d22",
   "metadata": {},
   "outputs": [
    {
     "data": {
      "image/png": "[encoded data removed]",
      "text/plain": [
       "<Figure size 1080.08x144.48 with 1 Axes>"
      ]
     },
     "execution_count": 49,
     "metadata": {},
     "output_type": "execute_result"
    }
   ],
   "source": [
    "qsp_NB_native(0).draw('mpl')"
   ]
  },
  {
   "cell_type": "code",
   "execution_count": 50,
   "id": "81069c93",
   "metadata": {},
   "outputs": [],
   "source": [
    "# Need to modify to fractional rotations from radians for the native set\n",
    "thetas = np.linspace(-0.5, 0.5, 11)\n",
    "\n",
    "qsp_circuits = []\n",
    "rx_circuits = []\n",
    "\n",
    "for theta in thetas:\n",
    "    qsp_circuits.append( qsp_NB_native(theta) )\n",
    "    rx_circuits.append( Rx_circ_native(theta) )"
   ]
  },
  {
   "cell_type": "code",
   "execution_count": 53,
   "id": "90db1007",
   "metadata": {},
   "outputs": [
    {
     "name": "stdout",
     "output_type": "stream",
     "text": [
      "............................................................................."
     ]
    }
   ],
   "source": [
    "qsp_p0s = []\n",
    "for circuit in qsp_circuits:\n",
    "    job = sim_backend_nat.run(circuit, shots=10000)\n",
    "    qsp_p0s.append( calc_p0(job.result().get_counts()) )"
   ]
  },
  {
   "cell_type": "code",
   "execution_count": 54,
   "id": "83082cb2",
   "metadata": {},
   "outputs": [
    {
     "name": "stdout",
     "output_type": "stream",
     "text": [
      "................................................................................."
     ]
    }
   ],
   "source": [
    "rx_p0s = []\n",
    "for circuit in rx_circuits:\n",
    "    job = sim_backend_nat.run(circuit, shots=10000)\n",
    "    rx_p0s.append( calc_p0(job.result().get_counts()) )"
   ]
  },
  {
   "cell_type": "code",
   "execution_count": 57,
   "id": "b33c67f1",
   "metadata": {},
   "outputs": [
    {
     "data": {
      "image/png": "[encoded data removed]",
      "text/plain": [
       "<Figure size 432x288 with 1 Axes>"
      ]
     },
     "metadata": {
      "needs_background": "light"
     },
     "output_type": "display_data"
    }
   ],
   "source": [
    "theta = np.linspace(-np.pi, np.pi, 100)\n",
    "theory1 = np.cos(theta/2) ** 2 \n",
    "plt.plot(theta, theory1, 'k--', label=r'$\\cos^2(\\theta/2)$')\n",
    "\n",
    "plt.plot(2*np.pi*thetas, qsp_p0s, 'o--', label=r'NB$_\\theta$')\n",
    "plt.plot(2*np.pi*thetas, rx_p0s, 'o', label=r'$R_x(\\theta)$')\n",
    "\n",
    "plt.ylabel(r'Transition probability')\n",
    "plt.xlabel(r'Rotation angle $\\theta$ (rad)')\n",
    "\n",
    "plt.legend()\n",
    "\n",
    "plt.show()"
   ]
  },
  {
   "cell_type": "markdown",
   "id": "e4b24c2d",
   "metadata": {},
   "source": [
    "The result fits our expectation on `ionq.simulator`. "
   ]
  },
  {
   "cell_type": "markdown",
   "id": "75224e2b",
   "metadata": {},
   "source": [
    "## IonQ QPU\n",
    "Now we try to run the circuit on real qpu. `Aria-1` seems to have a smaller queue time.\n",
    "\n",
    "The jobs were submitted on Sunday Jan 22, 2023.  "
   ]
  },
  {
   "cell_type": "code",
   "execution_count": 59,
   "id": "c95aa857",
   "metadata": {},
   "outputs": [],
   "source": [
    "qpu_aria1_nat = provider.get_backend('ionq.qpu.aria-1', gateset='native')"
   ]
  },
  {
   "cell_type": "code",
   "execution_count": 60,
   "id": "11b4be15",
   "metadata": {},
   "outputs": [
    {
     "name": "stdout",
     "output_type": "stream",
     "text": [
      "Running jobs for the QSP circuits...\n",
      "Job ID: 3905086e-9a80-11ed-9175-2a2779b1dac2\n",
      "Job ID: 3a1526d0-9a80-11ed-9175-2a2779b1dac2\n",
      "Job ID: 3ac352c8-9a80-11ed-9175-2a2779b1dac2\n",
      "Job ID: 3b734264-9a80-11ed-9175-2a2779b1dac2\n",
      "Job ID: 3c25b3f4-9a80-11ed-9175-2a2779b1dac2\n",
      "Job ID: 3cd731a6-9a80-11ed-9175-2a2779b1dac2\n",
      "Job ID: 3d84f62e-9a80-11ed-9175-2a2779b1dac2\n",
      "Job ID: 3e397338-9a80-11ed-9175-2a2779b1dac2\n",
      "Job ID: 3ee70bba-9a80-11ed-9175-2a2779b1dac2\n",
      "Job ID: 3f9e33a8-9a80-11ed-9175-2a2779b1dac2\n",
      "Job ID: 406ad5d4-9a80-11ed-9175-2a2779b1dac2\n"
     ]
    }
   ],
   "source": [
    "'''qsp_jobs = []\n",
    "print('Running jobs for the QSP circuits...')\n",
    "for circuit in qsp_circuits:\n",
    "    job = qpu_aria1_nat.run(circuit, shots=1000)\n",
    "    print('Job ID:', job.job_id())'''"
   ]
  },
  {
   "cell_type": "markdown",
   "id": "de504ffc",
   "metadata": {},
   "source": [
    "Rerun the circuits on Aria-1\n",
    "\n",
    "    Job ID: 3905086e-9a80-11ed-9175-2a2779b1dac2\n",
    "    Job ID: 3a1526d0-9a80-11ed-9175-2a2779b1dac2\n",
    "    Job ID: 3ac352c8-9a80-11ed-9175-2a2779b1dac2\n",
    "    Job ID: 3b734264-9a80-11ed-9175-2a2779b1dac2\n",
    "    Job ID: 3c25b3f4-9a80-11ed-9175-2a2779b1dac2\n",
    "    Job ID: 3cd731a6-9a80-11ed-9175-2a2779b1dac2\n",
    "    Job ID: 3d84f62e-9a80-11ed-9175-2a2779b1dac2\n",
    "    Job ID: 3e397338-9a80-11ed-9175-2a2779b1dac2\n",
    "    Job ID: 3ee70bba-9a80-11ed-9175-2a2779b1dac2\n",
    "    Job ID: 3f9e33a8-9a80-11ed-9175-2a2779b1dac2\n",
    "    Job ID: 406ad5d4-9a80-11ed-9175-2a2779b1dac2"
   ]
  },
  {
   "cell_type": "code",
   "execution_count": 75,
   "id": "e59dc7a7",
   "metadata": {},
   "outputs": [
    {
     "name": "stdout",
     "output_type": "stream",
     "text": [
      "QSP Jobs are done?\n",
      "True\n",
      "True\n",
      "True\n",
      "True\n",
      "True\n",
      "True\n",
      "True\n",
      "True\n",
      "True\n",
      "True\n",
      "True\n"
     ]
    }
   ],
   "source": [
    "qsp_jobs_retrieved = [qpu_aria1_nat.retrieve_job('3905086e-9a80-11ed-9175-2a2779b1dac2'),\n",
    "                      qpu_aria1_nat.retrieve_job('3a1526d0-9a80-11ed-9175-2a2779b1dac2'),\n",
    "                      qpu_aria1_nat.retrieve_job('3ac352c8-9a80-11ed-9175-2a2779b1dac2'),\n",
    "                      qpu_aria1_nat.retrieve_job('3b734264-9a80-11ed-9175-2a2779b1dac2'),\n",
    "                      qpu_aria1_nat.retrieve_job('3c25b3f4-9a80-11ed-9175-2a2779b1dac2'),\n",
    "                      qpu_aria1_nat.retrieve_job('3cd731a6-9a80-11ed-9175-2a2779b1dac2'),\n",
    "                      qpu_aria1_nat.retrieve_job('3d84f62e-9a80-11ed-9175-2a2779b1dac2'),\n",
    "                      qpu_aria1_nat.retrieve_job('3e397338-9a80-11ed-9175-2a2779b1dac2'),\n",
    "                      qpu_aria1_nat.retrieve_job('3ee70bba-9a80-11ed-9175-2a2779b1dac2'),\n",
    "                      qpu_aria1_nat.retrieve_job('3f9e33a8-9a80-11ed-9175-2a2779b1dac2'),\n",
    "                      qpu_aria1_nat.retrieve_job('406ad5d4-9a80-11ed-9175-2a2779b1dac2')\n",
    "                     ] \n",
    "\n",
    "print('QSP Jobs are done?')\n",
    "for job in qsp_jobs_retrieved:\n",
    "    print(job.done())"
   ]
  },
  {
   "cell_type": "code",
   "execution_count": 61,
   "id": "77068d90",
   "metadata": {},
   "outputs": [
    {
     "name": "stdout",
     "output_type": "stream",
     "text": [
      "Running jobs for the Rx circuits...\n",
      "Job ID: 2513ba34-9a81-11ed-9175-2a2779b1dac2\n",
      "Job ID: 26687afa-9a81-11ed-9175-2a2779b1dac2\n",
      "Job ID: 2713fbbe-9a81-11ed-9175-2a2779b1dac2\n",
      "Job ID: 27c69828-9a81-11ed-9175-2a2779b1dac2\n",
      "Job ID: 287cc9cc-9a81-11ed-9175-2a2779b1dac2\n",
      "Job ID: 292f939a-9a81-11ed-9175-2a2779b1dac2\n",
      "Job ID: 29df9a2e-9a81-11ed-9175-2a2779b1dac2\n",
      "Job ID: 2a8fcfd4-9a81-11ed-9175-2a2779b1dac2\n",
      "Job ID: 2b423732-9a81-11ed-9175-2a2779b1dac2\n",
      "Job ID: 2bfa5c72-9a81-11ed-9175-2a2779b1dac2\n",
      "Job ID: 2cc64d28-9a81-11ed-9175-2a2779b1dac2\n"
     ]
    }
   ],
   "source": [
    "rx_jobs = []\n",
    "print('Running jobs for the Rx circuits...')\n",
    "for circuit in rx_circuits:\n",
    "    job = qpu_aria1_nat.run(circuit, shots=1000)\n",
    "    print('Job ID:', job.job_id())"
   ]
  },
  {
   "cell_type": "markdown",
   "id": "339f784b",
   "metadata": {},
   "source": [
    "$R_x$ jobs' ID\n",
    "\n",
    "    Job ID: 2513ba34-9a81-11ed-9175-2a2779b1dac2\n",
    "    Job ID: 26687afa-9a81-11ed-9175-2a2779b1dac2\n",
    "    Job ID: 2713fbbe-9a81-11ed-9175-2a2779b1dac2\n",
    "    Job ID: 27c69828-9a81-11ed-9175-2a2779b1dac2\n",
    "    Job ID: 287cc9cc-9a81-11ed-9175-2a2779b1dac2\n",
    "    Job ID: 292f939a-9a81-11ed-9175-2a2779b1dac2\n",
    "    Job ID: 29df9a2e-9a81-11ed-9175-2a2779b1dac2\n",
    "    Job ID: 2a8fcfd4-9a81-11ed-9175-2a2779b1dac2\n",
    "    Job ID: 2b423732-9a81-11ed-9175-2a2779b1dac2\n",
    "    Job ID: 2bfa5c72-9a81-11ed-9175-2a2779b1dac2\n",
    "    Job ID: 2cc64d28-9a81-11ed-9175-2a2779b1dac2"
   ]
  },
  {
   "cell_type": "code",
   "execution_count": 81,
   "id": "cea6ec19",
   "metadata": {},
   "outputs": [
    {
     "name": "stdout",
     "output_type": "stream",
     "text": [
      "Rx Jobs are done?\n",
      "True\n",
      "True\n",
      "True\n",
      "True\n",
      "True\n",
      "True\n",
      "True\n",
      "True\n",
      "True\n",
      "True\n",
      "True\n"
     ]
    }
   ],
   "source": [
    "rx_jobs_retrieved = [qpu_aria1_nat.retrieve_job('2513ba34-9a81-11ed-9175-2a2779b1dac2'),\n",
    "                     qpu_aria1_nat.retrieve_job('26687afa-9a81-11ed-9175-2a2779b1dac2'),\n",
    "                     qpu_aria1_nat.retrieve_job('2713fbbe-9a81-11ed-9175-2a2779b1dac2'),\n",
    "                     qpu_aria1_nat.retrieve_job('27c69828-9a81-11ed-9175-2a2779b1dac2'),\n",
    "                     qpu_aria1_nat.retrieve_job('287cc9cc-9a81-11ed-9175-2a2779b1dac2'),\n",
    "                     qpu_aria1_nat.retrieve_job('292f939a-9a81-11ed-9175-2a2779b1dac2'),\n",
    "                     qpu_aria1_nat.retrieve_job('29df9a2e-9a81-11ed-9175-2a2779b1dac2'),\n",
    "                     qpu_aria1_nat.retrieve_job('2a8fcfd4-9a81-11ed-9175-2a2779b1dac2'),\n",
    "                     qpu_aria1_nat.retrieve_job('2b423732-9a81-11ed-9175-2a2779b1dac2'),\n",
    "                     qpu_aria1_nat.retrieve_job('2bfa5c72-9a81-11ed-9175-2a2779b1dac2'),\n",
    "                     qpu_aria1_nat.retrieve_job('2cc64d28-9a81-11ed-9175-2a2779b1dac2')\n",
    "                    ] \n",
    "\n",
    "print('Rx Jobs are done?')\n",
    "for job in rx_jobs_retrieved:\n",
    "    print(job.done())"
   ]
  },
  {
   "cell_type": "code",
   "execution_count": 77,
   "id": "e64ba5f7",
   "metadata": {},
   "outputs": [
    {
     "name": "stdout",
     "output_type": "stream",
     "text": [
      "{'1': 997.0, '0': 3.0}\n",
      "{'0': 122.0, '1': 878.0}\n",
      "{'0': 183.0, '1': 817.0}\n",
      "{'0': 103.0, '1': 897.0}\n",
      "{'0': 520.0, '1': 480.0}\n",
      "{'0': 1000.0}\n",
      "{'0': 536.0, '1': 464.0}\n",
      "{'0': 80.0, '1': 920.0}\n",
      "{'0': 184.0, '1': 816.0}\n",
      "{'0': 104.0, '1': 896.0}\n",
      "{'0': 10.0, '1': 990.0}\n"
     ]
    }
   ],
   "source": [
    "qsp_p0s = []\n",
    "for job in qsp_jobs_retrieved:\n",
    "    print(job.result().get_counts())\n",
    "    qsp_p0s.append( calc_p0(job.result().get_counts()) )"
   ]
  },
  {
   "cell_type": "code",
   "execution_count": 82,
   "id": "818aa7e5",
   "metadata": {},
   "outputs": [
    {
     "name": "stdout",
     "output_type": "stream",
     "text": [
      "{'1': 992.0, '0': 8.0}\n",
      "{'0': 110.0, '1': 890.0}\n",
      "{'0': 366.0, '1': 634.0}\n",
      "{'0': 643.0, '1': 357.0}\n",
      "{'0': 910.0, '1': 90.0}\n",
      "{'0': 1000.0}\n",
      "{'0': 911.0, '1': 89.0}\n",
      "{'0': 666.0, '1': 334.0}\n",
      "{'0': 363.0, '1': 637.0}\n",
      "{'0': 106.0, '1': 894.0}\n",
      "{'1': 995.0, '0': 5.0}\n"
     ]
    }
   ],
   "source": [
    "rx_p0s = []\n",
    "for job in rx_jobs_retrieved:\n",
    "    print(job.result().get_counts())\n",
    "    rx_p0s.append( calc_p0(job.result().get_counts()) )"
   ]
  },
  {
   "cell_type": "code",
   "execution_count": 84,
   "id": "06722044",
   "metadata": {},
   "outputs": [
    {
     "data": {
      "image/png": "[encoded data removed]",
      "text/plain": [
       "<Figure size 432x288 with 1 Axes>"
      ]
     },
     "metadata": {
      "needs_background": "light"
     },
     "output_type": "display_data"
    }
   ],
   "source": [
    "theta = np.linspace(-np.pi, np.pi, 100)\n",
    "theory1 = np.cos(theta/2) ** 2 \n",
    "plt.plot(theta, theory1, 'k--', label=r'$\\cos^2(\\theta/2)$')\n",
    "\n",
    "\n",
    "plt.plot(2*np.pi*thetas, qsp_p0s, 'o--', label=r'NB$_\\theta$')\n",
    "plt.plot(2*np.pi*thetas, rx_p0s, 'o', label=r'$R_x(\\theta)$')\n",
    "\n",
    "plt.ylabel(r'Transition probability')\n",
    "plt.xlabel(r'Rotation angle $\\theta$ (rad)')\n",
    "\n",
    "plt.legend()\n",
    "\n",
    "plt.show()"
   ]
  },
  {
   "cell_type": "markdown",
   "id": "79540645",
   "metadata": {},
   "source": [
    "As shown above, the NB pulse sequence can shape the transition probability so that it only peaks at $\\theta=0$, in contrast to the BB pulse sequence. And since this is only $N=5$ of the NB pulse sequence, we can see there are ripples at the edge of the NB transition probability. If we choose a higer order of the NB sequence, the ripple effect could be reduced."
   ]
  },
  {
   "cell_type": "markdown",
   "id": "c2a09b15",
   "metadata": {},
   "source": [
    "# Summary and outlook\n",
    "\n",
    "To remark what we've demonstrated here: We have demonstrated two types of composite pulse sequence-a broadband(BB) and a narrowband(NB) composite pulse(CP)- using IonQ's nateive gate set. The results here shows that one can shape the transition probability of qubits with different functions which can mitigate the systematic error that occurs when applying driving pulses. Further more, one can imagine that non-linear functions, such as ReLU(widely used non-linear function in machine learning), could also be constructed using CPs. \n",
    "\n",
    "The next step of this work would be using the composite pulse sequence that we've constructed here on multi-quibt algorithms to test if the composite pulses can improve the fedility of the outcome. Or try to construct different non-linear function as mentioned before. "
   ]
  }
 ],
 "metadata": {
  "kernelspec": {
   "display_name": "Python 3 (ipykernel)",
   "language": "python",
   "name": "python3"
  },
  "language_info": {
   "codemirror_mode": {
    "name": "ipython",
    "version": 3
   },
   "file_extension": ".py",
   "mimetype": "text/x-python",
   "name": "python",
   "nbconvert_exporter": "python",
   "pygments_lexer": "ipython3",
   "version": "3.9.12"
  }
 },
 "nbformat": 4,
 "nbformat_minor": 5
}
