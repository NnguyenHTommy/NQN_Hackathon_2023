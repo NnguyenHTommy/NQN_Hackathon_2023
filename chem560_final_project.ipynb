{
 "cells": [
  {
   "cell_type": "markdown",
   "id": "9b4e1f12",
   "metadata": {},
   "source": [
    "# Final project: Quantifying errors in IonQ native gates and composite pulses\n",
    "\n",
    "Nicholas Yama and I-Tung Chen\n",
    "\n",
    "### References\n",
    "\n",
    "[1] https://docs.microsoft.com/en-us/azure/quantum/provider-ionq\n",
    "\n",
    "[2] A Grand Unification of Quantum Algorithms (https://arxiv.org/abs/2105.02859) \n",
    "\n",
    "\n",
    "## Introduction\n",
    "\n",
    "The IonQ trapped-ion quantum computer is among the few noisy intermediate-scale quantum (NISQ) computers available via cloud services to the general public.\n",
    "The ability to test algorithms on NISQ devices is an important tool for the advancement of quantum information science.\n",
    "Beyond the target application space, there is also much opportunity for the study of inherent noise of NISQ devices which serves as a basic plaform for the development of algorithmic-level approaches towards improving the robustness of quantum information devices overall.\n",
    "Our goal with this project will be to probe the noise of the IonQ QPU native gates directly and then implement techniques to compensate for the errors that arise.\n",
    "To do this we first perform a series of experiments similar to the randomized benchmarking done in a previous homework for this course.\n",
    "After quantifying the types of errors observed we then seek to implement the BB1 protocol (also from a previous homework) and compare the effectiveness of this approach for different parameters such as the angle of rotation.\n",
    "\n",
    "\n",
    "\n",
    "## Quantification of error on the native gates\n",
    "\n",
    "The IonQ system is equipped with two user-accessible native gates for single-qubit operations: the GPi and GPi2 gates.\n",
    "Both of these gates are physically implemented as $\\pi$ and $\\pi/2$ Rabi oscillations of individual qubits within the system.\n",
    "As such, these gates are prone to errors which arise from both amplitude and pulse length errors which result in over-/under-rotations of the qubit on the Bloch sphere.\n",
    "There is also the potential for phase errors but these are implemented internal to the control system and thus are expected to have a higher degree of fidelity than the physically implemented pulse-type errors.\n",
    "Our goal for this section is to probe both the pulse and phase errors.\n",
    "\n",
    "A general rotation by angle $\\theta$ around axis given by $\\hat n$ is given by the matrix exponential\n",
    "\n",
    "\\begin{equation}\n",
    "    R_{\\hat n} (\\theta) = \\exp\\Bigg( - \\frac{i\\theta \\hat n \\cdot \\mathbf{\\sigma} }{2} \\Bigg)\n",
    "\\end{equation}\n",
    "\n",
    "which can also be expressed in the form\n",
    "\n",
    "\\begin{equation}\n",
    "    R_{\\hat n} (\\theta) = \\cos\\frac{\\theta}{2} I - i \\sin\\frac{\\theta}{2} (n_x X + n_y Y + n_z Z).\n",
    "\\end{equation}\n",
    "\n",
    "Restricting ourselves to rotations about axes in the $xy$-plane given by azimuthal angle $\\varphi$ then we can write the matrix form\n",
    "\n",
    "\\begin{equation}\n",
    "    R_{\\varphi} (\\theta) = \n",
    "    \\begin{bmatrix}\n",
    "        \\cos\\frac{\\theta}{2} & -i e^{-i\\varphi} \\sin\\frac{\\theta}{2} \\\\\n",
    "        -i e^{i\\varphi} \\sin\\frac{\\theta}{2} & \\cos\\frac{\\theta}{2}\n",
    "    \\end{bmatrix}.\n",
    "\\end{equation}\n",
    "\n",
    "From here we are able to explicitly relate the single-qubit native gates of the IonQ system to rotations on the Bloch sphere.\n",
    "\n",
    "The GPi gate is given by the matrix\n",
    "\n",
    "\\begin{equation}\n",
    "    GPI(\\phi) = \n",
    "    \\begin{bmatrix}\n",
    "        0 & e^{-i\\phi} \\\\ e^{i\\phi} & 0\n",
    "    \\end{bmatrix}\n",
    "\\end{equation}\n",
    "\n",
    "As the documentation (and name) suggests, the GPi gate implements a $\\pi$ rotation of the qubit about an arbitrary azimuthal axis.\n",
    "One observes that the rotation axis is indeed given by the azimuthal angle $\\phi$ but we do not include the effect of an overal global phase of $-i$ which would directly equate it to the $R_\\phi(\\pi)$ gate.\n",
    "Thus we make the equivalence\n",
    "\n",
    "\\begin{equation}\n",
    "    GPI(\\phi) = i R_\\phi(\\pi),\n",
    "\\end{equation}\n",
    "\n",
    "which establishes the first single-qubit native gate as a rotation.\n",
    "\n",
    "Similarly the GPi2 gate\n",
    "\n",
    "\\begin{equation}\n",
    "    GPI_2(\\phi) = \\frac{1}{\\sqrt{2}}\n",
    "    \\begin{bmatrix}\n",
    "        1 & -ie^{-i\\phi} \\\\ -ie^{i\\phi} & 1\n",
    "    \\end{bmatrix} \n",
    "\\end{equation}\n",
    "\n",
    "is straightforwardly seen to be a $\\pi/2$ rotation about the axis $\\phi$.\n",
    "We can similarly establish\n",
    "\n",
    "\\begin{equation}\n",
    "    GPI_2(\\phi) = R_\\phi(\\pi/2).\n",
    "\\end{equation}"
   ]
  },
  {
   "cell_type": "markdown",
   "id": "f983a40d",
   "metadata": {},
   "source": [
    "With this in mind we first move to quantify the error rates of the native gates directly.\n",
    "According to [1], single-qubit gates on the IonQ system have a fidelity of 99.35% (SPAM corrected), whilst the SPAM errors themselves correspond to a fidelity of 99.3-99.8%.\n",
    "Thus, we should be able to observe errors reasonably at a few thousand shots, and we can increase the error signal by increasing the number of gate operations performed.\n",
    "Since the phase error (associated with the argument $\\phi$) is expected to be small, if we were to run the same experiments with varied axes of rotation, this would allow for us to probe the systematic errors directly which should alleviate some of the noise from SPAM errors.\n",
    "\n",
    "The plan is to run circuits with varying numbers of GPi and GPi2 gates (separately) and with different numbers of shots and at different angles and run tomography on them to determine potential systematic pulse-type errors.\n",
    "One key point is that these errors will differ in amplitude depending on things such as the time since the last calibration sequence.\n",
    "Thus, it is important to keep track of when the circuits were run on the machine.\n"
   ]
  },
  {
   "cell_type": "code",
   "execution_count": null,
   "id": "299b10eb",
   "metadata": {},
   "outputs": [],
   "source": []
  },
  {
   "cell_type": "markdown",
   "id": "80f2a84f",
   "metadata": {},
   "source": [
    "## A directly implementable composite pulse: BB1$_\\pi$\n",
    "\n",
    "A pulse sequence that we can directly implement and easily check is the BB1$_\\pi$ pulse sequence given by\n",
    "\n",
    "\\begin{equation}\n",
    "    BB1_{\\theta = \\pi} = R_\\phi(\\pi) R_{3\\phi} (2\\pi) R_{\\phi} (\\pi) R_x (\\theta = \\pi)\n",
    "\\end{equation}\n",
    "\n",
    "where $\\cos\\phi = - \\theta / 4 \\pi$, which is a composite pulse sequence that implements an arbitrary $R_x(\\theta)$ with sixth-order supression of pulse-length errors.\n",
    "In the specific case of $\\theta=\\pi$ we can implement all of these gates directly using the native gates and so this is a good opportunity to verify the usefulness of composite pulses --- this is essentially what we did in the previous homework.\n",
    "\n",
    "First we can import the necessary modules:"
   ]
  },
  {
   "cell_type": "code",
   "execution_count": 2,
   "id": "b9d8ef00",
   "metadata": {},
   "outputs": [],
   "source": [
    "from qiskit_ionq import IonQProvider, GPIGate, GPI2Gate\n",
    "from qiskit.providers.jobstatus import JobStatus\n",
    "\n",
    "\n",
    "import numpy as np\n",
    "import matplotlib.pyplot as plt"
   ]
  },
  {
   "cell_type": "code",
   "execution_count": 3,
   "id": "cc64020b",
   "metadata": {},
   "outputs": [],
   "source": [
    "provider = IonQProvider('p0SJZ9pWbx1Y2gw0BjJilGYXPBNCjAjy')\n",
    "\n",
    "from qiskit.providers.aer import QasmSimulator\n",
    "qasm_backend = QasmSimulator()\n",
    "\n",
    "sim_backend_qis = provider.get_backend('ionq_simulator', gateset='qis')\n",
    "sim_backend_nat = provider.get_backend('ionq_simulator', gateset='native')\n",
    "\n",
    "qpu_backend_qis = provider.get_backend('ionq_qpu', gateset='qis')\n",
    "qpu_backend_nat = provider.get_backend('ionq_qpu', gateset='native')"
   ]
  },
  {
   "cell_type": "code",
   "execution_count": 4,
   "id": "8c60f936",
   "metadata": {},
   "outputs": [],
   "source": [
    "from qiskit import QuantumCircuit\n",
    "from qiskit.visualization import plot_histogram, plot_state_city, plot_bloch_multivector\n",
    "from qiskit.quantum_info import Statevector, DensityMatrix, state_fidelity"
   ]
  },
  {
   "cell_type": "markdown",
   "id": "75763f5f",
   "metadata": {},
   "source": [
    "Let us first consider an implementation using an ideal machine via the QASM simultator and simulating the error directly.\n",
    "\n",
    "Suppose we have a pulse-length error that takes $R_x(\\theta) \\to R_x(\\theta(1+\\epsilon))$.\n",
    "As a result the $R_x(\\pi)$ will over rotate an arbitrary input; some amount of the resulting output will thus measure as 0 rather than 1 as expected:"
   ]
  },
  {
   "cell_type": "code",
   "execution_count": 12,
   "id": "f7242447",
   "metadata": {},
   "outputs": [],
   "source": [
    "# Define the angles\n",
    "theta = np.pi\n",
    "phi = np.arccos(- theta / (4 * np.pi))\n",
    "\n",
    "# Define the error\n",
    "epsilon = 0.1\n",
    "ttheta = np.pi * (1 + epsilon)"
   ]
  },
  {
   "cell_type": "code",
   "execution_count": 13,
   "id": "9bd9a2ad",
   "metadata": {},
   "outputs": [
    {
     "data": {
      "image/png": "[encoded data removed]",
      "text/plain": [
       "<Figure size 297.479x144.48 with 1 Axes>"
      ]
     },
     "execution_count": 13,
     "metadata": {},
     "output_type": "execute_result"
    }
   ],
   "source": [
    "circ_rx = QuantumCircuit(1)\n",
    "\n",
    "# Using a circuit with a pulse-length error\n",
    "circ_rx.rx(theta=ttheta, qubit=0)\n",
    "\n",
    "circ_rx.measure_all()\n",
    "\n",
    "circ_rx.draw('mpl')"
   ]
  },
  {
   "cell_type": "markdown",
   "id": "959e03a5",
   "metadata": {},
   "source": [
    "Now running the job on the QASM simulator backend we see that there is some number of measurements of 0, despite the desired implementation being a $\\pi$ pulse."
   ]
  },
  {
   "cell_type": "code",
   "execution_count": 14,
   "id": "b2df6a70",
   "metadata": {},
   "outputs": [],
   "source": [
    "job = qasm_backend.run(circ_rx, shots=1000000) "
   ]
  },
  {
   "cell_type": "code",
   "execution_count": 15,
   "id": "8c6fde6b",
   "metadata": {},
   "outputs": [
    {
     "data": {
      "image/png": "[encoded data removed]",
      "text/plain": [
       "<Figure size 504x360 with 1 Axes>"
      ]
     },
     "execution_count": 15,
     "metadata": {},
     "output_type": "execute_result"
    }
   ],
   "source": [
    "plot_histogram(job.result().get_counts())"
   ]
  },
  {
   "cell_type": "markdown",
   "id": "d2174d50",
   "metadata": {},
   "source": [
    "Compare this to the BB1$_\\pi$ implementation:"
   ]
  },
  {
   "cell_type": "code",
   "execution_count": 16,
   "id": "9bd9d561",
   "metadata": {},
   "outputs": [
    {
     "data": {
      "image/png": "[encoded data removed]",
      "text/plain": [
       "<Figure size 839.279x144.48 with 1 Axes>"
      ]
     },
     "execution_count": 16,
     "metadata": {},
     "output_type": "execute_result"
    }
   ],
   "source": [
    "circ_BB1 = QuantumCircuit(1)\n",
    "\n",
    "# Note that the error occurs in all parts of the pulse\n",
    "circ_BB1.r(theta=ttheta, phi=0, qubit=0)\n",
    "circ_BB1.barrier()\n",
    "circ_BB1.r(theta=np.pi * (1 + epsilon), phi=phi, qubit=0)\n",
    "circ_BB1.barrier()\n",
    "circ_BB1.r(theta=2*np.pi * (1 + epsilon), phi=3 * phi, qubit=0)\n",
    "circ_BB1.barrier()\n",
    "circ_BB1.r(theta=np.pi * (1 + epsilon), phi=phi, qubit=0)\n",
    "circ_BB1.measure_all()\n",
    "\n",
    "circ_BB1.draw('mpl')"
   ]
  },
  {
   "cell_type": "markdown",
   "id": "3ced6230",
   "metadata": {},
   "source": [
    "Running the job for the BB1 pulse sequence, we see that the errors are significantly surpressed (note that we are running 1 million shots!):"
   ]
  },
  {
   "cell_type": "code",
   "execution_count": 35,
   "id": "9185570c",
   "metadata": {},
   "outputs": [],
   "source": [
    "job = qasm_backend.run(circ_BB1, shots=1000000) "
   ]
  },
  {
   "cell_type": "code",
   "execution_count": 36,
   "id": "8fd15ea5",
   "metadata": {},
   "outputs": [
    {
     "data": {
      "image/png": "[encoded data removed]",
      "text/plain": [
       "<Figure size 504x360 with 1 Axes>"
      ]
     },
     "execution_count": 36,
     "metadata": {},
     "output_type": "execute_result"
    }
   ],
   "source": [
    "plot_histogram(job.result().get_counts())"
   ]
  },
  {
   "cell_type": "markdown",
   "id": "7bc1b0b6",
   "metadata": {},
   "source": [
    "### Implementation with native gates on the IonQ system\n",
    "\n",
    "We can directly implement this sequence using the native gates.\n",
    "\n",
    "First the $R_x(\\pi)$ control experiment which is directly implemented by a GPi pulse:"
   ]
  },
  {
   "cell_type": "code",
   "execution_count": 46,
   "id": "826310b0",
   "metadata": {},
   "outputs": [
    {
     "data": {
      "image/png": "[encoded data removed]",
      "text/plain": [
       "<Figure size 297.479x144.48 with 1 Axes>"
      ]
     },
     "execution_count": 46,
     "metadata": {},
     "output_type": "execute_result"
    }
   ],
   "source": [
    "circ_rx = QuantumCircuit(1)\n",
    "\n",
    "# Implement the Rx(pi) via a single GPI with argument phi = 0\n",
    "circ_rx.append(GPIGate(0),[0]) \n",
    "circ_rx.measure_all()\n",
    "\n",
    "circ_rx.draw('mpl')"
   ]
  },
  {
   "cell_type": "markdown",
   "id": "dc7dcdcb",
   "metadata": {},
   "source": [
    "The BB1 pulse sequence can similarly be implemented using GPi pulses and choosing the argument $\\phi$ correctly:"
   ]
  },
  {
   "cell_type": "code",
   "execution_count": 17,
   "id": "ee40f5d8",
   "metadata": {},
   "outputs": [],
   "source": [
    "# Define the angles\n",
    "theta = np.pi\n",
    "phi = np.arccos(- theta / (4 * np.pi))"
   ]
  },
  {
   "cell_type": "code",
   "execution_count": 18,
   "id": "f05055c3",
   "metadata": {},
   "outputs": [
    {
     "data": {
      "image/png": "[encoded data removed]",
      "text/plain": [
       "<Figure size 718.879x144.48 with 1 Axes>"
      ]
     },
     "execution_count": 18,
     "metadata": {},
     "output_type": "execute_result"
    }
   ],
   "source": [
    "circ_BB1 = QuantumCircuit(1)\n",
    "\n",
    "circ_BB1.append(GPIGate(0),[0]) \n",
    "circ_BB1.barrier()\n",
    "circ_BB1.append(GPIGate(phi),[0]) \n",
    "circ_BB1.barrier()\n",
    "\n",
    "# The 2*pi pulse around 3*phi is implemented via two GPi Gates\n",
    "circ_BB1.append(GPIGate(3 * phi),[0]) \n",
    "circ_BB1.append(GPIGate(3 * phi),[0]) \n",
    "circ_BB1.barrier()\n",
    "circ_BB1.append(GPIGate(phi),[0]) \n",
    "\n",
    "\n",
    "circ_BB1.measure_all()\n",
    "\n",
    "circ_BB1.draw('mpl')"
   ]
  },
  {
   "cell_type": "markdown",
   "id": "42ec8df0",
   "metadata": {},
   "source": [
    "Let us run the jobs on the IonQ simulator backend using the native gateset:"
   ]
  },
  {
   "cell_type": "code",
   "execution_count": 52,
   "id": "f89084ef",
   "metadata": {},
   "outputs": [],
   "source": [
    "job1 = sim_backend_nat.run(circ_rx, shots=100000)\n",
    "job2 = sim_backend_nat.run(circ_BB1, shots=100000)"
   ]
  },
  {
   "cell_type": "code",
   "execution_count": 53,
   "id": "f791805c",
   "metadata": {},
   "outputs": [
    {
     "data": {
      "image/png": "[encoded data removed]",
      "text/plain": [
       "<Figure size 504x360 with 1 Axes>"
      ]
     },
     "execution_count": 53,
     "metadata": {},
     "output_type": "execute_result"
    }
   ],
   "source": [
    "# Direct Rx\n",
    "plot_histogram(job1.result().get_counts())"
   ]
  },
  {
   "cell_type": "code",
   "execution_count": 54,
   "id": "cbc8cbd0",
   "metadata": {},
   "outputs": [
    {
     "data": {
      "image/png": "[encoded data removed]",
      "text/plain": [
       "<Figure size 504x360 with 1 Axes>"
      ]
     },
     "execution_count": 54,
     "metadata": {},
     "output_type": "execute_result"
    }
   ],
   "source": [
    "# BB1 implementation\n",
    "plot_histogram(job2.result().get_counts())"
   ]
  },
  {
   "cell_type": "markdown",
   "id": "02654f8b",
   "metadata": {},
   "source": [
    "Seemingly, the simulator does not seem to include the noise one would expect.\n",
    "We are not sure if this is because the simulator assumes better results than expected or if there is some other resason that leads to this.\n",
    "\n",
    "For now we attempt to run the same experiments on the QPU (with less shots): "
   ]
  },
  {
   "cell_type": "code",
   "execution_count": 69,
   "id": "87698f8a",
   "metadata": {},
   "outputs": [],
   "source": [
    "job1 = qpu_backend_nat.run(circ_rx, shots=10000)\n",
    "job2 = qpu_backend_nat.run(circ_BB1, shots=10000)"
   ]
  },
  {
   "cell_type": "code",
   "execution_count": 70,
   "id": "0d5ad53f",
   "metadata": {},
   "outputs": [
    {
     "name": "stdout",
     "output_type": "stream",
     "text": [
      "job1 (R_x) ID: a3593da7-057e-4608-82ad-9500fcad4d47\n",
      "job2 (BB1) ID: 31135be4-2f7c-4c52-ad28-81f2c256001e\n"
     ]
    }
   ],
   "source": [
    "print('job1 (R_x) ID:', job1.job_id())\n",
    "print('job2 (BB1) ID:', job2.job_id())"
   ]
  },
  {
   "cell_type": "markdown",
   "id": "c33fd5fd",
   "metadata": {},
   "source": [
    "I keep the job IDs here for future reference:\n",
    "\n",
    "    job1 (R_x) ID: a3593da7-057e-4608-82ad-9500fcad4d47\n",
    "    job2 (BB1) ID: 31135be4-2f7c-4c52-ad28-81f2c256001e\n",
    "    \n",
    "As a note for comparison, this job was submitted sometime around 1 am on Monday, 06 June 2022.\n",
    "It is possible that the results will change depending on when the job was submitted since calibrations may be done on the system at different times.\n",
    "    \n",
    "Since it might take some time we will retrieve the jobs directly and check their status with the below code:"
   ]
  },
  {
   "cell_type": "code",
   "execution_count": 4,
   "id": "9d5ed201",
   "metadata": {},
   "outputs": [
    {
     "name": "stdout",
     "output_type": "stream",
     "text": [
      "RX ; ID: a3593da7-057e-4608-82ad-9500fcad4d47 is done? True\n",
      "BB1; ID: 31135be4-2f7c-4c52-ad28-81f2c256001e is done? True\n"
     ]
    }
   ],
   "source": [
    "job1 = qpu_backend_nat.retrieve_job('a3593da7-057e-4608-82ad-9500fcad4d47')\n",
    "job2 = qpu_backend_nat.retrieve_job('31135be4-2f7c-4c52-ad28-81f2c256001e')\n",
    "\n",
    "print('RX ; ID:','a3593da7-057e-4608-82ad-9500fcad4d47', 'is done?',job1.done())\n",
    "print('BB1; ID:','31135be4-2f7c-4c52-ad28-81f2c256001e', 'is done?',job2.done())"
   ]
  },
  {
   "cell_type": "code",
   "execution_count": 5,
   "id": "653dd088",
   "metadata": {},
   "outputs": [
    {
     "data": {
      "image/png": "[encoded data removed]",
      "text/plain": [
       "<Figure size 504x360 with 1 Axes>"
      ]
     },
     "execution_count": 5,
     "metadata": {},
     "output_type": "execute_result"
    }
   ],
   "source": [
    "# Direct Rx\n",
    "plot_histogram(job1.result().get_counts())"
   ]
  },
  {
   "cell_type": "code",
   "execution_count": 6,
   "id": "a7ca0fe4",
   "metadata": {},
   "outputs": [
    {
     "data": {
      "image/png": "[encoded data removed]",
      "text/plain": [
       "<Figure size 504x360 with 1 Axes>"
      ]
     },
     "execution_count": 6,
     "metadata": {},
     "output_type": "execute_result"
    }
   ],
   "source": [
    "# BB1 implementation\n",
    "plot_histogram(job2.result().get_counts())"
   ]
  },
  {
   "cell_type": "markdown",
   "id": "69f6ac9d",
   "metadata": {},
   "source": [
    "Unfortunately, it seems as though the performance of the BB1 circuit is at best comparable to the direct implementation, if not slightly worse.\n",
    "This is perhaps not too surprising since the BB1 sequence is intended to correct for only the specific type of errors corresponding to _consistent_ pulse-length errors.\n",
    "If the errors here are a result of SPAM-type noise or other stochastic sources, then it is likely that these sources of noise are masking any corrections to small pulse length errors that BB1 achieves.\n",
    "Recall that even large errors of about 10% over-rotation in the QASM simulations produced noise to a similar degree (by measure of spurious 0 counts).\n",
    "It would be expected that the IonQ system has pulse-length errors that are at least smaller than this error rate, so the noise signal is expected to be quite small.\n",
    "\n",
    "\n",
    "Very simple heuristic way to check the error is to just consider the effect of SPAM errors and gate fidelity directly.\n",
    "We know from [1] that the average single-qubit gate fidelity is expected to be about 99.3% whereas the SPAM has fidelity of about 99.3-99.8%.\n",
    "Taking the average SPAM error as 99.5% then we can roughly estimate the fidelity of the circuits as a product $F \\approx F_{SPAM} \\cdot (F_{GATE})^N$ where $N$ is the number of gates used.\n",
    "From here we can estimate the $R_x$ circuit to have fidelity $F_{R_x} \\approx 0.995 \\cdot 0.993 \\approx 98.8%$ which is not too far off from the measured \"fidelity\" of the operation if one measures this as the probability that the desired outcome occurs (i.e. measuring a 1).\n",
    "Similarly, we have $N = 5$ for the BB1 circuit giving an estimated fidelity of $F_{BB1} \\approx 96.0%$ which is also quite close to the measured probabilities.\n",
    "This seems to indicate that the increased error rate is likely a result of the lower fidelity of the gates which limits the overal performance directly.\n",
    "Unfortunately this means that the increased number of gates used in the BB1 circuit is expected to increase error rate in most cases; this is especially true if the error is stochastic versus the systematic error targeted by BB1.\n",
    "\n",
    "\n",
    "We are able to have some confidence in this result as the observed signal to noise ratio (SNR, here defined as 1/P(0)) ranges from about 33-66.\n",
    "Given that the number of shots (1e4) should result in an SNR of $\\sqrt{1e4}=100$, we expect the results to **not** be limited by shot noise, but instead other sources such as the decreased gate fidelity as discussed previously."
   ]
  },
  {
   "cell_type": "markdown",
   "id": "b4655dab",
   "metadata": {},
   "source": [
    "## General BB1\n",
    "\n",
    "The goal of this section is to implement a general BB1 protocol using the IonQ system.\n",
    "\n",
    "A challenge that we are forced deal with, however, is that we are not able to do general $R_x(\\theta)$ rotations directly in the IonQ native gate set.\n",
    "Instead we will have to determine a means of implementing such rotations using the native gate set.\n",
    "This is goal of the following subsection."
   ]
  },
  {
   "cell_type": "markdown",
   "id": "1d08b9d4",
   "metadata": {},
   "source": [
    "### Arbitrary rotations with the native gates\n",
    "\n",
    "One challenge that we have to deal with is that the native gates cannot directly implement rotations of arbitrary polar angle (angle with respect to the zenith, or $z$, axis).\n",
    "Physically this could reasonably be implemented in a similar manner to the GPi/GPi2 pulses where an arbitrary angle Rabi oscillation could be peformed, however there are probably good reasons that IonQ has chosen not to enable control pulses of this type.\n",
    "As a result of this however (and due to the fact that the transpiler does not seem to be able to convert such rotations directly) we must determine a means of achieving these rotations ourselves.\n",
    "\n",
    "It is relatively straightforward to perform arbitrary $R_x(\\theta)$ rotations using the GPi and GPi2 pulses.\n",
    "From the previous homework the following sequence can be show to implement such an arbitrary rotation:\n",
    "\n",
    "1. Rotate about $y$ by $-\\pi/2$ --- this puts $+x$ on the $+z$-axis\n",
    "2. Perform the rotation about $z$ by $\\theta$ --- this does the desired arbitrary rotation\n",
    "3. Rotate about $y$ by $+\\pi/2$ --- the $+x$-axis back along $+x$\n",
    "\n",
    "Indeed, if we had access to direct $R_z(\\theta)$ rotations --- which, for whatever reason, IonQ is not keen on providing us --- then we would be able to implement arbitrary rotations about any axis in the $xy$ plane.\n",
    "\n",
    "\n",
    "Let us try it analytically:"
   ]
  },
  {
   "cell_type": "code",
   "execution_count": 1,
   "id": "9ed47959",
   "metadata": {},
   "outputs": [],
   "source": [
    "import sympy as sp"
   ]
  },
  {
   "cell_type": "markdown",
   "id": "00d14146",
   "metadata": {},
   "source": [
    "First we just make the required $R_y(\\theta)$ and $R_z(\\theta)$ gates:"
   ]
  },
  {
   "cell_type": "code",
   "execution_count": 2,
   "id": "4629ce7b",
   "metadata": {},
   "outputs": [],
   "source": [
    "theta = sp.symbols('theta')"
   ]
  },
  {
   "cell_type": "code",
   "execution_count": 4,
   "id": "493af6b0",
   "metadata": {},
   "outputs": [
    {
     "data": {
      "text/latex": [
       "$\\displaystyle \\left[\\begin{matrix}\\cos{\\left(\\frac{\\theta}{2} \\right)} & - \\sin{\\left(\\frac{\\theta}{2} \\right)}\\\\\\sin{\\left(\\frac{\\theta}{2} \\right)} & \\cos{\\left(\\frac{\\theta}{2} \\right)}\\end{matrix}\\right]$"
      ],
      "text/plain": [
       "Matrix([\n",
       "[cos(theta/2), -sin(theta/2)],\n",
       "[sin(theta/2),  cos(theta/2)]])"
      ]
     },
     "execution_count": 4,
     "metadata": {},
     "output_type": "execute_result"
    }
   ],
   "source": [
    "Ry = sp.Matrix(\n",
    "    [[sp.cos(theta/2), - sp.sin(theta/2)],\n",
    "     [sp.sin(theta/2), sp.cos(theta/2) ]]\n",
    ")\n",
    "Ry"
   ]
  },
  {
   "cell_type": "code",
   "execution_count": 5,
   "id": "7b5824e9",
   "metadata": {},
   "outputs": [
    {
     "data": {
      "text/latex": [
       "$\\displaystyle \\left[\\begin{matrix}- i \\sin{\\left(\\frac{\\theta}{2} \\right)} + \\cos{\\left(\\frac{\\theta}{2} \\right)} & 0\\\\0 & i \\sin{\\left(\\frac{\\theta}{2} \\right)} + \\cos{\\left(\\frac{\\theta}{2} \\right)}\\end{matrix}\\right]$"
      ],
      "text/plain": [
       "Matrix([\n",
       "[-I*sin(theta/2) + cos(theta/2),                             0],\n",
       "[                             0, I*sin(theta/2) + cos(theta/2)]])"
      ]
     },
     "execution_count": 5,
     "metadata": {},
     "output_type": "execute_result"
    }
   ],
   "source": [
    "Rz = sp.Matrix(\n",
    "    [[sp.cos(theta/2) - sp.I * sp.sin(theta/2), 0],\n",
    "     [0, sp.cos(theta/2) + sp.I * sp.sin(theta/2)]]\n",
    ")\n",
    "Rz"
   ]
  },
  {
   "cell_type": "markdown",
   "id": "f0edb847",
   "metadata": {},
   "source": [
    "We can define the $R_y$ rotations:"
   ]
  },
  {
   "cell_type": "code",
   "execution_count": 6,
   "id": "8d8f2eff",
   "metadata": {},
   "outputs": [
    {
     "data": {
      "text/latex": [
       "$\\displaystyle \\left[\\begin{matrix}\\frac{\\sqrt{2}}{2} & - \\frac{\\sqrt{2}}{2}\\\\\\frac{\\sqrt{2}}{2} & \\frac{\\sqrt{2}}{2}\\end{matrix}\\right]$"
      ],
      "text/plain": [
       "Matrix([\n",
       "[sqrt(2)/2, -sqrt(2)/2],\n",
       "[sqrt(2)/2,  sqrt(2)/2]])"
      ]
     },
     "execution_count": 6,
     "metadata": {},
     "output_type": "execute_result"
    }
   ],
   "source": [
    "Ry_pi2 = Ry.subs(theta, sp.pi/2)\n",
    "Ry_pi2"
   ]
  },
  {
   "cell_type": "markdown",
   "id": "dc22d6ee",
   "metadata": {},
   "source": [
    "The inverse is just the adjoint:"
   ]
  },
  {
   "cell_type": "code",
   "execution_count": 9,
   "id": "73f4ad61",
   "metadata": {},
   "outputs": [
    {
     "data": {
      "text/latex": [
       "$\\displaystyle \\left[\\begin{matrix}\\frac{\\sqrt{2}}{2} & \\frac{\\sqrt{2}}{2}\\\\- \\frac{\\sqrt{2}}{2} & \\frac{\\sqrt{2}}{2}\\end{matrix}\\right]$"
      ],
      "text/plain": [
       "Matrix([\n",
       "[ sqrt(2)/2, sqrt(2)/2],\n",
       "[-sqrt(2)/2, sqrt(2)/2]])"
      ]
     },
     "execution_count": 9,
     "metadata": {},
     "output_type": "execute_result"
    }
   ],
   "source": [
    "Ry_pi2.adjoint()"
   ]
  },
  {
   "cell_type": "markdown",
   "id": "693df4ba",
   "metadata": {},
   "source": [
    "Implementing the simple pulse sequence gives:"
   ]
  },
  {
   "cell_type": "code",
   "execution_count": 11,
   "id": "440a8bfe",
   "metadata": {},
   "outputs": [
    {
     "data": {
      "text/latex": [
       "$\\displaystyle \\left[\\begin{matrix}\\cos{\\left(\\frac{\\theta}{2} \\right)} & - i \\sin{\\left(\\frac{\\theta}{2} \\right)}\\\\- i \\sin{\\left(\\frac{\\theta}{2} \\right)} & \\cos{\\left(\\frac{\\theta}{2} \\right)}\\end{matrix}\\right]$"
      ],
      "text/plain": [
       "Matrix([\n",
       "[   cos(theta/2), -I*sin(theta/2)],\n",
       "[-I*sin(theta/2),    cos(theta/2)]])"
      ]
     },
     "execution_count": 11,
     "metadata": {},
     "output_type": "execute_result"
    }
   ],
   "source": [
    "Rx =  Ry_pi2 * Rz * Ry_pi2.adjoint()\n",
    "Rx"
   ]
  },
  {
   "cell_type": "markdown",
   "id": "2ee5f4a1",
   "metadata": {},
   "source": [
    "Which is the correct form for $R_x$ which can be seen by comparing to $R_{\\phi=0}(\\theta)$ from above.\n",
    "\n",
    "Thus we implement a general $R_x(\\theta)$ rotation in the native gateset by the unitary\n",
    "\n",
    "\\begin{equation}\n",
    "    R_x(\\theta) = GPI_2(\\phi=\\pi/2) GZ(\\theta) GPI_2^\\dagger(\\phi=\\pi/2) = GPI_2(\\phi=\\pi/2) GZ(\\theta) GPI_2(\\phi=-\\pi/2)\n",
    "\\end{equation}\n",
    "\n",
    "Unfortunately, IonQ does not allow for direct usage of the $GZ(\\theta) = R_z(\\theta)$ gate in the circuit compilation and so we have to manually append the phase offset to all future gates, i.e.\n",
    "\n",
    "\n",
    "\\begin{equation}\n",
    "    R_x(\\theta) \\equiv GPI_2(\\phi=\\pi/2 + \\theta) GPI_2(\\phi=-\\pi/2).\n",
    "\\end{equation}\n",
    "\n",
    "Note that this requires that **all** subsequent gates are phase shifted by $\\theta$."
   ]
  },
  {
   "cell_type": "markdown",
   "id": "4817fd4f",
   "metadata": {},
   "source": [
    "### Implementing general BB1$_\\theta$\n",
    "\n",
    "The BB1 sequence is thus implemented in the native gate set as\n",
    "\n",
    "\\begin{equation}\n",
    "    BB1_{\\theta = \\pi} = \\underbrace{GPI(\\phi + \\theta)}_{R_{\\phi} (\\pi)} \\cdot\n",
    "    \\underbrace{GPI(3\\phi + \\theta)GPI(3\\phi + \\theta)}_{R_{3\\phi} (2\\pi)} \\cdot\n",
    "    \\underbrace{GPI(\\phi + \\theta)}_{R_{\\phi} (\\pi)} \\cdot\n",
    "    \\underbrace{GPI_2(\\pi/2 + \\theta) GPI_2(-\\pi/2)}_{R_x(\\theta)}.\n",
    "\\end{equation}\n",
    "\n",
    "We write a function which allows us to generate circuits implementing this and the plain $R_x(\\theta)$:"
   ]
  },
  {
   "cell_type": "code",
   "execution_count": 66,
   "id": "d0dade19",
   "metadata": {},
   "outputs": [],
   "source": [
    "def get_BB1_circ(theta):\n",
    "    \n",
    "    # Calculate the rotation axis angle\n",
    "    phi = np.arccos(- theta / (4 * np.pi))\n",
    "    \n",
    "    circ = QuantumCircuit(1)\n",
    "\n",
    "    # R_x(theta)\n",
    "    circ.append(GPI2Gate(-0.25),[0]) \n",
    "    circ.append(GPI2Gate(0.25 + theta),[0]) \n",
    "    \n",
    "    circ.barrier()\n",
    "    \n",
    "    # R_{phi}(pi)\n",
    "    circ.append(GPIGate(phi + theta),[0]) \n",
    "    \n",
    "    circ.barrier()\n",
    "\n",
    "    # R_{3phi}(2pi)\n",
    "    circ.append(GPIGate(3 * phi + theta),[0]) \n",
    "    circ.append(GPIGate(3 * phi + theta),[0]) \n",
    "    \n",
    "    circ.barrier()\n",
    "    \n",
    "    # R_{phi}(pi)\n",
    "    circ.append(GPIGate(phi + theta),[0]) \n",
    "\n",
    "    # Measure the qubit\n",
    "    circ.measure_all()\n",
    "\n",
    "    circ.draw('mpl')\n",
    "    \n",
    "    return circ\n",
    "    \n",
    "def get_Rx_circ(theta):\n",
    "    circ = QuantumCircuit(1)\n",
    "\n",
    "    # R_x(theta)\n",
    "    circ.append(GPI2Gate(-0.25),[0]) \n",
    "    circ.append(GPI2Gate(0.25 + theta),[0]) \n",
    "    \n",
    "    # Measure the qubit\n",
    "    circ.measure_all()\n",
    "\n",
    "    circ.draw('mpl')\n",
    "    \n",
    "    return circ"
   ]
  },
  {
   "cell_type": "markdown",
   "id": "aef5c952",
   "metadata": {},
   "source": [
    "#### IonQ Simulator\n",
    "\n",
    "Let us first test attempt to replicate the curves using the QASM simulator:"
   ]
  },
  {
   "cell_type": "code",
   "execution_count": 67,
   "id": "f80ac963",
   "metadata": {},
   "outputs": [
    {
     "data": {
      "text/plain": [
       "array([-0.5, -0.4, -0.3, -0.2, -0.1,  0. ,  0.1,  0.2,  0.3,  0.4,  0.5])"
      ]
     },
     "execution_count": 67,
     "metadata": {},
     "output_type": "execute_result"
    }
   ],
   "source": [
    "thetas = np.linspace(-0.5, 0.5, 11)\n",
    "thetas"
   ]
  },
  {
   "cell_type": "markdown",
   "id": "33c21b46",
   "metadata": {},
   "source": [
    "Note that the angle inputs for the GPi/GPi2 gates are in fractions of $2\\pi$."
   ]
  },
  {
   "cell_type": "code",
   "execution_count": 68,
   "id": "8a78e699",
   "metadata": {},
   "outputs": [],
   "source": [
    "bb1_circuits = []\n",
    "rx_circuits = []\n",
    "\n",
    "for theta in thetas:\n",
    "    bb1_circuits.append(get_BB1_circ(theta))\n",
    "    rx_circuits.append(get_Rx_circ(theta))"
   ]
  },
  {
   "cell_type": "markdown",
   "id": "326067fc",
   "metadata": {},
   "source": [
    "Run the circuits:"
   ]
  },
  {
   "cell_type": "code",
   "execution_count": 69,
   "id": "83125a0c",
   "metadata": {},
   "outputs": [],
   "source": [
    "bb1_jobs = []\n",
    "for circuit in bb1_circuits:\n",
    "    bb1_jobs.append( sim_backend_nat.run(circuit, shots=1000000) )"
   ]
  },
  {
   "cell_type": "code",
   "execution_count": 70,
   "id": "6a118f1a",
   "metadata": {},
   "outputs": [],
   "source": [
    "rx_jobs = []\n",
    "for circuit in rx_circuits:\n",
    "    rx_jobs.append( sim_backend_nat.run(circuit, shots=1000000) )"
   ]
  },
  {
   "cell_type": "markdown",
   "id": "d420e1f8",
   "metadata": {},
   "source": [
    "Analyze the results:"
   ]
  },
  {
   "cell_type": "code",
   "execution_count": 8,
   "id": "0e3c7797",
   "metadata": {},
   "outputs": [],
   "source": [
    "def calc_p0(counts):\n",
    "    \n",
    "    try:\n",
    "        counts['1']\n",
    "    except:\n",
    "        counts['1'] = 0\n",
    "        \n",
    "    try:\n",
    "        counts['0']\n",
    "    except:\n",
    "        counts['0'] = 0\n",
    "    \n",
    "    total = counts['0'] + counts['1']\n",
    "    return counts['0'] / total"
   ]
  },
  {
   "cell_type": "code",
   "execution_count": 72,
   "id": "ccba7870",
   "metadata": {},
   "outputs": [
    {
     "name": "stdout",
     "output_type": "stream",
     "text": [
      "{'1': 1000000}\n",
      "{'0': 96123, '1': 903877}\n",
      "{'0': 345415, '1': 654585}\n",
      "{'0': 653992, '1': 346008}\n",
      "{'0': 904531, '1': 95469}\n",
      "{'0': 1000000}\n",
      "{'0': 904181, '1': 95819}\n",
      "{'0': 654259, '1': 345741}\n",
      "{'0': 345968, '1': 654032}\n",
      "{'0': 95333, '1': 904667}\n",
      "{'1': 1000000}\n"
     ]
    }
   ],
   "source": [
    "bb1_p0s = []\n",
    "for job in bb1_jobs:\n",
    "    print(job.result().get_counts())\n",
    "    \n",
    "    bb1_p0s.append( calc_p0(job.result().get_counts()) )"
   ]
  },
  {
   "cell_type": "code",
   "execution_count": 73,
   "id": "b342d751",
   "metadata": {},
   "outputs": [
    {
     "name": "stdout",
     "output_type": "stream",
     "text": [
      "{'1': 1000000}\n",
      "{'0': 95475, '1': 904525}\n",
      "{'0': 345788, '1': 654212}\n",
      "{'0': 653738, '1': 346262}\n",
      "{'0': 904756, '1': 95244}\n",
      "{'0': 1000000}\n",
      "{'0': 903785, '1': 96215}\n",
      "{'0': 653560, '1': 346440}\n",
      "{'0': 345869, '1': 654131}\n",
      "{'0': 95058, '1': 904942}\n",
      "{'1': 1000000}\n"
     ]
    }
   ],
   "source": [
    "rx_p0s = []\n",
    "for job in rx_jobs:\n",
    "    print(job.result().get_counts())\n",
    "    rx_p0s.append( calc_p0(job.result().get_counts()) )"
   ]
  },
  {
   "cell_type": "markdown",
   "id": "f63f82d3",
   "metadata": {},
   "source": [
    "We can easily see that the general BB1 protocol implements the desired rotation for arbitrary $\\theta$.\n",
    "This is made clear by comparing the count rates to form the curve:"
   ]
  },
  {
   "cell_type": "code",
   "execution_count": 74,
   "id": "210f1854",
   "metadata": {},
   "outputs": [
    {
     "data": {
      "image/png": "[encoded data removed]",
      "text/plain": [
       "<Figure size 432x288 with 1 Axes>"
      ]
     },
     "metadata": {
      "needs_background": "light"
     },
     "output_type": "display_data"
    }
   ],
   "source": [
    "theta = np.linspace(-0.5, 0.5, 100)\n",
    "theory = np.cos(np.pi * theta) ** 2 \n",
    "plt.plot(theta, theory, 'k', label=r'$\\cos^2(\\theta/2)$')\n",
    "\n",
    "plt.plot(thetas, bb1_p0s, 'o--', label=r'BB1$_\\theta$')\n",
    "plt.plot(thetas, rx_p0s, 'o-.', label=r'$R_x(\\theta)$')\n",
    "\n",
    "plt.ylabel(r'Transition probability')\n",
    "plt.xlabel(r'Rotation angle $\\theta$ (units of $2\\pi$)')\n",
    "\n",
    "plt.legend()\n",
    "\n",
    "plt.show()"
   ]
  },
  {
   "cell_type": "markdown",
   "id": "a3f05c65",
   "metadata": {},
   "source": [
    "In the above plot, the black curve is the theoretical curve given for the rotation.\n",
    "Both the BB1 and $R_x$ samples overlap to a great extent.\n",
    "This shows that the BB1 protocol implements the rotation as desired for arbitrary angles (in the case where the noise was determined by the simulation backend).\n",
    "\n",
    "An interesting point to note here is that the effect of pulse length errors does not show up in the same way within the IonQ system for general rotations.\n",
    "The reason for this is that the pulse lengths are tied explicitly to the GPi and GPi2 gates themselves and our general rotation is accomplished using a virtual rotation accomplished by modulating the phases of the individual gates.\n",
    "If there were to be overshooting errors these would be embedded within the GPi and GPi2 gates directly such that they implement slight over-/under-rotations.\n",
    "Our general $R_x(\\theta)$ sequence thus does not obtain simple over-/under-shooting errors, but will instead generally have slight phase errors due to the GPi2 pulses not taking the $x$-axis to the zenith (i.e. the rotations are performed around axes slightly off from $+x$).\n",
    "\n",
    "Thus, the overshooting errors do not affect general rotations in the same way that they do for the \"discrete\" rotations embedded within the gate set.\n",
    "Perhaps unsurprisingly, implenting the BB1 protocol is perhaps best done closest to the machine level, such that the GPi and GPi2 gates directly implement it instead of the general Rabi oscillation pulses it is expected to currently use."
   ]
  },
  {
   "cell_type": "markdown",
   "id": "5ddc5073",
   "metadata": {},
   "source": [
    "## BB1 in the quantum signal processing context\n",
    "\n",
    "Although BB1 may not serve as a means of counteracting error in the currently available NISQ systems, there is potential for BB1 to have significance in other aspects, such as modifying the parameter sensitivity as discussed in [2] and by Prof. Chuang in the lecture.\n",
    "Such modification of the transition probability bears some significance to generalizations of quantum algorithms.\n"
   ]
  },
  {
   "attachments": {
    "Screen%20Shot%202022-06-04%20at%206.23.54%20PM.png": {
     "image/png": "[encoded data removed]"
    }
   },
   "cell_type": "markdown",
   "id": "f61cbabf",
   "metadata": {},
   "source": [
    "![Screen%20Shot%202022-06-04%20at%206.23.54%20PM.png](attachment:Screen%20Shot%202022-06-04%20at%206.23.54%20PM.png)"
   ]
  },
  {
   "cell_type": "markdown",
   "id": "593f93b9",
   "metadata": {},
   "source": [
    "A perhaps confusing point about this figure is that it appears to show that BB1 has different behavior as $\\theta$ is varied in comparison to a general rotation.\n",
    "We know this is not true given our above implementation in the IonQ simulator (both the BB1 and $R_x$ curves have identical shape).\n",
    "Retrospectively, this is the expected behavior --- if the BB1 curve did not match the $R_x$ curve directly then it would not be useful as a general rotation composite pulse!\n",
    "In other words, the modified curve above does not show BB1 in the same context that we have been considering it up to this point.\n",
    "We can understand how this curve is formed from a quantum signal processing (QSP) context."
   ]
  },
  {
   "cell_type": "markdown",
   "id": "f77e76db",
   "metadata": {},
   "source": [
    "Following the discussion in [2], the BB1 sequence (and indeed general QSP sequences) can be represented as a sequence of operations:\n",
    "\n",
    "\\begin{equation}\n",
    "    U = e^{i\\phi_0 Z} \\prod_{k=1}^{d} W(a) e^{i \\phi_k Z},\n",
    "\\end{equation}\n",
    "\n",
    "i.e. a series of interleaved $R_z$ rotations by a vector of angles $\\phi$ and a single operator $W(a)$.\n",
    "To not stray too far from what has already been discussed, we note that the rotation operator $W(a)$ is can be taken to be an $x$-rotation operator by angle $\\theta = -2\\cos^{-1}a$.\n",
    "In otherwords we can let $W(a) = R_x(-2\\cos^{-1}a)$ --- since we want to parameterize in terms of $\\theta$ anyway it is fine to ignore the $a$ variable for this work.\n",
    "\n",
    "As given by [2], the set of phases $\\phi = (\\pi/2, -\\eta, 2\\eta, 0, -2\\eta, \\eta)$ with $\\eta = \\cos^{-1}(-1/4) / 2$ gives the BB1 sequence.\n",
    "This is different from the above BB1 consider in the previous parts.\n",
    "We do not fully understand the distinction between these two sequences.\n",
    "\n",
    "Let us attempt to implement the sequence using the simulators first:"
   ]
  },
  {
   "cell_type": "markdown",
   "id": "564e7de2",
   "metadata": {},
   "source": [
    "### QASM simulation\n",
    "\n",
    "An important note: the QSP description uses a series of $Z$ operator exponentials.\n",
    "This corresponds to a $Z$ rotation, however the precise angle of the rotation is not $\\phi$ but actually $-2\\phi$ due to the definition of the rotation operators. This change is important in following code."
   ]
  },
  {
   "cell_type": "code",
   "execution_count": 108,
   "id": "536982ea",
   "metadata": {},
   "outputs": [],
   "source": [
    "def qsp_bb1(theta):\n",
    "    \n",
    "    circ = QuantumCircuit(1)\n",
    "    \n",
    "    eta = np.arccos(-1/4) / 2\n",
    "    phi = [np.pi/2, -eta, 2*eta, 0, -2*eta, eta]\n",
    "\n",
    "    # 5\n",
    "    circ.rz(phi=-2*phi[5], qubit=0)\n",
    "    circ.rx(theta=theta, qubit=0)\n",
    "    circ.barrier()\n",
    "    \n",
    "    # 4\n",
    "    circ.rz(phi=-2*phi[4], qubit=0)\n",
    "    circ.rx(theta=theta, qubit=0)\n",
    "    circ.barrier()\n",
    "    \n",
    "    # 3\n",
    "    circ.rz(phi=-2*phi[3], qubit=0)\n",
    "    circ.rx(theta=theta, qubit=0)\n",
    "    circ.barrier()\n",
    "    \n",
    "    # 2\n",
    "    circ.rz(phi=-2*phi[2], qubit=0)\n",
    "    circ.rx(theta=theta, qubit=0)\n",
    "    circ.barrier()\n",
    "    \n",
    "    # 1\n",
    "    circ.rz(phi=-2*phi[1], qubit=0)\n",
    "    circ.rx(theta=theta, qubit=0)\n",
    "    circ.barrier()\n",
    "    \n",
    "    # 0\n",
    "    circ.rz(phi=-2*phi[0], qubit=0)\n",
    "    \n",
    "    circ.measure_all()\n",
    "\n",
    "    return circ\n",
    "\n",
    "def Rx_circ(theta):\n",
    "    circ = QuantumCircuit(1)\n",
    "\n",
    "    # R_x(theta)\n",
    "    circ.rx(theta, qubit=0)\n",
    "    \n",
    "    # Measure the qubit\n",
    "    circ.measure_all()\n",
    "    \n",
    "    return circ"
   ]
  },
  {
   "cell_type": "code",
   "execution_count": 109,
   "id": "e66d76e7",
   "metadata": {},
   "outputs": [
    {
     "data": {
      "image/png": "[encoded data removed]",
      "text/plain": [
       "<Figure size 1200.48x144.48 with 1 Axes>"
      ]
     },
     "execution_count": 109,
     "metadata": {},
     "output_type": "execute_result"
    }
   ],
   "source": [
    "qsp_bb1(0).draw('mpl')"
   ]
  },
  {
   "cell_type": "code",
   "execution_count": 114,
   "id": "b1433280",
   "metadata": {},
   "outputs": [],
   "source": [
    "thetas = np.linspace(-np.pi, np.pi, 21)"
   ]
  },
  {
   "cell_type": "code",
   "execution_count": 115,
   "id": "60c3e359",
   "metadata": {},
   "outputs": [],
   "source": [
    "qsp_circuits = []\n",
    "rx_circuits = []\n",
    "\n",
    "for theta in thetas:\n",
    "    qsp_circuits.append( qsp_bb1(theta) )\n",
    "    rx_circuits.append( Rx_circ(theta) )"
   ]
  },
  {
   "cell_type": "code",
   "execution_count": 116,
   "id": "e1e93e05",
   "metadata": {},
   "outputs": [],
   "source": [
    "qsp_p0s = []\n",
    "for circuit in qsp_circuits:\n",
    "    job = qasm_backend.run(circuit, shots=1000000)\n",
    "    qsp_p0s.append( calc_p0(job.result().get_counts()) )"
   ]
  },
  {
   "cell_type": "code",
   "execution_count": 117,
   "id": "f76b7da9",
   "metadata": {},
   "outputs": [],
   "source": [
    "rx_p0s = []\n",
    "for circuit in rx_circuits:\n",
    "    job = qasm_backend.run(circuit, shots=1000000)\n",
    "    rx_p0s.append( calc_p0(job.result().get_counts()) )"
   ]
  },
  {
   "cell_type": "code",
   "execution_count": 122,
   "id": "7d5b7d09",
   "metadata": {},
   "outputs": [
    {
     "data": {
      "image/png": "[encoded data removed]",
      "text/plain": [
       "<Figure size 432x288 with 1 Axes>"
      ]
     },
     "metadata": {
      "needs_background": "light"
     },
     "output_type": "display_data"
    }
   ],
   "source": [
    "theta = np.linspace(-np.pi, np.pi, 100)\n",
    "theory1 = np.cos(theta/2) ** 2 \n",
    "plt.plot(theta, theory1, 'k--', label=r'$\\cos^2(\\theta/2)$')\n",
    "\n",
    "theory2 = (1/8) * np.cos(theta/2) ** 2 * (3 * np.cos(theta/2) ** 8 - 15 * np.cos(theta/2) ** 6 \n",
    "                                         + 35 * np.cos(theta/2) ** 4 - 45 * np.cos(theta/2) ** 2 + 30)\n",
    "plt.plot(theta, theory2, 'k-.', label=r'$f(\\theta)$')\n",
    "\n",
    "plt.plot(thetas, qsp_p0s, 'o', label=r'BB1$_\\theta$')\n",
    "plt.plot(thetas, rx_p0s, 'o', label=r'$R_x(\\theta)$')\n",
    "\n",
    "plt.ylabel(r'Transition probability')\n",
    "plt.xlabel(r'Rotation angle $\\theta$ (rad)')\n",
    "\n",
    "plt.legend()\n",
    "\n",
    "plt.show()"
   ]
  },
  {
   "cell_type": "markdown",
   "id": "0adfc376",
   "metadata": {},
   "source": [
    "We see that results agree with the figure from [2] and the theoretical curve given by\n",
    "\n",
    "\\begin{equation}\n",
    "    f(\\theta) = \\frac{1}{8} \\cos^2\\frac{\\theta}{2} ( 3 \\cos^8\\frac{\\theta}{2} - 15 \\cos^6\\frac{\\theta}{2} + 35 \\cos^4\\frac{\\theta}{2} - 45 \\cos^2\\frac{\\theta}{2} + 30)\n",
    "\\end{equation}\n",
    "\n",
    "which is also given in [2]."
   ]
  },
  {
   "cell_type": "markdown",
   "id": "f1ce4bcb",
   "metadata": {},
   "source": [
    "### IonQ simulator\n",
    "\n",
    "We now seek to implement the QSP BB1 sequence and reproduce the figure using the IonQ simulator with the native gate set.\n",
    "This is accomplished by a similar process."
   ]
  },
  {
   "cell_type": "code",
   "execution_count": 136,
   "id": "7d4f04bd",
   "metadata": {},
   "outputs": [],
   "source": [
    "def qsp_bb1_native(theta):\n",
    "    \n",
    "    circ = QuantumCircuit(1)\n",
    "    \n",
    "    eta = np.arccos(-1/4) / 2\n",
    "    phi = [np.pi/2, -eta, 2*eta, 0, -2*eta, eta]\n",
    "\n",
    "    # 5\n",
    "    delay = -2*phi[5]/(2*np.pi)\n",
    "    # R_x(theta)\n",
    "    # The RZ phase shift is incorporated by the delay term\n",
    "    circ.append(GPI2Gate(-0.25 + delay),[0]) \n",
    "    circ.append(GPI2Gate(0.25 + theta + delay),[0]) \n",
    "    \n",
    "    circ.barrier()\n",
    "    \n",
    "    # 4\n",
    "    # The new delay increases by the new phi and theta from previous gates\n",
    "    delay += -2*phi[4]/(2*np.pi) + theta\n",
    "    # R_x(theta)\n",
    "    circ.append(GPI2Gate(-0.25 + delay),[0]) \n",
    "    circ.append(GPI2Gate(0.25 + theta + delay),[0]) \n",
    "    \n",
    "    circ.barrier()\n",
    "    \n",
    "    # 3\n",
    "    delay += -2*phi[3]/(2*np.pi) + theta\n",
    "    # R_x(theta)\n",
    "    circ.append(GPI2Gate(-0.25 + delay),[0]) \n",
    "    circ.append(GPI2Gate(0.25 + theta + delay),[0]) \n",
    "    \n",
    "    circ.barrier()\n",
    "    \n",
    "    # 2\n",
    "    delay += -2*phi[2]/(2*np.pi) + theta\n",
    "    # R_x(theta)\n",
    "    circ.append(GPI2Gate(-0.25 + delay),[0]) \n",
    "    circ.append(GPI2Gate(0.25 + theta + delay),[0]) \n",
    "    \n",
    "    circ.barrier()\n",
    "    \n",
    "    # 1\n",
    "    delay += -2*phi[1]/(2*np.pi) + theta\n",
    "    # R_x(theta)\n",
    "    circ.append(GPI2Gate(-0.25 + delay),[0]) \n",
    "    circ.append(GPI2Gate(0.25 + theta + delay),[0]) \n",
    "    \n",
    "    # 0\n",
    "    # circ.rz(phi=-2*phi[0], qubit=0)\n",
    "    # We're supposed to have an Rz here but since it does not affect\n",
    "    # the probabilities we just ignore it since we cannot implement it\n",
    "    # using the IonQ system's current toolset.\n",
    "    \n",
    "    circ.measure_all()\n",
    "\n",
    "    return circ\n",
    "\n",
    "def Rx_circ_native(theta):\n",
    "    circ = QuantumCircuit(1)\n",
    "\n",
    "    # R_x(theta)\n",
    "    circ.append(GPI2Gate(-0.25),[0]) \n",
    "    circ.append(GPI2Gate(0.25 + theta),[0]) \n",
    "    \n",
    "    # Measure the qubit\n",
    "    circ.measure_all()\n",
    "    \n",
    "    return circ"
   ]
  },
  {
   "cell_type": "code",
   "execution_count": 126,
   "id": "b0254c7d",
   "metadata": {},
   "outputs": [
    {
     "data": {
      "image/png": "[encoded data removed]",
      "text/plain": [
       "<Figure size 1080.08x144.48 with 1 Axes>"
      ]
     },
     "execution_count": 126,
     "metadata": {},
     "output_type": "execute_result"
    }
   ],
   "source": [
    "qsp_bb1_native(0).draw('mpl')"
   ]
  },
  {
   "cell_type": "markdown",
   "id": "604ff744",
   "metadata": {},
   "source": [
    "Generate the circuits:"
   ]
  },
  {
   "cell_type": "code",
   "execution_count": 12,
   "id": "3f183fab",
   "metadata": {},
   "outputs": [
    {
     "ename": "NameError",
     "evalue": "name 'qsp_bb1_native' is not defined",
     "output_type": "error",
     "traceback": [
      "\u001b[1;31m---------------------------------------------------------------------------\u001b[0m",
      "\u001b[1;31mNameError\u001b[0m                                 Traceback (most recent call last)",
      "\u001b[1;32m<ipython-input-12-d7aeb0b9487e>\u001b[0m in \u001b[0;36m<module>\u001b[1;34m\u001b[0m\n\u001b[0;32m      6\u001b[0m \u001b[1;33m\u001b[0m\u001b[0m\n\u001b[0;32m      7\u001b[0m \u001b[1;32mfor\u001b[0m \u001b[0mtheta\u001b[0m \u001b[1;32min\u001b[0m \u001b[0mthetas\u001b[0m\u001b[1;33m:\u001b[0m\u001b[1;33m\u001b[0m\u001b[1;33m\u001b[0m\u001b[0m\n\u001b[1;32m----> 8\u001b[1;33m     \u001b[0mqsp_circuits\u001b[0m\u001b[1;33m.\u001b[0m\u001b[0mappend\u001b[0m\u001b[1;33m(\u001b[0m \u001b[0mqsp_bb1_native\u001b[0m\u001b[1;33m(\u001b[0m\u001b[0mtheta\u001b[0m\u001b[1;33m)\u001b[0m \u001b[1;33m)\u001b[0m\u001b[1;33m\u001b[0m\u001b[1;33m\u001b[0m\u001b[0m\n\u001b[0m\u001b[0;32m      9\u001b[0m     \u001b[0mrx_circuits\u001b[0m\u001b[1;33m.\u001b[0m\u001b[0mappend\u001b[0m\u001b[1;33m(\u001b[0m \u001b[0mRx_circ_native\u001b[0m\u001b[1;33m(\u001b[0m\u001b[0mtheta\u001b[0m\u001b[1;33m)\u001b[0m \u001b[1;33m)\u001b[0m\u001b[1;33m\u001b[0m\u001b[1;33m\u001b[0m\u001b[0m\n",
      "\u001b[1;31mNameError\u001b[0m: name 'qsp_bb1_native' is not defined"
     ]
    }
   ],
   "source": [
    "# Need to modify to fractional rotations from radians for the native set\n",
    "thetas = np.linspace(-0.5, 0.5, 11)\n",
    "\n",
    "qsp_circuits = []\n",
    "rx_circuits = []\n",
    "\n",
    "for theta in thetas:\n",
    "    qsp_circuits.append( qsp_bb1_native(theta) )\n",
    "    rx_circuits.append( Rx_circ_native(theta) )"
   ]
  },
  {
   "cell_type": "markdown",
   "id": "00dd6847",
   "metadata": {},
   "source": [
    "Run the circuits on the simulator:"
   ]
  },
  {
   "cell_type": "code",
   "execution_count": 138,
   "id": "8e2d3049",
   "metadata": {},
   "outputs": [],
   "source": [
    "qsp_p0s = []\n",
    "for circuit in qsp_circuits:\n",
    "    job = sim_backend_nat.run(circuit, shots=10000)\n",
    "    qsp_p0s.append( calc_p0(job.result().get_counts()) )"
   ]
  },
  {
   "cell_type": "code",
   "execution_count": 132,
   "id": "17a7290e",
   "metadata": {},
   "outputs": [],
   "source": [
    "rx_p0s = []\n",
    "for circuit in rx_circuits:\n",
    "    job = sim_backend_nat.run(circuit, shots=10000)\n",
    "    rx_p0s.append( calc_p0(job.result().get_counts()) )"
   ]
  },
  {
   "cell_type": "code",
   "execution_count": 139,
   "id": "13d824f0",
   "metadata": {},
   "outputs": [
    {
     "data": {
      "image/png": "[encoded data removed]",
      "text/plain": [
       "<Figure size 432x288 with 1 Axes>"
      ]
     },
     "metadata": {
      "needs_background": "light"
     },
     "output_type": "display_data"
    }
   ],
   "source": [
    "theta = np.linspace(-np.pi, np.pi, 100)\n",
    "theory1 = np.cos(theta/2) ** 2 \n",
    "plt.plot(theta, theory1, 'k--', label=r'$\\cos^2(\\theta/2)$')\n",
    "\n",
    "theory2 = (1/8) * np.cos(theta/2) ** 2 * (3 * np.cos(theta/2) ** 8 - 15 * np.cos(theta/2) ** 6 \n",
    "                                         + 35 * np.cos(theta/2) ** 4 - 45 * np.cos(theta/2) ** 2 + 30)\n",
    "plt.plot(theta, theory2, 'k-.', label=r'$f(\\theta)$')\n",
    "\n",
    "\n",
    "plt.plot(2*np.pi*thetas, qsp_p0s, 'o', label=r'BB1$_\\theta$')\n",
    "plt.plot(2*np.pi*thetas, rx_p0s, 'o', label=r'$R_x(\\theta)$')\n",
    "\n",
    "plt.ylabel(r'Transition probability')\n",
    "plt.xlabel(r'Rotation angle $\\theta$ (rad)')\n",
    "\n",
    "plt.legend()\n",
    "\n",
    "plt.show()"
   ]
  },
  {
   "cell_type": "markdown",
   "id": "99e32c07",
   "metadata": {},
   "source": [
    "This reproduces the figure using the native gate set on the IonQ simulator."
   ]
  },
  {
   "cell_type": "markdown",
   "id": "ce27bccf",
   "metadata": {},
   "source": [
    "### IonQ QPU\n",
    "\n",
    "Now we run the same code on the IonQ QPU.\n",
    "\n",
    "These jobs were submitted on Monday 6 June 2022 around 4 pm."
   ]
  },
  {
   "cell_type": "code",
   "execution_count": 140,
   "id": "a1dfb2eb",
   "metadata": {},
   "outputs": [
    {
     "name": "stdout",
     "output_type": "stream",
     "text": [
      "Running jobs for the QSP circuits...\n",
      "Job ID: ceb541c2-872c-461e-a3e3-27a69775ff3b\n",
      "Job ID: bae5fa52-c0b6-413e-bae3-1314e1d5b6b8\n",
      "Job ID: fd307cbe-10e4-480d-95a0-d83e18999121\n",
      "Job ID: 0ed139a2-d512-4039-bd58-9260a07211a3\n",
      "Job ID: 03e3a593-64f1-4a79-b58c-f510a4bd5e38\n",
      "Job ID: 93a94029-3549-436f-a5fa-1e7739b892aa\n",
      "Job ID: 95aaf15f-10cd-42d9-86b9-f479b9bf7038\n",
      "Job ID: 295de550-c47c-429b-b317-369331d2d828\n",
      "Job ID: e9bd063f-d738-4e87-aeaf-83e2d2944e59\n",
      "Job ID: e9a44f2a-e8bc-45fc-88f1-a84331e10e7c\n",
      "Job ID: 2415f8e1-e527-4903-8cf4-b7f9e89cfa73\n"
     ]
    }
   ],
   "source": [
    "'''\n",
    "qsp_jobs = []\n",
    "print('Running jobs for the QSP circuits...')\n",
    "for circuit in qsp_circuits:\n",
    "    job = qpu_backend_nat.run(circuit, shots=10000)\n",
    "    print('Job ID:', job.job_id())\n",
    "'''"
   ]
  },
  {
   "cell_type": "markdown",
   "id": "56ed24ca",
   "metadata": {},
   "source": [
    "Copying the Job IDs below:\n",
    "\n",
    "    Running jobs for the QSP circuits...\n",
    "    Job ID: ceb541c2-872c-461e-a3e3-27a69775ff3b\n",
    "    Job ID: bae5fa52-c0b6-413e-bae3-1314e1d5b6b8\n",
    "    Job ID: fd307cbe-10e4-480d-95a0-d83e18999121\n",
    "    Job ID: 0ed139a2-d512-4039-bd58-9260a07211a3\n",
    "    Job ID: 03e3a593-64f1-4a79-b58c-f510a4bd5e38\n",
    "    Job ID: 93a94029-3549-436f-a5fa-1e7739b892aa\n",
    "    Job ID: 95aaf15f-10cd-42d9-86b9-f479b9bf7038\n",
    "    Job ID: 295de550-c47c-429b-b317-369331d2d828\n",
    "    Job ID: e9bd063f-d738-4e87-aeaf-83e2d2944e59\n",
    "    Job ID: e9a44f2a-e8bc-45fc-88f1-a84331e10e7c\n",
    "    Job ID: 2415f8e1-e527-4903-8cf4-b7f9e89cfa73"
   ]
  },
  {
   "cell_type": "code",
   "execution_count": 5,
   "id": "2c129edd",
   "metadata": {},
   "outputs": [
    {
     "name": "stdout",
     "output_type": "stream",
     "text": [
      "QSP Jobs are done?\n",
      "True\n",
      "True\n",
      "True\n",
      "True\n",
      "True\n",
      "True\n",
      "True\n",
      "True\n",
      "True\n",
      "True\n",
      "True\n"
     ]
    }
   ],
   "source": [
    "qsp_jobs_retrieved = [qpu_backend_nat.retrieve_job('ceb541c2-872c-461e-a3e3-27a69775ff3b'),\n",
    "                      qpu_backend_nat.retrieve_job('bae5fa52-c0b6-413e-bae3-1314e1d5b6b8'),\n",
    "                      qpu_backend_nat.retrieve_job('fd307cbe-10e4-480d-95a0-d83e18999121'),\n",
    "                      qpu_backend_nat.retrieve_job('0ed139a2-d512-4039-bd58-9260a07211a3'),\n",
    "                      qpu_backend_nat.retrieve_job('03e3a593-64f1-4a79-b58c-f510a4bd5e38'),\n",
    "                      qpu_backend_nat.retrieve_job('93a94029-3549-436f-a5fa-1e7739b892aa'),\n",
    "                      qpu_backend_nat.retrieve_job('95aaf15f-10cd-42d9-86b9-f479b9bf7038'),\n",
    "                      qpu_backend_nat.retrieve_job('295de550-c47c-429b-b317-369331d2d828'),\n",
    "                      qpu_backend_nat.retrieve_job('e9bd063f-d738-4e87-aeaf-83e2d2944e59'),\n",
    "                      qpu_backend_nat.retrieve_job('e9a44f2a-e8bc-45fc-88f1-a84331e10e7c'),\n",
    "                      qpu_backend_nat.retrieve_job('2415f8e1-e527-4903-8cf4-b7f9e89cfa73')\n",
    "                     ] \n",
    "\n",
    "print('QSP Jobs are done?')\n",
    "for job in qsp_jobs_retrieved:\n",
    "    print(job.done())"
   ]
  },
  {
   "cell_type": "code",
   "execution_count": 152,
   "id": "898a65eb",
   "metadata": {},
   "outputs": [
    {
     "name": "stdout",
     "output_type": "stream",
     "text": [
      "Running jobs for the Rx circuits...\n",
      "Job ID: 415bd81a-43df-4b41-810f-2a2c503a7a84\n",
      "Job ID: 8cf7a1ee-01d2-4619-9b59-46c98cd2e76d\n",
      "Job ID: 6bc180b6-753e-4fd4-bd77-6396ea1a69ee\n",
      "Job ID: 8b17d21a-b7b8-4723-8934-aa8cf08a51bc\n",
      "Job ID: 999a3110-114e-4466-8c30-8ee482cd696c\n",
      "Job ID: 704e018c-23c0-46ac-a146-5b6a68a28377\n",
      "Job ID: 26c541d1-dc15-43c7-a772-a67f83726e45\n",
      "Job ID: 23b33eb3-5e41-436c-ab0a-bc32b48e2e47\n",
      "Job ID: 30cd4db4-40d2-482b-a0dc-eaf5983271bc\n",
      "Job ID: 96adec6b-c466-4ea1-958d-2dac93fcca39\n",
      "Job ID: 2d668b8c-8cde-4584-803c-2a3d7bba13b9\n"
     ]
    }
   ],
   "source": [
    "'''\n",
    "rx_jobs = []\n",
    "print('Running jobs for the Rx circuits...')\n",
    "for circuit in rx_circuits:\n",
    "    job = qpu_backend_nat.run(circuit, shots=10000)\n",
    "    print('Job ID:', job.job_id())\n",
    "'''"
   ]
  },
  {
   "cell_type": "markdown",
   "id": "c392e406",
   "metadata": {},
   "source": [
    "(I accidentally submitted multiple jobs so the IDs do not match here)"
   ]
  },
  {
   "cell_type": "markdown",
   "id": "d0534ac0",
   "metadata": {},
   "source": [
    "These are the actual job IDs (the others were cancelled):\n",
    "\n",
    "    Running jobs for the Rx circuits...\n",
    "    Job ID: d703767e-e784-459f-8b7b-dc18261c6591\n",
    "    Job ID: 9a893c74-f4ce-4b64-b7ce-315b1ee42c98\n",
    "    Job ID: 8403283d-0e97-49fe-8d87-dd421ddadc8f\n",
    "    Job ID: ef523668-9586-45aa-8ed5-d21f38065f19\n",
    "    Job ID: 5e6c6fc5-ce78-4c1f-9632-90e5ba2023c1\n",
    "    Job ID: 11db1616-f182-4d12-bc35-96db0c85948a\n",
    "    Job ID: d5f2440c-f240-4368-a60c-06fbe5d3284b\n",
    "    Job ID: 12efef36-4d50-463c-89d8-f26666a84947\n",
    "    Job ID: d2ffc60f-3367-4ffc-aad8-a0d71c9d6121\n",
    "    Job ID: 3f65abc4-3e33-4957-80cf-c7820882ecf5\n",
    "    Job ID: 341eac5e-6091-41d4-8449-6da963fc5e34"
   ]
  },
  {
   "cell_type": "code",
   "execution_count": 6,
   "id": "a819c087",
   "metadata": {},
   "outputs": [
    {
     "name": "stdout",
     "output_type": "stream",
     "text": [
      "Rx Jobs are done?\n",
      "True\n",
      "True\n",
      "True\n",
      "True\n",
      "True\n",
      "True\n",
      "True\n",
      "True\n",
      "True\n",
      "True\n",
      "True\n"
     ]
    }
   ],
   "source": [
    "rx_jobs_retrieved = [qpu_backend_nat.retrieve_job('d703767e-e784-459f-8b7b-dc18261c6591'),\n",
    "                     qpu_backend_nat.retrieve_job('9a893c74-f4ce-4b64-b7ce-315b1ee42c98'),\n",
    "                     qpu_backend_nat.retrieve_job('8403283d-0e97-49fe-8d87-dd421ddadc8f'),\n",
    "                     qpu_backend_nat.retrieve_job('ef523668-9586-45aa-8ed5-d21f38065f19'),\n",
    "                     qpu_backend_nat.retrieve_job('5e6c6fc5-ce78-4c1f-9632-90e5ba2023c1'),\n",
    "                     qpu_backend_nat.retrieve_job('11db1616-f182-4d12-bc35-96db0c85948a'),\n",
    "                     qpu_backend_nat.retrieve_job('d5f2440c-f240-4368-a60c-06fbe5d3284b'),\n",
    "                     qpu_backend_nat.retrieve_job('12efef36-4d50-463c-89d8-f26666a84947'),\n",
    "                     qpu_backend_nat.retrieve_job('d2ffc60f-3367-4ffc-aad8-a0d71c9d6121'),\n",
    "                     qpu_backend_nat.retrieve_job('3f65abc4-3e33-4957-80cf-c7820882ecf5'),\n",
    "                     qpu_backend_nat.retrieve_job('341eac5e-6091-41d4-8449-6da963fc5e34')\n",
    "                    ] \n",
    "\n",
    "print('Rx Jobs are done?')\n",
    "for job in rx_jobs_retrieved:\n",
    "    print(job.done())"
   ]
  },
  {
   "cell_type": "markdown",
   "id": "60636bbe",
   "metadata": {},
   "source": [
    "Processing the results:"
   ]
  },
  {
   "cell_type": "code",
   "execution_count": 9,
   "id": "5859c02e",
   "metadata": {},
   "outputs": [
    {
     "name": "stdout",
     "output_type": "stream",
     "text": [
      "{'0': 151, '1': 9849}\n",
      "{'0': 3034, '1': 6966}\n",
      "{'0': 7810, '1': 2190}\n",
      "{'0': 9691, '1': 309}\n",
      "{'0': 9971, '1': 29}\n",
      "{'0': 15988}\n",
      "{'0': 9929, '1': 71}\n",
      "{'0': 9216, '1': 784}\n",
      "{'0': 7018, '1': 2982}\n",
      "{'0': 2694, '1': 7306}\n",
      "{'0': 86, '1': 9914}\n"
     ]
    }
   ],
   "source": [
    "qsp_p0s = []\n",
    "for job in qsp_jobs_retrieved:\n",
    "    print(job.result().get_counts())\n",
    "    qsp_p0s.append( calc_p0(job.result().get_counts()) )"
   ]
  },
  {
   "cell_type": "code",
   "execution_count": 10,
   "id": "1d554abb",
   "metadata": {},
   "outputs": [
    {
     "name": "stdout",
     "output_type": "stream",
     "text": [
      "{'0': 46, '1': 9954}\n",
      "{'0': 976, '1': 9024}\n",
      "{'0': 3437, '1': 6563}\n",
      "{'0': 6506, '1': 3494}\n",
      "{'0': 8994, '1': 1006}\n",
      "{'0': 14992}\n",
      "{'0': 9076, '1': 924}\n",
      "{'0': 6656, '1': 3344}\n",
      "{'0': 3538, '1': 6462}\n",
      "{'0': 1075, '1': 8925}\n",
      "{'0': 50, '1': 9950}\n"
     ]
    }
   ],
   "source": [
    "rx_p0s = []\n",
    "for job in rx_jobs_retrieved:\n",
    "    print(job.result().get_counts())\n",
    "    rx_p0s.append( calc_p0(job.result().get_counts()) )"
   ]
  },
  {
   "cell_type": "code",
   "execution_count": 13,
   "id": "3f4472df",
   "metadata": {},
   "outputs": [
    {
     "data": {
      "image/png": "[encoded data removed]",
      "text/plain": [
       "<Figure size 432x288 with 1 Axes>"
      ]
     },
     "metadata": {
      "needs_background": "light"
     },
     "output_type": "display_data"
    }
   ],
   "source": [
    "theta = np.linspace(-np.pi, np.pi, 100)\n",
    "theory1 = np.cos(theta/2) ** 2 \n",
    "plt.plot(theta, theory1, 'k--', label=r'$\\cos^2(\\theta/2)$')\n",
    "\n",
    "theory2 = (1/8) * np.cos(theta/2) ** 2 * (3 * np.cos(theta/2) ** 8 - 15 * np.cos(theta/2) ** 6 \n",
    "                                         + 35 * np.cos(theta/2) ** 4 - 45 * np.cos(theta/2) ** 2 + 30)\n",
    "plt.plot(theta, theory2, 'k-.', label=r'$f(\\theta)$')\n",
    "\n",
    "\n",
    "plt.plot(2*np.pi*thetas, qsp_p0s, 'o', label=r'BB1$_\\theta$')\n",
    "plt.plot(2*np.pi*thetas, rx_p0s, 'o', label=r'$R_x(\\theta)$')\n",
    "\n",
    "plt.ylabel(r'Transition probability')\n",
    "plt.xlabel(r'Rotation angle $\\theta$ (rad)')\n",
    "\n",
    "plt.legend()\n",
    "\n",
    "plt.show()"
   ]
  },
  {
   "cell_type": "markdown",
   "id": "201f200c",
   "metadata": {},
   "source": []
  },
  {
   "cell_type": "markdown",
   "id": "3c6e41e6",
   "metadata": {},
   "source": [
    "## Conclusion and discussion\n",
    "\n"
   ]
  }
 ],
 "metadata": {
  "kernelspec": {
   "display_name": "Python 3 (ipykernel)",
   "language": "python",
   "name": "python3"
  },
  "language_info": {
   "codemirror_mode": {
    "name": "ipython",
    "version": 3
   },
   "file_extension": ".py",
   "mimetype": "text/x-python",
   "name": "python",
   "nbconvert_exporter": "python",
   "pygments_lexer": "ipython3",
   "version": "3.7.13"
  }
 },
 "nbformat": 4,
 "nbformat_minor": 5
}
